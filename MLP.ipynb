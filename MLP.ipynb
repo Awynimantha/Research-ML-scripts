{
  "cells": [
    {
      "cell_type": "markdown",
      "metadata": {
        "id": "view-in-github",
        "colab_type": "text"
      },
      "source": [
        "<a href=\"https://colab.research.google.com/github/Awynimantha/Research-ML-scripts/blob/main/MLP.ipynb\" target=\"_parent\"><img src=\"https://colab.research.google.com/assets/colab-badge.svg\" alt=\"Open In Colab\"/></a>"
      ]
    },
    {
      "cell_type": "markdown",
      "metadata": {
        "id": "zh4ucJ-P70ZO"
      },
      "source": [
        "# MLP"
      ]
    },
    {
      "cell_type": "code",
      "execution_count": null,
      "metadata": {
        "colab": {
          "base_uri": "https://localhost:8080/",
          "height": 374
        },
        "id": "mWEP3kN07xHV",
        "outputId": "9dc9ef6f-ca9a-431a-b23a-c877a8fd7056"
      },
      "outputs": [
        {
          "output_type": "stream",
          "name": "stdout",
          "text": [
            "Num GPUs Available: 0\n"
          ]
        },
        {
          "output_type": "error",
          "ename": "MessageError",
          "evalue": "Error: credential propagation was unsuccessful",
          "traceback": [
            "\u001b[0;31m---------------------------------------------------------------------------\u001b[0m",
            "\u001b[0;31mMessageError\u001b[0m                              Traceback (most recent call last)",
            "\u001b[0;32m<ipython-input-1-10f72a3d5379>\u001b[0m in \u001b[0;36m<cell line: 0>\u001b[0;34m()\u001b[0m\n\u001b[1;32m     12\u001b[0m \u001b[0;34m\u001b[0m\u001b[0m\n\u001b[1;32m     13\u001b[0m \u001b[0;32mfrom\u001b[0m \u001b[0mgoogle\u001b[0m\u001b[0;34m.\u001b[0m\u001b[0mcolab\u001b[0m \u001b[0;32mimport\u001b[0m \u001b[0mdrive\u001b[0m\u001b[0;34m\u001b[0m\u001b[0;34m\u001b[0m\u001b[0m\n\u001b[0;32m---> 14\u001b[0;31m \u001b[0mdrive\u001b[0m\u001b[0;34m.\u001b[0m\u001b[0mmount\u001b[0m\u001b[0;34m(\u001b[0m\u001b[0;34m'/content/drive'\u001b[0m\u001b[0;34m)\u001b[0m\u001b[0;34m\u001b[0m\u001b[0;34m\u001b[0m\u001b[0m\n\u001b[0m\u001b[1;32m     15\u001b[0m \u001b[0;34m\u001b[0m\u001b[0m\n\u001b[1;32m     16\u001b[0m \u001b[0;31m# file1 = h5py.File(\"/content/drive/MyDrive/signal data/dataset-benign-latest.h5\", \"r\")\u001b[0m\u001b[0;34m\u001b[0m\u001b[0;34m\u001b[0m\u001b[0m\n",
            "\u001b[0;32m/usr/local/lib/python3.11/dist-packages/google/colab/drive.py\u001b[0m in \u001b[0;36mmount\u001b[0;34m(mountpoint, force_remount, timeout_ms, readonly)\u001b[0m\n\u001b[1;32m     98\u001b[0m \u001b[0;32mdef\u001b[0m \u001b[0mmount\u001b[0m\u001b[0;34m(\u001b[0m\u001b[0mmountpoint\u001b[0m\u001b[0;34m,\u001b[0m \u001b[0mforce_remount\u001b[0m\u001b[0;34m=\u001b[0m\u001b[0;32mFalse\u001b[0m\u001b[0;34m,\u001b[0m \u001b[0mtimeout_ms\u001b[0m\u001b[0;34m=\u001b[0m\u001b[0;36m120000\u001b[0m\u001b[0;34m,\u001b[0m \u001b[0mreadonly\u001b[0m\u001b[0;34m=\u001b[0m\u001b[0;32mFalse\u001b[0m\u001b[0;34m)\u001b[0m\u001b[0;34m:\u001b[0m\u001b[0;34m\u001b[0m\u001b[0;34m\u001b[0m\u001b[0m\n\u001b[1;32m     99\u001b[0m   \u001b[0;34m\"\"\"Mount your Google Drive at the specified mountpoint path.\"\"\"\u001b[0m\u001b[0;34m\u001b[0m\u001b[0;34m\u001b[0m\u001b[0m\n\u001b[0;32m--> 100\u001b[0;31m   return _mount(\n\u001b[0m\u001b[1;32m    101\u001b[0m       \u001b[0mmountpoint\u001b[0m\u001b[0;34m,\u001b[0m\u001b[0;34m\u001b[0m\u001b[0;34m\u001b[0m\u001b[0m\n\u001b[1;32m    102\u001b[0m       \u001b[0mforce_remount\u001b[0m\u001b[0;34m=\u001b[0m\u001b[0mforce_remount\u001b[0m\u001b[0;34m,\u001b[0m\u001b[0;34m\u001b[0m\u001b[0;34m\u001b[0m\u001b[0m\n",
            "\u001b[0;32m/usr/local/lib/python3.11/dist-packages/google/colab/drive.py\u001b[0m in \u001b[0;36m_mount\u001b[0;34m(mountpoint, force_remount, timeout_ms, ephemeral, readonly)\u001b[0m\n\u001b[1;32m    135\u001b[0m   )\n\u001b[1;32m    136\u001b[0m   \u001b[0;32mif\u001b[0m \u001b[0mephemeral\u001b[0m\u001b[0;34m:\u001b[0m\u001b[0;34m\u001b[0m\u001b[0;34m\u001b[0m\u001b[0m\n\u001b[0;32m--> 137\u001b[0;31m     _message.blocking_request(\n\u001b[0m\u001b[1;32m    138\u001b[0m         \u001b[0;34m'request_auth'\u001b[0m\u001b[0;34m,\u001b[0m\u001b[0;34m\u001b[0m\u001b[0;34m\u001b[0m\u001b[0m\n\u001b[1;32m    139\u001b[0m         \u001b[0mrequest\u001b[0m\u001b[0;34m=\u001b[0m\u001b[0;34m{\u001b[0m\u001b[0;34m'authType'\u001b[0m\u001b[0;34m:\u001b[0m \u001b[0;34m'dfs_ephemeral'\u001b[0m\u001b[0;34m}\u001b[0m\u001b[0;34m,\u001b[0m\u001b[0;34m\u001b[0m\u001b[0;34m\u001b[0m\u001b[0m\n",
            "\u001b[0;32m/usr/local/lib/python3.11/dist-packages/google/colab/_message.py\u001b[0m in \u001b[0;36mblocking_request\u001b[0;34m(request_type, request, timeout_sec, parent)\u001b[0m\n\u001b[1;32m    174\u001b[0m       \u001b[0mrequest_type\u001b[0m\u001b[0;34m,\u001b[0m \u001b[0mrequest\u001b[0m\u001b[0;34m,\u001b[0m \u001b[0mparent\u001b[0m\u001b[0;34m=\u001b[0m\u001b[0mparent\u001b[0m\u001b[0;34m,\u001b[0m \u001b[0mexpect_reply\u001b[0m\u001b[0;34m=\u001b[0m\u001b[0;32mTrue\u001b[0m\u001b[0;34m\u001b[0m\u001b[0;34m\u001b[0m\u001b[0m\n\u001b[1;32m    175\u001b[0m   )\n\u001b[0;32m--> 176\u001b[0;31m   \u001b[0;32mreturn\u001b[0m \u001b[0mread_reply_from_input\u001b[0m\u001b[0;34m(\u001b[0m\u001b[0mrequest_id\u001b[0m\u001b[0;34m,\u001b[0m \u001b[0mtimeout_sec\u001b[0m\u001b[0;34m)\u001b[0m\u001b[0;34m\u001b[0m\u001b[0;34m\u001b[0m\u001b[0m\n\u001b[0m",
            "\u001b[0;32m/usr/local/lib/python3.11/dist-packages/google/colab/_message.py\u001b[0m in \u001b[0;36mread_reply_from_input\u001b[0;34m(message_id, timeout_sec)\u001b[0m\n\u001b[1;32m    101\u001b[0m     ):\n\u001b[1;32m    102\u001b[0m       \u001b[0;32mif\u001b[0m \u001b[0;34m'error'\u001b[0m \u001b[0;32min\u001b[0m \u001b[0mreply\u001b[0m\u001b[0;34m:\u001b[0m\u001b[0;34m\u001b[0m\u001b[0;34m\u001b[0m\u001b[0m\n\u001b[0;32m--> 103\u001b[0;31m         \u001b[0;32mraise\u001b[0m \u001b[0mMessageError\u001b[0m\u001b[0;34m(\u001b[0m\u001b[0mreply\u001b[0m\u001b[0;34m[\u001b[0m\u001b[0;34m'error'\u001b[0m\u001b[0;34m]\u001b[0m\u001b[0;34m)\u001b[0m\u001b[0;34m\u001b[0m\u001b[0;34m\u001b[0m\u001b[0m\n\u001b[0m\u001b[1;32m    104\u001b[0m       \u001b[0;32mreturn\u001b[0m \u001b[0mreply\u001b[0m\u001b[0;34m.\u001b[0m\u001b[0mget\u001b[0m\u001b[0;34m(\u001b[0m\u001b[0;34m'data'\u001b[0m\u001b[0;34m,\u001b[0m \u001b[0;32mNone\u001b[0m\u001b[0;34m)\u001b[0m\u001b[0;34m\u001b[0m\u001b[0;34m\u001b[0m\u001b[0m\n\u001b[1;32m    105\u001b[0m \u001b[0;34m\u001b[0m\u001b[0m\n",
            "\u001b[0;31mMessageError\u001b[0m: Error: credential propagation was unsuccessful"
          ]
        }
      ],
      "source": [
        "import h5py\n",
        "import numpy as np\n",
        "import matplotlib.pyplot as plt\n",
        "from scipy import signal\n",
        "import gc as gc\n",
        "from sklearn.metrics import confusion_matrix\n",
        "from sklearn.metrics import classification_report\n",
        "from sklearn.neural_network import MLPClassifier\n",
        "import tensorflow as tf\n",
        "\n",
        "print(\"Num GPUs Available:\", len(tf.config.list_physical_devices('GPU')))\n",
        "\n",
        "from google.colab import drive\n",
        "drive.mount('/content/drive')\n",
        "\n",
        "# file1 = h5py.File(\"/content/drive/MyDrive/signal data/dataset-benign-latest.h5\", \"r\")\n",
        "# file2 = h5py.File(\"/content/drive/MyDrive/signal data/dataset-infected-latest.h5\", \"r\")\n",
        "# file3 = h5py.File(\"/content/drive/MyDrive/signal data/dataset-infected-test.h5\", \"r\")\n",
        "# file4 = h5py.File(\"/content/drive/MyDrive/signal data/test-data-idle.h5\", \"r\")\n",
        "file1 = h5py.File(\"/content/drive/MyDrive/signal data/big-benign.h5\", \"r\")\n",
        "file2 = h5py.File(\"/content/drive/MyDrive/signal data/big-infected.h5\", \"r\")\n",
        "file3 = h5py.File(\"/content/drive/MyDrive/signal data/test-benign-idle-5.h5\", \"r\")\n",
        "file4 = h5py.File(\"/content/drive/MyDrive/signal data/test-infected-idle-5.h5\", \"r\")\n",
        "file5 = h5py.File(\"/content/drive/MyDrive/signal data/test-data.h5\", \"r\")\n",
        "\n",
        "file6 = h5py.File(\"/content/drive/MyDrive/signal data/benign-vm.h5\", \"r\")\n",
        "file7 = h5py.File(\"/content/drive/MyDrive/signal data/infected-gamesall.h5\", \"r\")"
      ]
    },
    {
      "cell_type": "code",
      "execution_count": null,
      "metadata": {
        "colab": {
          "base_uri": "https://localhost:8080/"
        },
        "id": "Plkf4gmZtV0n",
        "outputId": "ce3648e3-8880-4b79-f642-fc79c3bc9b1e"
      },
      "outputs": [
        {
          "name": "stdout",
          "output_type": "stream",
          "text": [
            "<KeysViewHDF5 ['benign-idle0', 'benign-idle0_file3', 'benign-idle0_file3_file4', 'benign-idle0_file4', 'benign-idle0_file5', 'benign-idle0_file8', 'benign-idle1', 'benign-idle10', 'benign-idle10_file3', 'benign-idle10_file3_file4', 'benign-idle10_file4', 'benign-idle10_file5', 'benign-idle10_file8', 'benign-idle11', 'benign-idle11_file3', 'benign-idle11_file4', 'benign-idle11_file8', 'benign-idle12', 'benign-idle12_file3', 'benign-idle12_file3_file4', 'benign-idle12_file4', 'benign-idle12_file5', 'benign-idle12_file8', 'benign-idle13', 'benign-idle13_file3', 'benign-idle13_file3_file4', 'benign-idle13_file4', 'benign-idle13_file5', 'benign-idle13_file8', 'benign-idle14', 'benign-idle14_file3', 'benign-idle14_file3_file4', 'benign-idle14_file4', 'benign-idle14_file5', 'benign-idle14_file8', 'benign-idle15', 'benign-idle15_file3', 'benign-idle15_file3_file4', 'benign-idle15_file4', 'benign-idle15_file8', 'benign-idle16', 'benign-idle16_file3', 'benign-idle16_file3_file4', 'benign-idle16_file4', 'benign-idle16_file8', 'benign-idle17', 'benign-idle17_file3', 'benign-idle17_file3_file4', 'benign-idle17_file4', 'benign-idle17_file8', 'benign-idle18', 'benign-idle18_file3', 'benign-idle18_file3_file4', 'benign-idle18_file4', 'benign-idle18_file8', 'benign-idle19', 'benign-idle19_file3', 'benign-idle19_file4', 'benign-idle19_file8', 'benign-idle1_file3', 'benign-idle1_file4', 'benign-idle1_file5', 'benign-idle1_file8', 'benign-idle2', 'benign-idle20', 'benign-idle20_file3', 'benign-idle20_file3_file4', 'benign-idle20_file4', 'benign-idle20_file8', 'benign-idle21', 'benign-idle21_file3', 'benign-idle21_file3_file4', 'benign-idle21_file4', 'benign-idle21_file8', 'benign-idle22', 'benign-idle22_file3', 'benign-idle22_file3_file4', 'benign-idle22_file4', 'benign-idle22_file8', 'benign-idle23', 'benign-idle23_file3', 'benign-idle23_file3_file4', 'benign-idle23_file4', 'benign-idle23_file8', 'benign-idle24', 'benign-idle24_file3', 'benign-idle24_file3_file4', 'benign-idle24_file4', 'benign-idle24_file8', 'benign-idle25', 'benign-idle25_file3', 'benign-idle25_file3_file4', 'benign-idle25_file4', 'benign-idle25_file8', 'benign-idle26', 'benign-idle26_file3', 'benign-idle26_file3_file4', 'benign-idle26_file4', 'benign-idle26_file8', 'benign-idle27', 'benign-idle27_file3', 'benign-idle27_file3_file4', 'benign-idle27_file4', 'benign-idle27_file8', 'benign-idle28', 'benign-idle28_file3', 'benign-idle28_file4', 'benign-idle28_file8', 'benign-idle29', 'benign-idle29_file3', 'benign-idle29_file3_file4', 'benign-idle29_file4', 'benign-idle29_file8', 'benign-idle2_file3', 'benign-idle2_file3_file4', 'benign-idle2_file4', 'benign-idle2_file5', 'benign-idle2_file8', 'benign-idle3', 'benign-idle30', 'benign-idle30_file3', 'benign-idle30_file3_file4', 'benign-idle30_file4', 'benign-idle30_file8', 'benign-idle31', 'benign-idle31_file3', 'benign-idle31_file3_file4', 'benign-idle31_file4', 'benign-idle31_file8', 'benign-idle32', 'benign-idle32_file3', 'benign-idle32_file3_file4', 'benign-idle32_file4', 'benign-idle32_file8', 'benign-idle33', 'benign-idle33_file3', 'benign-idle33_file3_file4', 'benign-idle33_file4', 'benign-idle33_file8', 'benign-idle34', 'benign-idle34_file3', 'benign-idle34_file3_file4', 'benign-idle34_file4', 'benign-idle34_file8', 'benign-idle35', 'benign-idle35_file3', 'benign-idle35_file3_file4', 'benign-idle35_file4', 'benign-idle35_file8', 'benign-idle36', 'benign-idle36_file3', 'benign-idle36_file3_file4', 'benign-idle36_file4', 'benign-idle36_file8', 'benign-idle37', 'benign-idle37_file3', 'benign-idle37_file3_file4', 'benign-idle37_file4', 'benign-idle37_file8', 'benign-idle38', 'benign-idle38_file3', 'benign-idle38_file3_file4', 'benign-idle38_file4', 'benign-idle38_file8', 'benign-idle39', 'benign-idle39_file3', 'benign-idle39_file3_file4', 'benign-idle39_file4', 'benign-idle39_file8', 'benign-idle3_file3', 'benign-idle3_file3_file4', 'benign-idle3_file4', 'benign-idle3_file5', 'benign-idle3_file8', 'benign-idle4', 'benign-idle40', 'benign-idle40_file3', 'benign-idle40_file3_file4', 'benign-idle40_file4', 'benign-idle40_file8', 'benign-idle41', 'benign-idle41_file3', 'benign-idle41_file3_file4', 'benign-idle41_file4', 'benign-idle41_file8', 'benign-idle42', 'benign-idle42_file3', 'benign-idle42_file3_file4', 'benign-idle42_file4', 'benign-idle42_file8', 'benign-idle43', 'benign-idle43_file3', 'benign-idle43_file3_file4', 'benign-idle43_file4', 'benign-idle43_file8', 'benign-idle44', 'benign-idle44_file3', 'benign-idle44_file3_file4', 'benign-idle44_file4', 'benign-idle44_file8', 'benign-idle45', 'benign-idle45_file8', 'benign-idle46', 'benign-idle47', 'benign-idle48', 'benign-idle49', 'benign-idle4_file3', 'benign-idle4_file3_file4', 'benign-idle4_file4', 'benign-idle4_file5', 'benign-idle4_file8', 'benign-idle5', 'benign-idle50', 'benign-idle51', 'benign-idle52', 'benign-idle53', 'benign-idle54', 'benign-idle55', 'benign-idle56', 'benign-idle57', 'benign-idle58', 'benign-idle5_file3', 'benign-idle5_file4', 'benign-idle5_file5', 'benign-idle5_file8', 'benign-idle6', 'benign-idle6_file3', 'benign-idle6_file3_file4', 'benign-idle6_file4', 'benign-idle6_file5', 'benign-idle6_file8', 'benign-idle7', 'benign-idle7_file3', 'benign-idle7_file3_file4', 'benign-idle7_file4', 'benign-idle7_file5', 'benign-idle7_file8', 'benign-idle8', 'benign-idle8_file3', 'benign-idle8_file3_file4', 'benign-idle8_file4', 'benign-idle8_file5', 'benign-idle8_file8', 'benign-idle9', 'benign-idle9_file3', 'benign-idle9_file3_file4', 'benign-idle9_file4', 'benign-idle9_file5', 'benign-idle9_file8']>\n",
            "<KeysViewHDF5 ['infected-idle0', 'infected-idle0_file10', 'infected-idle0_file11', 'infected-idle0_file12', 'infected-idle0_file8', 'infected-idle0_file8_file10', 'infected-idle1', 'infected-idle10', 'infected-idle10_file10', 'infected-idle10_file11', 'infected-idle10_file12', 'infected-idle10_file8', 'infected-idle10_file8_file10', 'infected-idle11', 'infected-idle11_file10', 'infected-idle11_file11', 'infected-idle11_file12', 'infected-idle11_file8', 'infected-idle11_file8_file10', 'infected-idle12', 'infected-idle12_file10', 'infected-idle12_file11', 'infected-idle12_file12', 'infected-idle12_file8', 'infected-idle12_file8_file10', 'infected-idle13', 'infected-idle13_file10', 'infected-idle13_file11', 'infected-idle13_file12', 'infected-idle13_file8', 'infected-idle13_file8_file10', 'infected-idle14', 'infected-idle14_file10', 'infected-idle14_file12', 'infected-idle14_file8', 'infected-idle14_file8_file10', 'infected-idle15', 'infected-idle15_file10', 'infected-idle15_file12', 'infected-idle15_file8', 'infected-idle15_file8_file10', 'infected-idle16', 'infected-idle16_file10', 'infected-idle16_file12', 'infected-idle16_file8', 'infected-idle16_file8_file10', 'infected-idle17', 'infected-idle17_file10', 'infected-idle17_file12', 'infected-idle17_file8', 'infected-idle17_file8_file10', 'infected-idle18', 'infected-idle18_file10', 'infected-idle18_file12', 'infected-idle18_file8', 'infected-idle18_file8_file10', 'infected-idle19', 'infected-idle19_file10', 'infected-idle19_file12', 'infected-idle19_file8', 'infected-idle1_file10', 'infected-idle1_file11', 'infected-idle1_file12', 'infected-idle1_file8', 'infected-idle2', 'infected-idle20', 'infected-idle20_file10', 'infected-idle20_file12', 'infected-idle20_file8', 'infected-idle20_file8_file10', 'infected-idle21', 'infected-idle21_file10', 'infected-idle21_file12', 'infected-idle21_file8', 'infected-idle21_file8_file10', 'infected-idle22', 'infected-idle22_file10', 'infected-idle22_file12', 'infected-idle22_file8', 'infected-idle22_file8_file10', 'infected-idle23', 'infected-idle23_file10', 'infected-idle23_file12', 'infected-idle23_file8', 'infected-idle23_file8_file10', 'infected-idle24', 'infected-idle24_file10', 'infected-idle24_file12', 'infected-idle24_file8', 'infected-idle24_file8_file10', 'infected-idle25', 'infected-idle25_file10', 'infected-idle25_file12', 'infected-idle25_file8', 'infected-idle25_file8_file10', 'infected-idle26', 'infected-idle26_file10', 'infected-idle26_file12', 'infected-idle26_file8', 'infected-idle26_file8_file10', 'infected-idle27', 'infected-idle27_file10', 'infected-idle27_file12', 'infected-idle27_file8', 'infected-idle27_file8_file10', 'infected-idle28', 'infected-idle28_file10', 'infected-idle28_file12', 'infected-idle28_file8', 'infected-idle28_file8_file10', 'infected-idle29', 'infected-idle29_file10', 'infected-idle29_file12', 'infected-idle29_file8', 'infected-idle29_file8_file10', 'infected-idle2_file10', 'infected-idle2_file11', 'infected-idle2_file12', 'infected-idle2_file8', 'infected-idle2_file8_file10', 'infected-idle3', 'infected-idle30', 'infected-idle30_file10', 'infected-idle30_file12', 'infected-idle30_file8', 'infected-idle30_file8_file10', 'infected-idle31', 'infected-idle31_file10', 'infected-idle31_file12', 'infected-idle31_file8', 'infected-idle31_file8_file10', 'infected-idle32', 'infected-idle32_file10', 'infected-idle32_file12', 'infected-idle32_file8', 'infected-idle32_file8_file10', 'infected-idle33', 'infected-idle33_file10', 'infected-idle33_file12', 'infected-idle33_file8', 'infected-idle33_file8_file10', 'infected-idle34', 'infected-idle34_file10', 'infected-idle34_file12', 'infected-idle34_file8', 'infected-idle34_file8_file10', 'infected-idle35', 'infected-idle35_file10', 'infected-idle35_file12', 'infected-idle35_file8', 'infected-idle35_file8_file10', 'infected-idle36', 'infected-idle36_file10', 'infected-idle36_file12', 'infected-idle36_file8', 'infected-idle37', 'infected-idle37_file10', 'infected-idle37_file12', 'infected-idle37_file8', 'infected-idle37_file8_file10', 'infected-idle38', 'infected-idle38_file10', 'infected-idle38_file12', 'infected-idle38_file8', 'infected-idle38_file8_file10', 'infected-idle39', 'infected-idle39_file10', 'infected-idle39_file12', 'infected-idle39_file8', 'infected-idle39_file8_file10', 'infected-idle3_file10', 'infected-idle3_file11', 'infected-idle3_file12', 'infected-idle3_file8', 'infected-idle3_file8_file10', 'infected-idle4', 'infected-idle40', 'infected-idle40_file10', 'infected-idle40_file12', 'infected-idle40_file8', 'infected-idle40_file8_file10', 'infected-idle41', 'infected-idle41_file10', 'infected-idle41_file12', 'infected-idle41_file8', 'infected-idle41_file8_file10', 'infected-idle42', 'infected-idle42_file10', 'infected-idle42_file8', 'infected-idle42_file8_file10', 'infected-idle43', 'infected-idle43_file10', 'infected-idle43_file12', 'infected-idle43_file8', 'infected-idle44', 'infected-idle44_file10', 'infected-idle44_file12', 'infected-idle44_file8', 'infected-idle44_file8_file10', 'infected-idle45', 'infected-idle45_file10', 'infected-idle45_file12', 'infected-idle45_file8', 'infected-idle46', 'infected-idle46_file10', 'infected-idle46_file12', 'infected-idle46_file8', 'infected-idle47', 'infected-idle47_file12', 'infected-idle47_file8', 'infected-idle48', 'infected-idle49', 'infected-idle4_file10', 'infected-idle4_file11', 'infected-idle4_file12', 'infected-idle4_file8', 'infected-idle4_file8_file10', 'infected-idle5', 'infected-idle50', 'infected-idle51', 'infected-idle52', 'infected-idle53', 'infected-idle54', 'infected-idle55', 'infected-idle56', 'infected-idle57', 'infected-idle58', 'infected-idle59', 'infected-idle5_file10', 'infected-idle5_file11', 'infected-idle5_file12', 'infected-idle5_file8', 'infected-idle5_file8_file10', 'infected-idle6', 'infected-idle60', 'infected-idle61', 'infected-idle62', 'infected-idle63', 'infected-idle6_file10', 'infected-idle6_file11', 'infected-idle6_file12', 'infected-idle6_file8', 'infected-idle6_file8_file10', 'infected-idle7', 'infected-idle7_file10', 'infected-idle7_file11', 'infected-idle7_file12', 'infected-idle7_file8', 'infected-idle8', 'infected-idle8_file10', 'infected-idle8_file11', 'infected-idle8_file12', 'infected-idle8_file8', 'infected-idle8_file8_file10', 'infected-idle9', 'infected-idle9_file10', 'infected-idle9_file11', 'infected-idle9_file12', 'infected-idle9_file8', 'infected-idle9_file8_file10']>\n"
          ]
        }
      ],
      "source": [
        "print(file1.keys())\n",
        "print(file2.keys())"
      ]
    },
    {
      "cell_type": "code",
      "execution_count": null,
      "metadata": {
        "id": "8dOy0Vlu9x7Y"
      },
      "outputs": [],
      "source": [
        "import h5py\n",
        "import tensorflow as tf\n",
        "import numpy as np\n",
        "\n",
        "file1 = h5py.File(\"/content/drive/MyDrive/signal data/big-benign.h5\", \"r\")\n",
        "file2 = h5py.File(\"/content/drive/MyDrive/signal data/big-infected.h5\", \"r\")\n",
        "\n",
        "def compute_nicv_fixed(num_samples=10):\n",
        "    \"\"\"Compute NICV scores for each frequency bin across multiple samples per class.\"\"\"\n",
        "\n",
        "    benign_keys = list(file1.keys())\n",
        "    infected_keys = list(file2.keys())\n",
        "\n",
        "    # Randomly choose 'num_samples' from each class\n",
        "    benign_keys = np.random.choice(benign_keys, size=num_samples, replace=False)\n",
        "    infected_keys = np.random.choice(infected_keys, size=num_samples, replace=False)\n",
        "\n",
        "    benign_magnitudes = []\n",
        "    infected_magnitudes = []\n",
        "\n",
        "    # First: figure out the minimum signal length across all selected samples\n",
        "    lengths = []\n",
        "    for key in benign_keys:\n",
        "        lengths.append(len(file1[key]))\n",
        "    for key in infected_keys:\n",
        "        lengths.append(len(file2[key]))\n",
        "    min_len = min(lengths)\n",
        "\n",
        "    def compute_stft_magnitude(dataset):\n",
        "        # Truncate to min_len\n",
        "        signal = dataset[:min_len]\n",
        "        tensor = tf.convert_to_tensor(signal, dtype=tf.float32)\n",
        "        Zxx = tf.signal.stft(tensor, frame_length=4096, frame_step=2048, fft_length=4096)\n",
        "        return tf.abs(Zxx).numpy()\n",
        "\n",
        "    # Compute STFT magnitudes\n",
        "    for key in benign_keys:\n",
        "        benign_magnitudes.append(compute_stft_magnitude(file1[key]))\n",
        "\n",
        "    for key in infected_keys:\n",
        "        infected_magnitudes.append(compute_stft_magnitude(file2[key]))\n",
        "\n",
        "    benign_magnitudes = np.stack(benign_magnitudes)  # shape: [N, T, F]\n",
        "    infected_magnitudes = np.stack(infected_magnitudes)  # shape: [N, T, F]\n",
        "\n",
        "    # Combine and reshape\n",
        "    all_magnitudes = np.concatenate([benign_magnitudes, infected_magnitudes], axis=0)  # [2N, T, F]\n",
        "\n",
        "    # NICV is calculated per frequency bin (averaged over time and samples)\n",
        "    benign_mean_time = benign_magnitudes.mean(axis=1)  # shape: [N, F]\n",
        "    infected_mean_time = infected_magnitudes.mean(axis=1)  # shape: [N, F]\n",
        "    combined_mean_time = all_magnitudes.mean(axis=1)  # shape: [2N, F]\n",
        "\n",
        "    total_variance = np.var(combined_mean_time, axis=0)  # [F]\n",
        "\n",
        "    benign_class_mean = benign_mean_time.mean(axis=0)  # [F]\n",
        "    infected_class_mean = infected_mean_time.mean(axis=0)  # [F]\n",
        "    overall_mean = combined_mean_time.mean(axis=0)  # [F]\n",
        "\n",
        "    n = benign_mean_time.shape[0]\n",
        "    between_class_variance = (\n",
        "        n * (benign_class_mean - overall_mean) ** 2 +\n",
        "        n * (infected_class_mean - overall_mean) ** 2\n",
        "    )  # [F]\n",
        "\n",
        "    nicv_values = between_class_variance / (total_variance + 1e-8)  # [F]\n",
        "\n",
        "    return nicv_values\n"
      ]
    },
    {
      "cell_type": "code",
      "execution_count": null,
      "metadata": {
        "id": "JshqABlHfK2P"
      },
      "outputs": [],
      "source": [
        "nicv_scores = compute_nicv_fixed()\n",
        "np.save(\"/content/drive/MyDrive/nicv/(4096,2048)\", nicv_scores)\n"
      ]
    },
    {
      "cell_type": "code",
      "execution_count": null,
      "metadata": {
        "id": "WOlA2Wu0hovn"
      },
      "outputs": [],
      "source": [
        "nicv_values = np.load(\"/content/drive/MyDrive/nicv/(4096,2048).npy\")"
      ]
    },
    {
      "cell_type": "code",
      "execution_count": null,
      "metadata": {
        "colab": {
          "base_uri": "https://localhost:8080/"
        },
        "id": "rTLO1Z8P8AZG",
        "outputId": "d8551582-6ea4-4043-eeb3-5c4f8c1fb103"
      },
      "outputs": [
        {
          "name": "stderr",
          "output_type": "stream",
          "text": [
            "/usr/local/lib/python3.11/dist-packages/tensorflow/python/framework/constant_op.py:108: ComplexWarning: Casting complex values to real discards the imaginary part\n",
            "  return ops.EagerTensor(value, ctx.device_name, dtype)\n"
          ]
        }
      ],
      "source": [
        "nicv_scores = nicv_values\n",
        "n_components = 100\n",
        "\n",
        "keys =  list(file1.keys())[:100] + list(file2.keys())[0:100] + list(file1.keys())[100:] + list(file2.keys())[100:]\n",
        "X_batch = []\n",
        "y_batch = []\n",
        "for name in keys:\n",
        "  data = []\n",
        "  label = 0\n",
        "  if name in file1:\n",
        "    label = 0\n",
        "    data = file1[name]\n",
        "  else:\n",
        "    label = 1\n",
        "    data = file2[name]\n",
        "  data_tensor = tf.convert_to_tensor(data, dtype=tf.float32)\n",
        "  Zxx = tf.signal.stft(data_tensor, frame_length=4096, frame_step=2048, fft_length=4096)\n",
        "  magnitude = tf.abs(Zxx).numpy().reshape(Zxx.shape[0], -1)\n",
        "  selected_indices = np.argsort(nicv_scores)[-n_components:]\n",
        "  reduced_features = magnitude[:, selected_indices]\n",
        "  final_features = np.mean(reduced_features, axis=0)\n",
        "  X_batch.append(final_features)\n",
        "  y_batch.append(label)\n"
      ]
    },
    {
      "cell_type": "code",
      "execution_count": null,
      "metadata": {
        "id": "Np9sk4XQzeL9"
      },
      "outputs": [],
      "source": [
        "import numpy as np\n",
        "\n",
        "X_batch_np = np.array(X_batch)\n",
        "y_batch_np = np.array(y_batch)\n",
        "\n",
        "# Save to .npy files\n",
        "np.save('/content/drive/MyDrive/mlp/X_batch.npy', X_batch_np)\n",
        "np.save('/content/drive/MyDrive/mlp/y_batch.npy', y_batch_np)\n"
      ]
    },
    {
      "cell_type": "code",
      "execution_count": null,
      "metadata": {
        "colab": {
          "base_uri": "https://localhost:8080/"
        },
        "id": "7PzU3P7mzwCj",
        "outputId": "3a4bf3fc-9aac-4ac5-d2f5-649702ba566d"
      },
      "outputs": [
        {
          "output_type": "stream",
          "name": "stdout",
          "text": [
            "(509, 100)\n",
            "(509,)\n"
          ]
        }
      ],
      "source": [
        "import numpy as np\n",
        "\n",
        "X_batch_loaded = np.load('/content/drive/MyDrive/mlp/X_batch.npy')\n",
        "y_batch_loaded = np.load('/content/drive/MyDrive/mlp/y_batch.npy')\n",
        "\n",
        "# Optional: print shapes to verify\n",
        "print(X_batch_loaded.shape)\n",
        "print(y_batch_loaded.shape)\n"
      ]
    },
    {
      "cell_type": "code",
      "source": [
        "from sklearn.model_selection import train_test_split\n",
        "X_train_global, X_test_global, y_train_global, y_test_global = train_test_split(X_batch_loaded, y_batch_loaded, test_size=0.3, random_state=42)"
      ],
      "metadata": {
        "id": "pVAcKu_AZDqd"
      },
      "execution_count": null,
      "outputs": []
    },
    {
      "cell_type": "code",
      "execution_count": null,
      "metadata": {
        "colab": {
          "base_uri": "https://localhost:8080/"
        },
        "id": "3RAb_SiNB0TB",
        "outputId": "ae17c6ee-a16b-4dd3-e7c2-fff4243d8374"
      },
      "outputs": [
        {
          "output_type": "stream",
          "name": "stdout",
          "text": [
            "Epoch 1/350\n"
          ]
        },
        {
          "output_type": "stream",
          "name": "stderr",
          "text": [
            "/usr/local/lib/python3.11/dist-packages/keras/src/layers/core/dense.py:87: UserWarning: Do not pass an `input_shape`/`input_dim` argument to a layer. When using Sequential models, prefer using an `Input(shape)` object as the first layer in the model instead.\n",
            "  super().__init__(activity_regularizer=activity_regularizer, **kwargs)\n"
          ]
        },
        {
          "output_type": "stream",
          "name": "stdout",
          "text": [
            "\u001b[1m36/36\u001b[0m \u001b[32m━━━━━━━━━━━━━━━━━━━━\u001b[0m\u001b[37m\u001b[0m \u001b[1m2s\u001b[0m 10ms/step - accuracy: 0.5082 - loss: 2.7383 - val_accuracy: 0.5163 - val_loss: 0.8406\n",
            "Epoch 2/350\n",
            "\u001b[1m36/36\u001b[0m \u001b[32m━━━━━━━━━━━━━━━━━━━━\u001b[0m\u001b[37m\u001b[0m \u001b[1m0s\u001b[0m 4ms/step - accuracy: 0.5367 - loss: 1.4930 - val_accuracy: 0.8889 - val_loss: 0.6283\n",
            "Epoch 3/350\n",
            "\u001b[1m36/36\u001b[0m \u001b[32m━━━━━━━━━━━━━━━━━━━━\u001b[0m\u001b[37m\u001b[0m \u001b[1m0s\u001b[0m 4ms/step - accuracy: 0.5356 - loss: 0.9671 - val_accuracy: 0.4837 - val_loss: 0.6965\n",
            "Epoch 4/350\n",
            "\u001b[1m36/36\u001b[0m \u001b[32m━━━━━━━━━━━━━━━━━━━━\u001b[0m\u001b[37m\u001b[0m \u001b[1m0s\u001b[0m 4ms/step - accuracy: 0.5696 - loss: 0.8323 - val_accuracy: 0.4837 - val_loss: 0.7004\n",
            "Epoch 5/350\n",
            "\u001b[1m36/36\u001b[0m \u001b[32m━━━━━━━━━━━━━━━━━━━━\u001b[0m\u001b[37m\u001b[0m \u001b[1m0s\u001b[0m 4ms/step - accuracy: 0.5265 - loss: 0.7816 - val_accuracy: 0.4837 - val_loss: 0.6976\n",
            "Epoch 6/350\n",
            "\u001b[1m36/36\u001b[0m \u001b[32m━━━━━━━━━━━━━━━━━━━━\u001b[0m\u001b[37m\u001b[0m \u001b[1m0s\u001b[0m 4ms/step - accuracy: 0.5467 - loss: 0.7571 - val_accuracy: 0.4837 - val_loss: 0.6976\n",
            "Epoch 7/350\n",
            "\u001b[1m36/36\u001b[0m \u001b[32m━━━━━━━━━━━━━━━━━━━━\u001b[0m\u001b[37m\u001b[0m \u001b[1m0s\u001b[0m 5ms/step - accuracy: 0.5820 - loss: 0.6906 - val_accuracy: 0.4837 - val_loss: 0.6972\n",
            "Epoch 8/350\n",
            "\u001b[1m36/36\u001b[0m \u001b[32m━━━━━━━━━━━━━━━━━━━━\u001b[0m\u001b[37m\u001b[0m \u001b[1m0s\u001b[0m 4ms/step - accuracy: 0.5407 - loss: 0.6991 - val_accuracy: 0.4837 - val_loss: 0.6968\n",
            "Epoch 9/350\n",
            "\u001b[1m36/36\u001b[0m \u001b[32m━━━━━━━━━━━━━━━━━━━━\u001b[0m\u001b[37m\u001b[0m \u001b[1m0s\u001b[0m 4ms/step - accuracy: 0.5104 - loss: 0.7331 - val_accuracy: 0.4837 - val_loss: 0.6961\n",
            "Epoch 10/350\n",
            "\u001b[1m36/36\u001b[0m \u001b[32m━━━━━━━━━━━━━━━━━━━━\u001b[0m\u001b[37m\u001b[0m \u001b[1m0s\u001b[0m 4ms/step - accuracy: 0.5853 - loss: 0.6947 - val_accuracy: 0.4837 - val_loss: 0.6964\n",
            "Epoch 11/350\n",
            "\u001b[1m36/36\u001b[0m \u001b[32m━━━━━━━━━━━━━━━━━━━━\u001b[0m\u001b[37m\u001b[0m \u001b[1m0s\u001b[0m 4ms/step - accuracy: 0.4656 - loss: 0.7465 - val_accuracy: 0.4837 - val_loss: 0.6959\n",
            "Epoch 12/350\n",
            "\u001b[1m36/36\u001b[0m \u001b[32m━━━━━━━━━━━━━━━━━━━━\u001b[0m\u001b[37m\u001b[0m \u001b[1m0s\u001b[0m 5ms/step - accuracy: 0.5452 - loss: 0.6938 - val_accuracy: 0.4837 - val_loss: 0.6954\n",
            "Epoch 13/350\n",
            "\u001b[1m36/36\u001b[0m \u001b[32m━━━━━━━━━━━━━━━━━━━━\u001b[0m\u001b[37m\u001b[0m \u001b[1m0s\u001b[0m 5ms/step - accuracy: 0.5658 - loss: 0.6945 - val_accuracy: 0.4837 - val_loss: 0.6952\n",
            "Epoch 14/350\n",
            "\u001b[1m36/36\u001b[0m \u001b[32m━━━━━━━━━━━━━━━━━━━━\u001b[0m\u001b[37m\u001b[0m \u001b[1m0s\u001b[0m 4ms/step - accuracy: 0.5857 - loss: 0.6797 - val_accuracy: 0.4837 - val_loss: 0.6954\n",
            "Epoch 15/350\n",
            "\u001b[1m36/36\u001b[0m \u001b[32m━━━━━━━━━━━━━━━━━━━━\u001b[0m\u001b[37m\u001b[0m \u001b[1m0s\u001b[0m 5ms/step - accuracy: 0.5415 - loss: 0.7069 - val_accuracy: 0.4837 - val_loss: 0.6954\n",
            "Epoch 16/350\n",
            "\u001b[1m36/36\u001b[0m \u001b[32m━━━━━━━━━━━━━━━━━━━━\u001b[0m\u001b[37m\u001b[0m \u001b[1m0s\u001b[0m 4ms/step - accuracy: 0.5702 - loss: 0.6851 - val_accuracy: 0.4837 - val_loss: 0.6954\n",
            "Epoch 17/350\n",
            "\u001b[1m36/36\u001b[0m \u001b[32m━━━━━━━━━━━━━━━━━━━━\u001b[0m\u001b[37m\u001b[0m \u001b[1m0s\u001b[0m 5ms/step - accuracy: 0.5853 - loss: 0.6818 - val_accuracy: 0.4837 - val_loss: 0.6955\n",
            "Epoch 18/350\n",
            "\u001b[1m36/36\u001b[0m \u001b[32m━━━━━━━━━━━━━━━━━━━━\u001b[0m\u001b[37m\u001b[0m \u001b[1m0s\u001b[0m 5ms/step - accuracy: 0.5553 - loss: 0.6925 - val_accuracy: 0.4837 - val_loss: 0.6954\n",
            "Epoch 19/350\n",
            "\u001b[1m36/36\u001b[0m \u001b[32m━━━━━━━━━━━━━━━━━━━━\u001b[0m\u001b[37m\u001b[0m \u001b[1m0s\u001b[0m 4ms/step - accuracy: 0.5578 - loss: 0.6782 - val_accuracy: 0.4837 - val_loss: 0.6956\n",
            "Epoch 20/350\n",
            "\u001b[1m36/36\u001b[0m \u001b[32m━━━━━━━━━━━━━━━━━━━━\u001b[0m\u001b[37m\u001b[0m \u001b[1m0s\u001b[0m 4ms/step - accuracy: 0.5837 - loss: 0.6755 - val_accuracy: 0.4837 - val_loss: 0.6958\n",
            "Epoch 21/350\n",
            "\u001b[1m36/36\u001b[0m \u001b[32m━━━━━━━━━━━━━━━━━━━━\u001b[0m\u001b[37m\u001b[0m \u001b[1m0s\u001b[0m 4ms/step - accuracy: 0.5110 - loss: 0.6871 - val_accuracy: 0.4837 - val_loss: 0.6957\n",
            "Epoch 22/350\n",
            "\u001b[1m36/36\u001b[0m \u001b[32m━━━━━━━━━━━━━━━━━━━━\u001b[0m\u001b[37m\u001b[0m \u001b[1m0s\u001b[0m 4ms/step - accuracy: 0.5557 - loss: 0.6852 - val_accuracy: 0.4837 - val_loss: 0.6958\n",
            "Epoch 23/350\n",
            "\u001b[1m36/36\u001b[0m \u001b[32m━━━━━━━━━━━━━━━━━━━━\u001b[0m\u001b[37m\u001b[0m \u001b[1m0s\u001b[0m 4ms/step - accuracy: 0.6444 - loss: 0.6516 - val_accuracy: 0.4837 - val_loss: 0.6960\n",
            "Epoch 24/350\n",
            "\u001b[1m36/36\u001b[0m \u001b[32m━━━━━━━━━━━━━━━━━━━━\u001b[0m\u001b[37m\u001b[0m \u001b[1m0s\u001b[0m 4ms/step - accuracy: 0.5577 - loss: 0.6741 - val_accuracy: 0.4837 - val_loss: 0.6960\n",
            "Epoch 25/350\n",
            "\u001b[1m36/36\u001b[0m \u001b[32m━━━━━━━━━━━━━━━━━━━━\u001b[0m\u001b[37m\u001b[0m \u001b[1m0s\u001b[0m 4ms/step - accuracy: 0.6115 - loss: 0.6615 - val_accuracy: 0.4837 - val_loss: 0.6958\n",
            "Epoch 26/350\n",
            "\u001b[1m36/36\u001b[0m \u001b[32m━━━━━━━━━━━━━━━━━━━━\u001b[0m\u001b[37m\u001b[0m \u001b[1m0s\u001b[0m 4ms/step - accuracy: 0.6276 - loss: 0.6439 - val_accuracy: 0.4837 - val_loss: 0.6962\n",
            "Epoch 27/350\n",
            "\u001b[1m36/36\u001b[0m \u001b[32m━━━━━━━━━━━━━━━━━━━━\u001b[0m\u001b[37m\u001b[0m \u001b[1m0s\u001b[0m 4ms/step - accuracy: 0.5896 - loss: 0.6660 - val_accuracy: 0.4837 - val_loss: 0.6962\n",
            "Epoch 28/350\n",
            "\u001b[1m36/36\u001b[0m \u001b[32m━━━━━━━━━━━━━━━━━━━━\u001b[0m\u001b[37m\u001b[0m \u001b[1m0s\u001b[0m 4ms/step - accuracy: 0.6072 - loss: 0.6650 - val_accuracy: 0.4837 - val_loss: 0.6965\n",
            "Epoch 29/350\n",
            "\u001b[1m36/36\u001b[0m \u001b[32m━━━━━━━━━━━━━━━━━━━━\u001b[0m\u001b[37m\u001b[0m \u001b[1m0s\u001b[0m 4ms/step - accuracy: 0.5998 - loss: 0.6665 - val_accuracy: 0.4837 - val_loss: 0.6968\n",
            "Epoch 30/350\n",
            "\u001b[1m36/36\u001b[0m \u001b[32m━━━━━━━━━━━━━━━━━━━━\u001b[0m\u001b[37m\u001b[0m \u001b[1m0s\u001b[0m 4ms/step - accuracy: 0.5787 - loss: 0.6663 - val_accuracy: 0.4837 - val_loss: 0.6969\n",
            "Epoch 31/350\n",
            "\u001b[1m36/36\u001b[0m \u001b[32m━━━━━━━━━━━━━━━━━━━━\u001b[0m\u001b[37m\u001b[0m \u001b[1m0s\u001b[0m 4ms/step - accuracy: 0.5841 - loss: 0.6429 - val_accuracy: 0.4837 - val_loss: 0.6972\n",
            "Epoch 32/350\n",
            "\u001b[1m36/36\u001b[0m \u001b[32m━━━━━━━━━━━━━━━━━━━━\u001b[0m\u001b[37m\u001b[0m \u001b[1m0s\u001b[0m 4ms/step - accuracy: 0.5859 - loss: 0.6381 - val_accuracy: 0.4837 - val_loss: 0.6973\n",
            "Epoch 33/350\n",
            "\u001b[1m36/36\u001b[0m \u001b[32m━━━━━━━━━━━━━━━━━━━━\u001b[0m\u001b[37m\u001b[0m \u001b[1m0s\u001b[0m 4ms/step - accuracy: 0.6736 - loss: 0.6220 - val_accuracy: 0.4837 - val_loss: 0.6964\n",
            "Epoch 34/350\n",
            "\u001b[1m36/36\u001b[0m \u001b[32m━━━━━━━━━━━━━━━━━━━━\u001b[0m\u001b[37m\u001b[0m \u001b[1m0s\u001b[0m 4ms/step - accuracy: 0.6112 - loss: 0.6661 - val_accuracy: 0.4837 - val_loss: 0.6979\n",
            "Epoch 35/350\n",
            "\u001b[1m36/36\u001b[0m \u001b[32m━━━━━━━━━━━━━━━━━━━━\u001b[0m\u001b[37m\u001b[0m \u001b[1m0s\u001b[0m 4ms/step - accuracy: 0.6725 - loss: 0.6334 - val_accuracy: 0.4837 - val_loss: 0.6889\n",
            "Epoch 36/350\n",
            "\u001b[1m36/36\u001b[0m \u001b[32m━━━━━━━━━━━━━━━━━━━━\u001b[0m\u001b[37m\u001b[0m \u001b[1m0s\u001b[0m 4ms/step - accuracy: 0.6358 - loss: 0.6348 - val_accuracy: 0.8170 - val_loss: 0.6461\n",
            "Epoch 37/350\n",
            "\u001b[1m36/36\u001b[0m \u001b[32m━━━━━━━━━━━━━━━━━━━━\u001b[0m\u001b[37m\u001b[0m \u001b[1m0s\u001b[0m 4ms/step - accuracy: 0.6522 - loss: 0.6202 - val_accuracy: 0.8235 - val_loss: 0.6229\n",
            "Epoch 38/350\n",
            "\u001b[1m36/36\u001b[0m \u001b[32m━━━━━━━━━━━━━━━━━━━━\u001b[0m\u001b[37m\u001b[0m \u001b[1m0s\u001b[0m 4ms/step - accuracy: 0.6488 - loss: 0.6265 - val_accuracy: 0.8693 - val_loss: 0.5641\n",
            "Epoch 39/350\n",
            "\u001b[1m36/36\u001b[0m \u001b[32m━━━━━━━━━━━━━━━━━━━━\u001b[0m\u001b[37m\u001b[0m \u001b[1m0s\u001b[0m 5ms/step - accuracy: 0.7145 - loss: 0.5956 - val_accuracy: 0.8824 - val_loss: 0.5039\n",
            "Epoch 40/350\n",
            "\u001b[1m36/36\u001b[0m \u001b[32m━━━━━━━━━━━━━━━━━━━━\u001b[0m\u001b[37m\u001b[0m \u001b[1m0s\u001b[0m 5ms/step - accuracy: 0.7585 - loss: 0.5747 - val_accuracy: 0.8824 - val_loss: 0.4773\n",
            "Epoch 41/350\n",
            "\u001b[1m36/36\u001b[0m \u001b[32m━━━━━━━━━━━━━━━━━━━━\u001b[0m\u001b[37m\u001b[0m \u001b[1m0s\u001b[0m 5ms/step - accuracy: 0.7823 - loss: 0.5564 - val_accuracy: 0.8824 - val_loss: 0.4643\n",
            "Epoch 42/350\n",
            "\u001b[1m36/36\u001b[0m \u001b[32m━━━━━━━━━━━━━━━━━━━━\u001b[0m\u001b[37m\u001b[0m \u001b[1m0s\u001b[0m 4ms/step - accuracy: 0.7763 - loss: 0.5305 - val_accuracy: 0.8824 - val_loss: 0.4524\n",
            "Epoch 43/350\n",
            "\u001b[1m36/36\u001b[0m \u001b[32m━━━━━━━━━━━━━━━━━━━━\u001b[0m\u001b[37m\u001b[0m \u001b[1m0s\u001b[0m 4ms/step - accuracy: 0.8163 - loss: 0.5141 - val_accuracy: 0.8889 - val_loss: 0.4383\n",
            "Epoch 44/350\n",
            "\u001b[1m36/36\u001b[0m \u001b[32m━━━━━━━━━━━━━━━━━━━━\u001b[0m\u001b[37m\u001b[0m \u001b[1m0s\u001b[0m 4ms/step - accuracy: 0.7590 - loss: 0.5308 - val_accuracy: 0.8889 - val_loss: 0.4219\n",
            "Epoch 45/350\n",
            "\u001b[1m36/36\u001b[0m \u001b[32m━━━━━━━━━━━━━━━━━━━━\u001b[0m\u001b[37m\u001b[0m \u001b[1m0s\u001b[0m 5ms/step - accuracy: 0.7104 - loss: 0.5410 - val_accuracy: 0.8824 - val_loss: 0.4116\n",
            "Epoch 46/350\n",
            "\u001b[1m36/36\u001b[0m \u001b[32m━━━━━━━━━━━━━━━━━━━━\u001b[0m\u001b[37m\u001b[0m \u001b[1m0s\u001b[0m 4ms/step - accuracy: 0.7841 - loss: 0.5224 - val_accuracy: 0.8889 - val_loss: 0.3980\n",
            "Epoch 47/350\n",
            "\u001b[1m36/36\u001b[0m \u001b[32m━━━━━━━━━━━━━━━━━━━━\u001b[0m\u001b[37m\u001b[0m \u001b[1m0s\u001b[0m 4ms/step - accuracy: 0.7771 - loss: 0.4947 - val_accuracy: 0.8889 - val_loss: 0.3910\n",
            "Epoch 48/350\n",
            "\u001b[1m36/36\u001b[0m \u001b[32m━━━━━━━━━━━━━━━━━━━━\u001b[0m\u001b[37m\u001b[0m \u001b[1m0s\u001b[0m 5ms/step - accuracy: 0.8094 - loss: 0.4906 - val_accuracy: 0.8889 - val_loss: 0.3902\n",
            "Epoch 49/350\n",
            "\u001b[1m36/36\u001b[0m \u001b[32m━━━━━━━━━━━━━━━━━━━━\u001b[0m\u001b[37m\u001b[0m \u001b[1m0s\u001b[0m 5ms/step - accuracy: 0.8149 - loss: 0.4916 - val_accuracy: 0.8824 - val_loss: 0.3801\n",
            "Epoch 50/350\n",
            "\u001b[1m36/36\u001b[0m \u001b[32m━━━━━━━━━━━━━━━━━━━━\u001b[0m\u001b[37m\u001b[0m \u001b[1m0s\u001b[0m 5ms/step - accuracy: 0.7670 - loss: 0.5203 - val_accuracy: 0.8889 - val_loss: 0.3718\n",
            "Epoch 51/350\n",
            "\u001b[1m36/36\u001b[0m \u001b[32m━━━━━━━━━━━━━━━━━━━━\u001b[0m\u001b[37m\u001b[0m \u001b[1m0s\u001b[0m 5ms/step - accuracy: 0.8541 - loss: 0.4469 - val_accuracy: 0.8889 - val_loss: 0.3635\n",
            "Epoch 52/350\n",
            "\u001b[1m36/36\u001b[0m \u001b[32m━━━━━━━━━━━━━━━━━━━━\u001b[0m\u001b[37m\u001b[0m \u001b[1m0s\u001b[0m 5ms/step - accuracy: 0.8400 - loss: 0.4421 - val_accuracy: 0.8824 - val_loss: 0.3605\n",
            "Epoch 53/350\n",
            "\u001b[1m36/36\u001b[0m \u001b[32m━━━━━━━━━━━━━━━━━━━━\u001b[0m\u001b[37m\u001b[0m \u001b[1m0s\u001b[0m 4ms/step - accuracy: 0.7935 - loss: 0.4781 - val_accuracy: 0.8889 - val_loss: 0.3531\n",
            "Epoch 54/350\n",
            "\u001b[1m36/36\u001b[0m \u001b[32m━━━━━━━━━━━━━━━━━━━━\u001b[0m\u001b[37m\u001b[0m \u001b[1m0s\u001b[0m 5ms/step - accuracy: 0.8097 - loss: 0.4706 - val_accuracy: 0.8824 - val_loss: 0.3520\n",
            "Epoch 55/350\n",
            "\u001b[1m36/36\u001b[0m \u001b[32m━━━━━━━━━━━━━━━━━━━━\u001b[0m\u001b[37m\u001b[0m \u001b[1m0s\u001b[0m 4ms/step - accuracy: 0.8426 - loss: 0.4615 - val_accuracy: 0.8824 - val_loss: 0.3499\n",
            "Epoch 56/350\n",
            "\u001b[1m36/36\u001b[0m \u001b[32m━━━━━━━━━━━━━━━━━━━━\u001b[0m\u001b[37m\u001b[0m \u001b[1m0s\u001b[0m 4ms/step - accuracy: 0.8659 - loss: 0.3904 - val_accuracy: 0.8824 - val_loss: 0.3470\n",
            "Epoch 57/350\n",
            "\u001b[1m36/36\u001b[0m \u001b[32m━━━━━━━━━━━━━━━━━━━━\u001b[0m\u001b[37m\u001b[0m \u001b[1m0s\u001b[0m 5ms/step - accuracy: 0.8455 - loss: 0.4257 - val_accuracy: 0.8824 - val_loss: 0.3436\n",
            "Epoch 58/350\n",
            "\u001b[1m36/36\u001b[0m \u001b[32m━━━━━━━━━━━━━━━━━━━━\u001b[0m\u001b[37m\u001b[0m \u001b[1m0s\u001b[0m 4ms/step - accuracy: 0.8640 - loss: 0.3862 - val_accuracy: 0.8824 - val_loss: 0.3403\n",
            "Epoch 59/350\n",
            "\u001b[1m36/36\u001b[0m \u001b[32m━━━━━━━━━━━━━━━━━━━━\u001b[0m\u001b[37m\u001b[0m \u001b[1m0s\u001b[0m 4ms/step - accuracy: 0.8263 - loss: 0.4386 - val_accuracy: 0.8824 - val_loss: 0.3373\n",
            "Epoch 60/350\n",
            "\u001b[1m36/36\u001b[0m \u001b[32m━━━━━━━━━━━━━━━━━━━━\u001b[0m\u001b[37m\u001b[0m \u001b[1m0s\u001b[0m 4ms/step - accuracy: 0.8219 - loss: 0.4384 - val_accuracy: 0.8889 - val_loss: 0.3336\n",
            "Epoch 61/350\n",
            "\u001b[1m36/36\u001b[0m \u001b[32m━━━━━━━━━━━━━━━━━━━━\u001b[0m\u001b[37m\u001b[0m \u001b[1m0s\u001b[0m 4ms/step - accuracy: 0.8318 - loss: 0.4150 - val_accuracy: 0.8889 - val_loss: 0.3331\n",
            "Epoch 62/350\n",
            "\u001b[1m36/36\u001b[0m \u001b[32m━━━━━━━━━━━━━━━━━━━━\u001b[0m\u001b[37m\u001b[0m \u001b[1m0s\u001b[0m 4ms/step - accuracy: 0.8605 - loss: 0.3906 - val_accuracy: 0.8889 - val_loss: 0.3287\n",
            "Epoch 63/350\n",
            "\u001b[1m36/36\u001b[0m \u001b[32m━━━━━━━━━━━━━━━━━━━━\u001b[0m\u001b[37m\u001b[0m \u001b[1m0s\u001b[0m 4ms/step - accuracy: 0.8003 - loss: 0.4365 - val_accuracy: 0.8889 - val_loss: 0.3267\n",
            "Epoch 64/350\n",
            "\u001b[1m36/36\u001b[0m \u001b[32m━━━━━━━━━━━━━━━━━━━━\u001b[0m\u001b[37m\u001b[0m \u001b[1m0s\u001b[0m 4ms/step - accuracy: 0.8510 - loss: 0.3981 - val_accuracy: 0.8889 - val_loss: 0.3248\n",
            "Epoch 65/350\n",
            "\u001b[1m36/36\u001b[0m \u001b[32m━━━━━━━━━━━━━━━━━━━━\u001b[0m\u001b[37m\u001b[0m \u001b[1m0s\u001b[0m 4ms/step - accuracy: 0.8157 - loss: 0.4292 - val_accuracy: 0.8889 - val_loss: 0.3220\n",
            "Epoch 66/350\n",
            "\u001b[1m36/36\u001b[0m \u001b[32m━━━━━━━━━━━━━━━━━━━━\u001b[0m\u001b[37m\u001b[0m \u001b[1m0s\u001b[0m 4ms/step - accuracy: 0.8486 - loss: 0.4007 - val_accuracy: 0.8889 - val_loss: 0.3196\n",
            "Epoch 67/350\n",
            "\u001b[1m36/36\u001b[0m \u001b[32m━━━━━━━━━━━━━━━━━━━━\u001b[0m\u001b[37m\u001b[0m \u001b[1m0s\u001b[0m 4ms/step - accuracy: 0.8622 - loss: 0.3837 - val_accuracy: 0.8889 - val_loss: 0.3181\n",
            "Epoch 68/350\n",
            "\u001b[1m36/36\u001b[0m \u001b[32m━━━━━━━━━━━━━━━━━━━━\u001b[0m\u001b[37m\u001b[0m \u001b[1m0s\u001b[0m 4ms/step - accuracy: 0.8741 - loss: 0.3732 - val_accuracy: 0.8889 - val_loss: 0.3178\n",
            "Epoch 69/350\n",
            "\u001b[1m36/36\u001b[0m \u001b[32m━━━━━━━━━━━━━━━━━━━━\u001b[0m\u001b[37m\u001b[0m \u001b[1m0s\u001b[0m 4ms/step - accuracy: 0.8417 - loss: 0.3767 - val_accuracy: 0.8889 - val_loss: 0.3158\n",
            "Epoch 70/350\n",
            "\u001b[1m36/36\u001b[0m \u001b[32m━━━━━━━━━━━━━━━━━━━━\u001b[0m\u001b[37m\u001b[0m \u001b[1m0s\u001b[0m 4ms/step - accuracy: 0.8524 - loss: 0.3892 - val_accuracy: 0.8889 - val_loss: 0.3120\n",
            "Epoch 71/350\n",
            "\u001b[1m36/36\u001b[0m \u001b[32m━━━━━━━━━━━━━━━━━━━━\u001b[0m\u001b[37m\u001b[0m \u001b[1m0s\u001b[0m 4ms/step - accuracy: 0.8539 - loss: 0.3670 - val_accuracy: 0.8889 - val_loss: 0.3099\n",
            "Epoch 72/350\n",
            "\u001b[1m36/36\u001b[0m \u001b[32m━━━━━━━━━━━━━━━━━━━━\u001b[0m\u001b[37m\u001b[0m \u001b[1m0s\u001b[0m 4ms/step - accuracy: 0.8584 - loss: 0.3821 - val_accuracy: 0.8889 - val_loss: 0.3077\n",
            "Epoch 73/350\n",
            "\u001b[1m36/36\u001b[0m \u001b[32m━━━━━━━━━━━━━━━━━━━━\u001b[0m\u001b[37m\u001b[0m \u001b[1m0s\u001b[0m 4ms/step - accuracy: 0.8288 - loss: 0.3931 - val_accuracy: 0.8889 - val_loss: 0.3074\n",
            "Epoch 74/350\n",
            "\u001b[1m36/36\u001b[0m \u001b[32m━━━━━━━━━━━━━━━━━━━━\u001b[0m\u001b[37m\u001b[0m \u001b[1m0s\u001b[0m 4ms/step - accuracy: 0.8619 - loss: 0.3661 - val_accuracy: 0.8889 - val_loss: 0.3046\n",
            "Epoch 75/350\n",
            "\u001b[1m36/36\u001b[0m \u001b[32m━━━━━━━━━━━━━━━━━━━━\u001b[0m\u001b[37m\u001b[0m \u001b[1m0s\u001b[0m 4ms/step - accuracy: 0.8495 - loss: 0.3767 - val_accuracy: 0.8889 - val_loss: 0.3034\n",
            "Epoch 76/350\n",
            "\u001b[1m36/36\u001b[0m \u001b[32m━━━━━━━━━━━━━━━━━━━━\u001b[0m\u001b[37m\u001b[0m \u001b[1m0s\u001b[0m 4ms/step - accuracy: 0.8428 - loss: 0.3644 - val_accuracy: 0.8889 - val_loss: 0.3015\n",
            "Epoch 77/350\n",
            "\u001b[1m36/36\u001b[0m \u001b[32m━━━━━━━━━━━━━━━━━━━━\u001b[0m\u001b[37m\u001b[0m \u001b[1m0s\u001b[0m 4ms/step - accuracy: 0.8081 - loss: 0.4127 - val_accuracy: 0.8889 - val_loss: 0.3015\n",
            "Epoch 78/350\n",
            "\u001b[1m36/36\u001b[0m \u001b[32m━━━━━━━━━━━━━━━━━━━━\u001b[0m\u001b[37m\u001b[0m \u001b[1m0s\u001b[0m 4ms/step - accuracy: 0.8602 - loss: 0.3500 - val_accuracy: 0.8824 - val_loss: 0.3027\n",
            "Epoch 79/350\n",
            "\u001b[1m36/36\u001b[0m \u001b[32m━━━━━━━━━━━━━━━━━━━━\u001b[0m\u001b[37m\u001b[0m \u001b[1m0s\u001b[0m 4ms/step - accuracy: 0.8266 - loss: 0.3949 - val_accuracy: 0.8889 - val_loss: 0.3069\n",
            "Epoch 80/350\n",
            "\u001b[1m36/36\u001b[0m \u001b[32m━━━━━━━━━━━━━━━━━━━━\u001b[0m\u001b[37m\u001b[0m \u001b[1m0s\u001b[0m 4ms/step - accuracy: 0.8723 - loss: 0.3377 - val_accuracy: 0.8889 - val_loss: 0.3018\n",
            "Epoch 81/350\n",
            "\u001b[1m36/36\u001b[0m \u001b[32m━━━━━━━━━━━━━━━━━━━━\u001b[0m\u001b[37m\u001b[0m \u001b[1m0s\u001b[0m 4ms/step - accuracy: 0.8549 - loss: 0.3599 - val_accuracy: 0.8889 - val_loss: 0.2964\n",
            "Epoch 82/350\n",
            "\u001b[1m36/36\u001b[0m \u001b[32m━━━━━━━━━━━━━━━━━━━━\u001b[0m\u001b[37m\u001b[0m \u001b[1m0s\u001b[0m 4ms/step - accuracy: 0.8570 - loss: 0.3747 - val_accuracy: 0.8889 - val_loss: 0.2933\n",
            "Epoch 83/350\n",
            "\u001b[1m36/36\u001b[0m \u001b[32m━━━━━━━━━━━━━━━━━━━━\u001b[0m\u001b[37m\u001b[0m \u001b[1m0s\u001b[0m 4ms/step - accuracy: 0.8553 - loss: 0.3536 - val_accuracy: 0.8889 - val_loss: 0.2894\n",
            "Epoch 84/350\n",
            "\u001b[1m36/36\u001b[0m \u001b[32m━━━━━━━━━━━━━━━━━━━━\u001b[0m\u001b[37m\u001b[0m \u001b[1m0s\u001b[0m 4ms/step - accuracy: 0.8423 - loss: 0.3846 - val_accuracy: 0.8889 - val_loss: 0.2917\n",
            "Epoch 85/350\n",
            "\u001b[1m36/36\u001b[0m \u001b[32m━━━━━━━━━━━━━━━━━━━━\u001b[0m\u001b[37m\u001b[0m \u001b[1m0s\u001b[0m 4ms/step - accuracy: 0.8744 - loss: 0.3187 - val_accuracy: 0.8889 - val_loss: 0.2914\n",
            "Epoch 86/350\n",
            "\u001b[1m36/36\u001b[0m \u001b[32m━━━━━━━━━━━━━━━━━━━━\u001b[0m\u001b[37m\u001b[0m \u001b[1m0s\u001b[0m 4ms/step - accuracy: 0.8631 - loss: 0.3657 - val_accuracy: 0.8889 - val_loss: 0.2913\n",
            "Epoch 87/350\n",
            "\u001b[1m36/36\u001b[0m \u001b[32m━━━━━━━━━━━━━━━━━━━━\u001b[0m\u001b[37m\u001b[0m \u001b[1m0s\u001b[0m 4ms/step - accuracy: 0.8877 - loss: 0.3130 - val_accuracy: 0.8889 - val_loss: 0.2842\n",
            "Epoch 88/350\n",
            "\u001b[1m36/36\u001b[0m \u001b[32m━━━━━━━━━━━━━━━━━━━━\u001b[0m\u001b[37m\u001b[0m \u001b[1m0s\u001b[0m 5ms/step - accuracy: 0.8690 - loss: 0.3534 - val_accuracy: 0.8889 - val_loss: 0.2868\n",
            "Epoch 89/350\n",
            "\u001b[1m36/36\u001b[0m \u001b[32m━━━━━━━━━━━━━━━━━━━━\u001b[0m\u001b[37m\u001b[0m \u001b[1m0s\u001b[0m 4ms/step - accuracy: 0.8650 - loss: 0.3466 - val_accuracy: 0.8889 - val_loss: 0.2878\n",
            "Epoch 90/350\n",
            "\u001b[1m36/36\u001b[0m \u001b[32m━━━━━━━━━━━━━━━━━━━━\u001b[0m\u001b[37m\u001b[0m \u001b[1m0s\u001b[0m 4ms/step - accuracy: 0.8443 - loss: 0.3609 - val_accuracy: 0.8889 - val_loss: 0.2858\n",
            "Epoch 91/350\n",
            "\u001b[1m36/36\u001b[0m \u001b[32m━━━━━━━━━━━━━━━━━━━━\u001b[0m\u001b[37m\u001b[0m \u001b[1m0s\u001b[0m 5ms/step - accuracy: 0.8354 - loss: 0.3767 - val_accuracy: 0.8889 - val_loss: 0.2862\n",
            "Epoch 92/350\n",
            "\u001b[1m36/36\u001b[0m \u001b[32m━━━━━━━━━━━━━━━━━━━━\u001b[0m\u001b[37m\u001b[0m \u001b[1m0s\u001b[0m 4ms/step - accuracy: 0.8686 - loss: 0.3231 - val_accuracy: 0.8889 - val_loss: 0.2779\n",
            "Epoch 93/350\n",
            "\u001b[1m36/36\u001b[0m \u001b[32m━━━━━━━━━━━━━━━━━━━━\u001b[0m\u001b[37m\u001b[0m \u001b[1m0s\u001b[0m 4ms/step - accuracy: 0.8682 - loss: 0.3423 - val_accuracy: 0.8889 - val_loss: 0.2785\n",
            "Epoch 94/350\n",
            "\u001b[1m36/36\u001b[0m \u001b[32m━━━━━━━━━━━━━━━━━━━━\u001b[0m\u001b[37m\u001b[0m \u001b[1m0s\u001b[0m 4ms/step - accuracy: 0.8463 - loss: 0.3674 - val_accuracy: 0.8889 - val_loss: 0.2876\n",
            "Epoch 95/350\n",
            "\u001b[1m36/36\u001b[0m \u001b[32m━━━━━━━━━━━━━━━━━━━━\u001b[0m\u001b[37m\u001b[0m \u001b[1m0s\u001b[0m 5ms/step - accuracy: 0.8644 - loss: 0.3497 - val_accuracy: 0.8889 - val_loss: 0.2804\n",
            "Epoch 96/350\n",
            "\u001b[1m36/36\u001b[0m \u001b[32m━━━━━━━━━━━━━━━━━━━━\u001b[0m\u001b[37m\u001b[0m \u001b[1m0s\u001b[0m 4ms/step - accuracy: 0.8757 - loss: 0.3045 - val_accuracy: 0.8889 - val_loss: 0.2769\n",
            "Epoch 97/350\n",
            "\u001b[1m36/36\u001b[0m \u001b[32m━━━━━━━━━━━━━━━━━━━━\u001b[0m\u001b[37m\u001b[0m \u001b[1m0s\u001b[0m 4ms/step - accuracy: 0.8474 - loss: 0.3844 - val_accuracy: 0.8889 - val_loss: 0.2743\n",
            "Epoch 98/350\n",
            "\u001b[1m36/36\u001b[0m \u001b[32m━━━━━━━━━━━━━━━━━━━━\u001b[0m\u001b[37m\u001b[0m \u001b[1m0s\u001b[0m 4ms/step - accuracy: 0.8417 - loss: 0.3758 - val_accuracy: 0.8889 - val_loss: 0.2815\n",
            "Epoch 99/350\n",
            "\u001b[1m36/36\u001b[0m \u001b[32m━━━━━━━━━━━━━━━━━━━━\u001b[0m\u001b[37m\u001b[0m \u001b[1m0s\u001b[0m 4ms/step - accuracy: 0.8586 - loss: 0.3414 - val_accuracy: 0.8889 - val_loss: 0.2762\n",
            "Epoch 100/350\n",
            "\u001b[1m36/36\u001b[0m \u001b[32m━━━━━━━━━━━━━━━━━━━━\u001b[0m\u001b[37m\u001b[0m \u001b[1m0s\u001b[0m 4ms/step - accuracy: 0.8603 - loss: 0.3508 - val_accuracy: 0.8889 - val_loss: 0.2895\n",
            "Epoch 101/350\n",
            "\u001b[1m36/36\u001b[0m \u001b[32m━━━━━━━━━━━━━━━━━━━━\u001b[0m\u001b[37m\u001b[0m \u001b[1m0s\u001b[0m 5ms/step - accuracy: 0.8626 - loss: 0.3356 - val_accuracy: 0.8889 - val_loss: 0.2750\n",
            "Epoch 102/350\n",
            "\u001b[1m36/36\u001b[0m \u001b[32m━━━━━━━━━━━━━━━━━━━━\u001b[0m\u001b[37m\u001b[0m \u001b[1m0s\u001b[0m 4ms/step - accuracy: 0.8625 - loss: 0.3462 - val_accuracy: 0.8889 - val_loss: 0.2782\n",
            "Epoch 103/350\n",
            "\u001b[1m36/36\u001b[0m \u001b[32m━━━━━━━━━━━━━━━━━━━━\u001b[0m\u001b[37m\u001b[0m \u001b[1m0s\u001b[0m 4ms/step - accuracy: 0.8732 - loss: 0.3169 - val_accuracy: 0.8889 - val_loss: 0.2782\n",
            "Epoch 104/350\n",
            "\u001b[1m36/36\u001b[0m \u001b[32m━━━━━━━━━━━━━━━━━━━━\u001b[0m\u001b[37m\u001b[0m \u001b[1m0s\u001b[0m 4ms/step - accuracy: 0.8441 - loss: 0.3686 - val_accuracy: 0.8889 - val_loss: 0.2791\n",
            "Epoch 105/350\n",
            "\u001b[1m36/36\u001b[0m \u001b[32m━━━━━━━━━━━━━━━━━━━━\u001b[0m\u001b[37m\u001b[0m \u001b[1m0s\u001b[0m 4ms/step - accuracy: 0.8308 - loss: 0.3647 - val_accuracy: 0.8954 - val_loss: 0.2773\n",
            "Epoch 106/350\n",
            "\u001b[1m36/36\u001b[0m \u001b[32m━━━━━━━━━━━━━━━━━━━━\u001b[0m\u001b[37m\u001b[0m \u001b[1m0s\u001b[0m 5ms/step - accuracy: 0.8467 - loss: 0.3664 - val_accuracy: 0.8889 - val_loss: 0.2770\n",
            "Epoch 107/350\n",
            "\u001b[1m36/36\u001b[0m \u001b[32m━━━━━━━━━━━━━━━━━━━━\u001b[0m\u001b[37m\u001b[0m \u001b[1m0s\u001b[0m 5ms/step - accuracy: 0.8665 - loss: 0.3491 - val_accuracy: 0.8889 - val_loss: 0.2782\n",
            "Epoch 108/350\n",
            "\u001b[1m36/36\u001b[0m \u001b[32m━━━━━━━━━━━━━━━━━━━━\u001b[0m\u001b[37m\u001b[0m \u001b[1m0s\u001b[0m 5ms/step - accuracy: 0.8501 - loss: 0.3525 - val_accuracy: 0.8889 - val_loss: 0.2721\n",
            "Epoch 109/350\n",
            "\u001b[1m36/36\u001b[0m \u001b[32m━━━━━━━━━━━━━━━━━━━━\u001b[0m\u001b[37m\u001b[0m \u001b[1m0s\u001b[0m 4ms/step - accuracy: 0.8611 - loss: 0.3397 - val_accuracy: 0.8889 - val_loss: 0.2713\n",
            "Epoch 110/350\n",
            "\u001b[1m36/36\u001b[0m \u001b[32m━━━━━━━━━━━━━━━━━━━━\u001b[0m\u001b[37m\u001b[0m \u001b[1m0s\u001b[0m 4ms/step - accuracy: 0.8764 - loss: 0.3148 - val_accuracy: 0.8889 - val_loss: 0.2705\n",
            "Epoch 111/350\n",
            "\u001b[1m36/36\u001b[0m \u001b[32m━━━━━━━━━━━━━━━━━━━━\u001b[0m\u001b[37m\u001b[0m \u001b[1m0s\u001b[0m 4ms/step - accuracy: 0.8725 - loss: 0.3419 - val_accuracy: 0.8889 - val_loss: 0.2731\n",
            "Epoch 112/350\n",
            "\u001b[1m36/36\u001b[0m \u001b[32m━━━━━━━━━━━━━━━━━━━━\u001b[0m\u001b[37m\u001b[0m \u001b[1m0s\u001b[0m 4ms/step - accuracy: 0.8394 - loss: 0.3639 - val_accuracy: 0.8889 - val_loss: 0.2772\n",
            "Epoch 113/350\n",
            "\u001b[1m36/36\u001b[0m \u001b[32m━━━━━━━━━━━━━━━━━━━━\u001b[0m\u001b[37m\u001b[0m \u001b[1m0s\u001b[0m 4ms/step - accuracy: 0.8626 - loss: 0.3279 - val_accuracy: 0.8954 - val_loss: 0.2662\n",
            "Epoch 114/350\n",
            "\u001b[1m36/36\u001b[0m \u001b[32m━━━━━━━━━━━━━━━━━━━━\u001b[0m\u001b[37m\u001b[0m \u001b[1m0s\u001b[0m 4ms/step - accuracy: 0.8549 - loss: 0.3271 - val_accuracy: 0.8954 - val_loss: 0.2629\n",
            "Epoch 115/350\n",
            "\u001b[1m36/36\u001b[0m \u001b[32m━━━━━━━━━━━━━━━━━━━━\u001b[0m\u001b[37m\u001b[0m \u001b[1m0s\u001b[0m 4ms/step - accuracy: 0.8543 - loss: 0.3519 - val_accuracy: 0.8889 - val_loss: 0.2706\n",
            "Epoch 116/350\n",
            "\u001b[1m36/36\u001b[0m \u001b[32m━━━━━━━━━━━━━━━━━━━━\u001b[0m\u001b[37m\u001b[0m \u001b[1m0s\u001b[0m 4ms/step - accuracy: 0.8623 - loss: 0.3392 - val_accuracy: 0.8954 - val_loss: 0.2642\n",
            "Epoch 117/350\n",
            "\u001b[1m36/36\u001b[0m \u001b[32m━━━━━━━━━━━━━━━━━━━━\u001b[0m\u001b[37m\u001b[0m \u001b[1m0s\u001b[0m 5ms/step - accuracy: 0.8637 - loss: 0.3375 - val_accuracy: 0.8889 - val_loss: 0.2719\n",
            "Epoch 118/350\n",
            "\u001b[1m36/36\u001b[0m \u001b[32m━━━━━━━━━━━━━━━━━━━━\u001b[0m\u001b[37m\u001b[0m \u001b[1m0s\u001b[0m 5ms/step - accuracy: 0.8821 - loss: 0.2978 - val_accuracy: 0.8954 - val_loss: 0.2630\n",
            "Epoch 119/350\n",
            "\u001b[1m36/36\u001b[0m \u001b[32m━━━━━━━━━━━━━━━━━━━━\u001b[0m\u001b[37m\u001b[0m \u001b[1m0s\u001b[0m 5ms/step - accuracy: 0.8812 - loss: 0.3124 - val_accuracy: 0.8954 - val_loss: 0.2618\n",
            "Epoch 120/350\n",
            "\u001b[1m36/36\u001b[0m \u001b[32m━━━━━━━━━━━━━━━━━━━━\u001b[0m\u001b[37m\u001b[0m \u001b[1m0s\u001b[0m 4ms/step - accuracy: 0.9013 - loss: 0.2845 - val_accuracy: 0.8954 - val_loss: 0.2595\n",
            "Epoch 121/350\n",
            "\u001b[1m36/36\u001b[0m \u001b[32m━━━━━━━━━━━━━━━━━━━━\u001b[0m\u001b[37m\u001b[0m \u001b[1m0s\u001b[0m 4ms/step - accuracy: 0.8389 - loss: 0.3559 - val_accuracy: 0.8954 - val_loss: 0.2699\n",
            "Epoch 122/350\n",
            "\u001b[1m36/36\u001b[0m \u001b[32m━━━━━━━━━━━━━━━━━━━━\u001b[0m\u001b[37m\u001b[0m \u001b[1m0s\u001b[0m 5ms/step - accuracy: 0.8635 - loss: 0.3392 - val_accuracy: 0.8954 - val_loss: 0.2679\n",
            "Epoch 123/350\n",
            "\u001b[1m36/36\u001b[0m \u001b[32m━━━━━━━━━━━━━━━━━━━━\u001b[0m\u001b[37m\u001b[0m \u001b[1m0s\u001b[0m 4ms/step - accuracy: 0.8406 - loss: 0.3656 - val_accuracy: 0.8889 - val_loss: 0.2769\n",
            "Epoch 124/350\n",
            "\u001b[1m36/36\u001b[0m \u001b[32m━━━━━━━━━━━━━━━━━━━━\u001b[0m\u001b[37m\u001b[0m \u001b[1m0s\u001b[0m 4ms/step - accuracy: 0.8396 - loss: 0.3435 - val_accuracy: 0.8954 - val_loss: 0.2643\n",
            "Epoch 125/350\n",
            "\u001b[1m36/36\u001b[0m \u001b[32m━━━━━━━━━━━━━━━━━━━━\u001b[0m\u001b[37m\u001b[0m \u001b[1m0s\u001b[0m 4ms/step - accuracy: 0.9061 - loss: 0.2841 - val_accuracy: 0.8954 - val_loss: 0.2632\n",
            "Epoch 126/350\n",
            "\u001b[1m36/36\u001b[0m \u001b[32m━━━━━━━━━━━━━━━━━━━━\u001b[0m\u001b[37m\u001b[0m \u001b[1m0s\u001b[0m 4ms/step - accuracy: 0.9189 - loss: 0.2771 - val_accuracy: 0.9020 - val_loss: 0.2583\n",
            "Epoch 127/350\n",
            "\u001b[1m36/36\u001b[0m \u001b[32m━━━━━━━━━━━━━━━━━━━━\u001b[0m\u001b[37m\u001b[0m \u001b[1m0s\u001b[0m 4ms/step - accuracy: 0.8566 - loss: 0.3553 - val_accuracy: 0.8954 - val_loss: 0.2673\n",
            "Epoch 128/350\n",
            "\u001b[1m36/36\u001b[0m \u001b[32m━━━━━━━━━━━━━━━━━━━━\u001b[0m\u001b[37m\u001b[0m \u001b[1m0s\u001b[0m 4ms/step - accuracy: 0.9069 - loss: 0.2951 - val_accuracy: 0.8954 - val_loss: 0.2673\n",
            "Epoch 129/350\n",
            "\u001b[1m36/36\u001b[0m \u001b[32m━━━━━━━━━━━━━━━━━━━━\u001b[0m\u001b[37m\u001b[0m \u001b[1m0s\u001b[0m 4ms/step - accuracy: 0.8737 - loss: 0.3166 - val_accuracy: 0.8954 - val_loss: 0.2652\n",
            "Epoch 130/350\n",
            "\u001b[1m36/36\u001b[0m \u001b[32m━━━━━━━━━━━━━━━━━━━━\u001b[0m\u001b[37m\u001b[0m \u001b[1m0s\u001b[0m 4ms/step - accuracy: 0.8549 - loss: 0.3500 - val_accuracy: 0.8954 - val_loss: 0.2617\n",
            "Epoch 131/350\n",
            "\u001b[1m36/36\u001b[0m \u001b[32m━━━━━━━━━━━━━━━━━━━━\u001b[0m\u001b[37m\u001b[0m \u001b[1m0s\u001b[0m 4ms/step - accuracy: 0.8658 - loss: 0.3247 - val_accuracy: 0.8954 - val_loss: 0.2679\n",
            "Epoch 132/350\n",
            "\u001b[1m36/36\u001b[0m \u001b[32m━━━━━━━━━━━━━━━━━━━━\u001b[0m\u001b[37m\u001b[0m \u001b[1m0s\u001b[0m 4ms/step - accuracy: 0.8927 - loss: 0.3027 - val_accuracy: 0.9020 - val_loss: 0.2568\n",
            "Epoch 133/350\n",
            "\u001b[1m36/36\u001b[0m \u001b[32m━━━━━━━━━━━━━━━━━━━━\u001b[0m\u001b[37m\u001b[0m \u001b[1m0s\u001b[0m 4ms/step - accuracy: 0.8720 - loss: 0.3365 - val_accuracy: 0.8954 - val_loss: 0.2624\n",
            "Epoch 134/350\n",
            "\u001b[1m36/36\u001b[0m \u001b[32m━━━━━━━━━━━━━━━━━━━━\u001b[0m\u001b[37m\u001b[0m \u001b[1m0s\u001b[0m 4ms/step - accuracy: 0.8864 - loss: 0.2934 - val_accuracy: 0.8954 - val_loss: 0.2698\n",
            "Epoch 135/350\n",
            "\u001b[1m36/36\u001b[0m \u001b[32m━━━━━━━━━━━━━━━━━━━━\u001b[0m\u001b[37m\u001b[0m \u001b[1m0s\u001b[0m 4ms/step - accuracy: 0.8677 - loss: 0.3123 - val_accuracy: 0.8889 - val_loss: 0.2711\n",
            "Epoch 136/350\n",
            "\u001b[1m36/36\u001b[0m \u001b[32m━━━━━━━━━━━━━━━━━━━━\u001b[0m\u001b[37m\u001b[0m \u001b[1m0s\u001b[0m 5ms/step - accuracy: 0.8787 - loss: 0.3229 - val_accuracy: 0.8954 - val_loss: 0.2646\n",
            "Epoch 137/350\n",
            "\u001b[1m36/36\u001b[0m \u001b[32m━━━━━━━━━━━━━━━━━━━━\u001b[0m\u001b[37m\u001b[0m \u001b[1m0s\u001b[0m 5ms/step - accuracy: 0.8529 - loss: 0.3465 - val_accuracy: 0.9020 - val_loss: 0.2582\n",
            "Epoch 138/350\n",
            "\u001b[1m36/36\u001b[0m \u001b[32m━━━━━━━━━━━━━━━━━━━━\u001b[0m\u001b[37m\u001b[0m \u001b[1m0s\u001b[0m 4ms/step - accuracy: 0.8730 - loss: 0.3241 - val_accuracy: 0.8954 - val_loss: 0.2627\n",
            "Epoch 139/350\n",
            "\u001b[1m36/36\u001b[0m \u001b[32m━━━━━━━━━━━━━━━━━━━━\u001b[0m\u001b[37m\u001b[0m \u001b[1m0s\u001b[0m 4ms/step - accuracy: 0.9081 - loss: 0.2561 - val_accuracy: 0.8954 - val_loss: 0.2570\n",
            "Epoch 140/350\n",
            "\u001b[1m36/36\u001b[0m \u001b[32m━━━━━━━━━━━━━━━━━━━━\u001b[0m\u001b[37m\u001b[0m \u001b[1m0s\u001b[0m 4ms/step - accuracy: 0.8873 - loss: 0.2958 - val_accuracy: 0.8954 - val_loss: 0.2635\n",
            "Epoch 141/350\n",
            "\u001b[1m36/36\u001b[0m \u001b[32m━━━━━━━━━━━━━━━━━━━━\u001b[0m\u001b[37m\u001b[0m \u001b[1m0s\u001b[0m 4ms/step - accuracy: 0.8756 - loss: 0.3288 - val_accuracy: 0.8954 - val_loss: 0.2689\n",
            "Epoch 142/350\n",
            "\u001b[1m36/36\u001b[0m \u001b[32m━━━━━━━━━━━━━━━━━━━━\u001b[0m\u001b[37m\u001b[0m \u001b[1m0s\u001b[0m 5ms/step - accuracy: 0.8657 - loss: 0.3293 - val_accuracy: 0.9020 - val_loss: 0.2573\n",
            "Epoch 143/350\n",
            "\u001b[1m36/36\u001b[0m \u001b[32m━━━━━━━━━━━━━━━━━━━━\u001b[0m\u001b[37m\u001b[0m \u001b[1m0s\u001b[0m 4ms/step - accuracy: 0.8851 - loss: 0.2967 - val_accuracy: 0.9020 - val_loss: 0.2594\n",
            "Epoch 144/350\n",
            "\u001b[1m36/36\u001b[0m \u001b[32m━━━━━━━━━━━━━━━━━━━━\u001b[0m\u001b[37m\u001b[0m \u001b[1m0s\u001b[0m 4ms/step - accuracy: 0.8925 - loss: 0.2864 - val_accuracy: 0.8954 - val_loss: 0.2644\n",
            "Epoch 145/350\n",
            "\u001b[1m36/36\u001b[0m \u001b[32m━━━━━━━━━━━━━━━━━━━━\u001b[0m\u001b[37m\u001b[0m \u001b[1m0s\u001b[0m 4ms/step - accuracy: 0.8865 - loss: 0.2760 - val_accuracy: 0.9020 - val_loss: 0.2727\n",
            "Epoch 146/350\n",
            "\u001b[1m36/36\u001b[0m \u001b[32m━━━━━━━━━━━━━━━━━━━━\u001b[0m\u001b[37m\u001b[0m \u001b[1m0s\u001b[0m 4ms/step - accuracy: 0.8783 - loss: 0.3167 - val_accuracy: 0.8954 - val_loss: 0.2602\n",
            "Epoch 147/350\n",
            "\u001b[1m36/36\u001b[0m \u001b[32m━━━━━━━━━━━━━━━━━━━━\u001b[0m\u001b[37m\u001b[0m \u001b[1m0s\u001b[0m 4ms/step - accuracy: 0.8945 - loss: 0.2778 - val_accuracy: 0.9020 - val_loss: 0.2546\n",
            "Epoch 148/350\n",
            "\u001b[1m36/36\u001b[0m \u001b[32m━━━━━━━━━━━━━━━━━━━━\u001b[0m\u001b[37m\u001b[0m \u001b[1m0s\u001b[0m 4ms/step - accuracy: 0.8547 - loss: 0.3176 - val_accuracy: 0.9020 - val_loss: 0.2526\n",
            "Epoch 149/350\n",
            "\u001b[1m36/36\u001b[0m \u001b[32m━━━━━━━━━━━━━━━━━━━━\u001b[0m\u001b[37m\u001b[0m \u001b[1m0s\u001b[0m 4ms/step - accuracy: 0.8508 - loss: 0.3530 - val_accuracy: 0.9020 - val_loss: 0.2566\n",
            "Epoch 150/350\n",
            "\u001b[1m36/36\u001b[0m \u001b[32m━━━━━━━━━━━━━━━━━━━━\u001b[0m\u001b[37m\u001b[0m \u001b[1m0s\u001b[0m 4ms/step - accuracy: 0.8481 - loss: 0.3493 - val_accuracy: 0.8954 - val_loss: 0.2651\n",
            "Epoch 151/350\n",
            "\u001b[1m36/36\u001b[0m \u001b[32m━━━━━━━━━━━━━━━━━━━━\u001b[0m\u001b[37m\u001b[0m \u001b[1m0s\u001b[0m 5ms/step - accuracy: 0.8553 - loss: 0.3520 - val_accuracy: 0.8954 - val_loss: 0.2634\n",
            "Epoch 152/350\n",
            "\u001b[1m36/36\u001b[0m \u001b[32m━━━━━━━━━━━━━━━━━━━━\u001b[0m\u001b[37m\u001b[0m \u001b[1m0s\u001b[0m 5ms/step - accuracy: 0.8701 - loss: 0.3184 - val_accuracy: 0.9020 - val_loss: 0.2517\n",
            "Epoch 153/350\n",
            "\u001b[1m36/36\u001b[0m \u001b[32m━━━━━━━━━━━━━━━━━━━━\u001b[0m\u001b[37m\u001b[0m \u001b[1m0s\u001b[0m 4ms/step - accuracy: 0.8449 - loss: 0.3909 - val_accuracy: 0.8954 - val_loss: 0.2623\n",
            "Epoch 154/350\n",
            "\u001b[1m36/36\u001b[0m \u001b[32m━━━━━━━━━━━━━━━━━━━━\u001b[0m\u001b[37m\u001b[0m \u001b[1m0s\u001b[0m 4ms/step - accuracy: 0.8730 - loss: 0.3265 - val_accuracy: 0.9020 - val_loss: 0.2515\n",
            "Epoch 155/350\n",
            "\u001b[1m36/36\u001b[0m \u001b[32m━━━━━━━━━━━━━━━━━━━━\u001b[0m\u001b[37m\u001b[0m \u001b[1m0s\u001b[0m 4ms/step - accuracy: 0.8721 - loss: 0.3321 - val_accuracy: 0.8954 - val_loss: 0.2606\n",
            "Epoch 156/350\n",
            "\u001b[1m36/36\u001b[0m \u001b[32m━━━━━━━━━━━━━━━━━━━━\u001b[0m\u001b[37m\u001b[0m \u001b[1m0s\u001b[0m 4ms/step - accuracy: 0.8642 - loss: 0.3302 - val_accuracy: 0.8954 - val_loss: 0.2654\n",
            "Epoch 157/350\n",
            "\u001b[1m36/36\u001b[0m \u001b[32m━━━━━━━━━━━━━━━━━━━━\u001b[0m\u001b[37m\u001b[0m \u001b[1m0s\u001b[0m 4ms/step - accuracy: 0.8754 - loss: 0.3218 - val_accuracy: 0.8954 - val_loss: 0.2635\n",
            "Epoch 158/350\n",
            "\u001b[1m36/36\u001b[0m \u001b[32m━━━━━━━━━━━━━━━━━━━━\u001b[0m\u001b[37m\u001b[0m \u001b[1m0s\u001b[0m 4ms/step - accuracy: 0.8490 - loss: 0.3403 - val_accuracy: 0.8954 - val_loss: 0.2677\n",
            "Epoch 159/350\n",
            "\u001b[1m36/36\u001b[0m \u001b[32m━━━━━━━━━━━━━━━━━━━━\u001b[0m\u001b[37m\u001b[0m \u001b[1m0s\u001b[0m 4ms/step - accuracy: 0.8655 - loss: 0.3320 - val_accuracy: 0.8954 - val_loss: 0.2584\n",
            "Epoch 160/350\n",
            "\u001b[1m36/36\u001b[0m \u001b[32m━━━━━━━━━━━━━━━━━━━━\u001b[0m\u001b[37m\u001b[0m \u001b[1m0s\u001b[0m 5ms/step - accuracy: 0.8837 - loss: 0.3047 - val_accuracy: 0.9020 - val_loss: 0.2554\n",
            "Epoch 161/350\n",
            "\u001b[1m36/36\u001b[0m \u001b[32m━━━━━━━━━━━━━━━━━━━━\u001b[0m\u001b[37m\u001b[0m \u001b[1m0s\u001b[0m 5ms/step - accuracy: 0.8535 - loss: 0.3408 - val_accuracy: 0.8954 - val_loss: 0.2709\n",
            "Epoch 162/350\n",
            "\u001b[1m36/36\u001b[0m \u001b[32m━━━━━━━━━━━━━━━━━━━━\u001b[0m\u001b[37m\u001b[0m \u001b[1m0s\u001b[0m 4ms/step - accuracy: 0.8626 - loss: 0.3230 - val_accuracy: 0.8954 - val_loss: 0.2612\n",
            "Epoch 163/350\n",
            "\u001b[1m36/36\u001b[0m \u001b[32m━━━━━━━━━━━━━━━━━━━━\u001b[0m\u001b[37m\u001b[0m \u001b[1m0s\u001b[0m 4ms/step - accuracy: 0.9040 - loss: 0.2810 - val_accuracy: 0.8954 - val_loss: 0.2609\n",
            "Epoch 164/350\n",
            "\u001b[1m36/36\u001b[0m \u001b[32m━━━━━━━━━━━━━━━━━━━━\u001b[0m\u001b[37m\u001b[0m \u001b[1m0s\u001b[0m 4ms/step - accuracy: 0.8622 - loss: 0.3070 - val_accuracy: 0.9020 - val_loss: 0.2564\n",
            "Epoch 165/350\n",
            "\u001b[1m36/36\u001b[0m \u001b[32m━━━━━━━━━━━━━━━━━━━━\u001b[0m\u001b[37m\u001b[0m \u001b[1m0s\u001b[0m 4ms/step - accuracy: 0.8853 - loss: 0.2972 - val_accuracy: 0.8954 - val_loss: 0.2615\n",
            "Epoch 166/350\n",
            "\u001b[1m36/36\u001b[0m \u001b[32m━━━━━━━━━━━━━━━━━━━━\u001b[0m\u001b[37m\u001b[0m \u001b[1m0s\u001b[0m 4ms/step - accuracy: 0.8617 - loss: 0.3378 - val_accuracy: 0.8954 - val_loss: 0.2665\n",
            "Epoch 167/350\n",
            "\u001b[1m36/36\u001b[0m \u001b[32m━━━━━━━━━━━━━━━━━━━━\u001b[0m\u001b[37m\u001b[0m \u001b[1m0s\u001b[0m 4ms/step - accuracy: 0.8356 - loss: 0.3745 - val_accuracy: 0.8889 - val_loss: 0.2721\n",
            "Epoch 168/350\n",
            "\u001b[1m36/36\u001b[0m \u001b[32m━━━━━━━━━━━━━━━━━━━━\u001b[0m\u001b[37m\u001b[0m \u001b[1m0s\u001b[0m 4ms/step - accuracy: 0.8701 - loss: 0.3115 - val_accuracy: 0.8889 - val_loss: 0.2752\n",
            "Epoch 169/350\n",
            "\u001b[1m36/36\u001b[0m \u001b[32m━━━━━━━━━━━━━━━━━━━━\u001b[0m\u001b[37m\u001b[0m \u001b[1m0s\u001b[0m 5ms/step - accuracy: 0.8508 - loss: 0.3411 - val_accuracy: 0.8954 - val_loss: 0.2569\n",
            "Epoch 170/350\n",
            "\u001b[1m36/36\u001b[0m \u001b[32m━━━━━━━━━━━━━━━━━━━━\u001b[0m\u001b[37m\u001b[0m \u001b[1m0s\u001b[0m 4ms/step - accuracy: 0.8936 - loss: 0.2996 - val_accuracy: 0.8954 - val_loss: 0.2664\n",
            "Epoch 171/350\n",
            "\u001b[1m36/36\u001b[0m \u001b[32m━━━━━━━━━━━━━━━━━━━━\u001b[0m\u001b[37m\u001b[0m \u001b[1m0s\u001b[0m 4ms/step - accuracy: 0.8651 - loss: 0.3298 - val_accuracy: 0.8954 - val_loss: 0.2572\n",
            "Epoch 172/350\n",
            "\u001b[1m36/36\u001b[0m \u001b[32m━━━━━━━━━━━━━━━━━━━━\u001b[0m\u001b[37m\u001b[0m \u001b[1m0s\u001b[0m 4ms/step - accuracy: 0.8745 - loss: 0.3266 - val_accuracy: 0.8954 - val_loss: 0.2593\n",
            "Epoch 173/350\n",
            "\u001b[1m36/36\u001b[0m \u001b[32m━━━━━━━━━━━━━━━━━━━━\u001b[0m\u001b[37m\u001b[0m \u001b[1m0s\u001b[0m 5ms/step - accuracy: 0.8381 - loss: 0.3636 - val_accuracy: 0.8954 - val_loss: 0.2675\n",
            "Epoch 174/350\n",
            "\u001b[1m36/36\u001b[0m \u001b[32m━━━━━━━━━━━━━━━━━━━━\u001b[0m\u001b[37m\u001b[0m \u001b[1m0s\u001b[0m 5ms/step - accuracy: 0.8747 - loss: 0.3129 - val_accuracy: 0.8954 - val_loss: 0.2659\n",
            "Epoch 175/350\n",
            "\u001b[1m36/36\u001b[0m \u001b[32m━━━━━━━━━━━━━━━━━━━━\u001b[0m\u001b[37m\u001b[0m \u001b[1m0s\u001b[0m 4ms/step - accuracy: 0.8387 - loss: 0.3458 - val_accuracy: 0.8889 - val_loss: 0.2696\n",
            "Epoch 176/350\n",
            "\u001b[1m36/36\u001b[0m \u001b[32m━━━━━━━━━━━━━━━━━━━━\u001b[0m\u001b[37m\u001b[0m \u001b[1m0s\u001b[0m 4ms/step - accuracy: 0.8704 - loss: 0.3191 - val_accuracy: 0.8954 - val_loss: 0.2624\n",
            "Epoch 177/350\n",
            "\u001b[1m36/36\u001b[0m \u001b[32m━━━━━━━━━━━━━━━━━━━━\u001b[0m\u001b[37m\u001b[0m \u001b[1m0s\u001b[0m 4ms/step - accuracy: 0.8535 - loss: 0.3411 - val_accuracy: 0.8954 - val_loss: 0.2612\n",
            "Epoch 178/350\n",
            "\u001b[1m36/36\u001b[0m \u001b[32m━━━━━━━━━━━━━━━━━━━━\u001b[0m\u001b[37m\u001b[0m \u001b[1m0s\u001b[0m 4ms/step - accuracy: 0.8640 - loss: 0.3220 - val_accuracy: 0.8954 - val_loss: 0.2631\n",
            "Epoch 179/350\n",
            "\u001b[1m36/36\u001b[0m \u001b[32m━━━━━━━━━━━━━━━━━━━━\u001b[0m\u001b[37m\u001b[0m \u001b[1m0s\u001b[0m 4ms/step - accuracy: 0.8816 - loss: 0.3102 - val_accuracy: 0.8954 - val_loss: 0.2656\n",
            "Epoch 180/350\n",
            "\u001b[1m36/36\u001b[0m \u001b[32m━━━━━━━━━━━━━━━━━━━━\u001b[0m\u001b[37m\u001b[0m \u001b[1m0s\u001b[0m 4ms/step - accuracy: 0.8728 - loss: 0.3075 - val_accuracy: 0.8954 - val_loss: 0.2562\n",
            "Epoch 181/350\n",
            "\u001b[1m36/36\u001b[0m \u001b[32m━━━━━━━━━━━━━━━━━━━━\u001b[0m\u001b[37m\u001b[0m \u001b[1m0s\u001b[0m 4ms/step - accuracy: 0.8589 - loss: 0.3441 - val_accuracy: 0.8954 - val_loss: 0.2670\n",
            "Epoch 182/350\n",
            "\u001b[1m36/36\u001b[0m \u001b[32m━━━━━━━━━━━━━━━━━━━━\u001b[0m\u001b[37m\u001b[0m \u001b[1m0s\u001b[0m 5ms/step - accuracy: 0.8548 - loss: 0.3232 - val_accuracy: 0.8954 - val_loss: 0.2599\n",
            "Epoch 183/350\n",
            "\u001b[1m36/36\u001b[0m \u001b[32m━━━━━━━━━━━━━━━━━━━━\u001b[0m\u001b[37m\u001b[0m \u001b[1m0s\u001b[0m 5ms/step - accuracy: 0.8952 - loss: 0.2862 - val_accuracy: 0.8954 - val_loss: 0.2631\n",
            "Epoch 184/350\n",
            "\u001b[1m36/36\u001b[0m \u001b[32m━━━━━━━━━━━━━━━━━━━━\u001b[0m\u001b[37m\u001b[0m \u001b[1m0s\u001b[0m 5ms/step - accuracy: 0.8828 - loss: 0.3053 - val_accuracy: 0.8954 - val_loss: 0.2637\n",
            "Epoch 185/350\n",
            "\u001b[1m36/36\u001b[0m \u001b[32m━━━━━━━━━━━━━━━━━━━━\u001b[0m\u001b[37m\u001b[0m \u001b[1m0s\u001b[0m 5ms/step - accuracy: 0.8621 - loss: 0.3330 - val_accuracy: 0.8954 - val_loss: 0.2555\n",
            "Epoch 186/350\n",
            "\u001b[1m36/36\u001b[0m \u001b[32m━━━━━━━━━━━━━━━━━━━━\u001b[0m\u001b[37m\u001b[0m \u001b[1m0s\u001b[0m 5ms/step - accuracy: 0.8665 - loss: 0.3263 - val_accuracy: 0.8954 - val_loss: 0.2565\n",
            "Epoch 187/350\n",
            "\u001b[1m36/36\u001b[0m \u001b[32m━━━━━━━━━━━━━━━━━━━━\u001b[0m\u001b[37m\u001b[0m \u001b[1m0s\u001b[0m 4ms/step - accuracy: 0.8398 - loss: 0.3686 - val_accuracy: 0.8889 - val_loss: 0.2697\n",
            "Epoch 188/350\n",
            "\u001b[1m36/36\u001b[0m \u001b[32m━━━━━━━━━━━━━━━━━━━━\u001b[0m\u001b[37m\u001b[0m \u001b[1m0s\u001b[0m 4ms/step - accuracy: 0.8430 - loss: 0.3535 - val_accuracy: 0.8954 - val_loss: 0.2572\n",
            "Epoch 189/350\n",
            "\u001b[1m36/36\u001b[0m \u001b[32m━━━━━━━━━━━━━━━━━━━━\u001b[0m\u001b[37m\u001b[0m \u001b[1m0s\u001b[0m 4ms/step - accuracy: 0.9032 - loss: 0.2712 - val_accuracy: 0.8954 - val_loss: 0.2613\n",
            "Epoch 190/350\n",
            "\u001b[1m36/36\u001b[0m \u001b[32m━━━━━━━━━━━━━━━━━━━━\u001b[0m\u001b[37m\u001b[0m \u001b[1m0s\u001b[0m 4ms/step - accuracy: 0.8576 - loss: 0.3289 - val_accuracy: 0.9020 - val_loss: 0.2528\n",
            "Epoch 191/350\n",
            "\u001b[1m36/36\u001b[0m \u001b[32m━━━━━━━━━━━━━━━━━━━━\u001b[0m\u001b[37m\u001b[0m \u001b[1m0s\u001b[0m 4ms/step - accuracy: 0.8617 - loss: 0.3411 - val_accuracy: 0.8954 - val_loss: 0.2608\n",
            "Epoch 192/350\n",
            "\u001b[1m36/36\u001b[0m \u001b[32m━━━━━━━━━━━━━━━━━━━━\u001b[0m\u001b[37m\u001b[0m \u001b[1m0s\u001b[0m 4ms/step - accuracy: 0.8739 - loss: 0.3179 - val_accuracy: 0.8954 - val_loss: 0.2580\n",
            "Epoch 193/350\n",
            "\u001b[1m36/36\u001b[0m \u001b[32m━━━━━━━━━━━━━━━━━━━━\u001b[0m\u001b[37m\u001b[0m \u001b[1m0s\u001b[0m 4ms/step - accuracy: 0.8905 - loss: 0.2816 - val_accuracy: 0.8954 - val_loss: 0.2589\n",
            "Epoch 194/350\n",
            "\u001b[1m36/36\u001b[0m \u001b[32m━━━━━━━━━━━━━━━━━━━━\u001b[0m\u001b[37m\u001b[0m \u001b[1m0s\u001b[0m 4ms/step - accuracy: 0.8448 - loss: 0.3532 - val_accuracy: 0.8954 - val_loss: 0.2624\n",
            "Epoch 195/350\n",
            "\u001b[1m36/36\u001b[0m \u001b[32m━━━━━━━━━━━━━━━━━━━━\u001b[0m\u001b[37m\u001b[0m \u001b[1m0s\u001b[0m 4ms/step - accuracy: 0.8388 - loss: 0.3602 - val_accuracy: 0.8954 - val_loss: 0.2639\n",
            "Epoch 196/350\n",
            "\u001b[1m36/36\u001b[0m \u001b[32m━━━━━━━━━━━━━━━━━━━━\u001b[0m\u001b[37m\u001b[0m \u001b[1m0s\u001b[0m 4ms/step - accuracy: 0.8583 - loss: 0.3176 - val_accuracy: 0.8954 - val_loss: 0.2649\n",
            "Epoch 197/350\n",
            "\u001b[1m36/36\u001b[0m \u001b[32m━━━━━━━━━━━━━━━━━━━━\u001b[0m\u001b[37m\u001b[0m \u001b[1m0s\u001b[0m 4ms/step - accuracy: 0.8803 - loss: 0.2980 - val_accuracy: 0.8954 - val_loss: 0.2590\n",
            "Epoch 198/350\n",
            "\u001b[1m36/36\u001b[0m \u001b[32m━━━━━━━━━━━━━━━━━━━━\u001b[0m\u001b[37m\u001b[0m \u001b[1m0s\u001b[0m 4ms/step - accuracy: 0.8730 - loss: 0.3207 - val_accuracy: 0.8954 - val_loss: 0.2564\n",
            "Epoch 199/350\n",
            "\u001b[1m36/36\u001b[0m \u001b[32m━━━━━━━━━━━━━━━━━━━━\u001b[0m\u001b[37m\u001b[0m \u001b[1m0s\u001b[0m 4ms/step - accuracy: 0.8715 - loss: 0.3140 - val_accuracy: 0.8954 - val_loss: 0.2537\n",
            "Epoch 200/350\n",
            "\u001b[1m36/36\u001b[0m \u001b[32m━━━━━━━━━━━━━━━━━━━━\u001b[0m\u001b[37m\u001b[0m \u001b[1m0s\u001b[0m 4ms/step - accuracy: 0.8505 - loss: 0.3569 - val_accuracy: 0.8954 - val_loss: 0.2598\n",
            "Epoch 201/350\n",
            "\u001b[1m36/36\u001b[0m \u001b[32m━━━━━━━━━━━━━━━━━━━━\u001b[0m\u001b[37m\u001b[0m \u001b[1m0s\u001b[0m 4ms/step - accuracy: 0.8960 - loss: 0.2845 - val_accuracy: 0.8954 - val_loss: 0.2577\n",
            "Epoch 202/350\n",
            "\u001b[1m36/36\u001b[0m \u001b[32m━━━━━━━━━━━━━━━━━━━━\u001b[0m\u001b[37m\u001b[0m \u001b[1m0s\u001b[0m 4ms/step - accuracy: 0.8774 - loss: 0.3230 - val_accuracy: 0.8954 - val_loss: 0.2571\n",
            "Epoch 203/350\n",
            "\u001b[1m36/36\u001b[0m \u001b[32m━━━━━━━━━━━━━━━━━━━━\u001b[0m\u001b[37m\u001b[0m \u001b[1m0s\u001b[0m 4ms/step - accuracy: 0.8881 - loss: 0.3028 - val_accuracy: 0.8954 - val_loss: 0.2548\n",
            "Epoch 204/350\n",
            "\u001b[1m36/36\u001b[0m \u001b[32m━━━━━━━━━━━━━━━━━━━━\u001b[0m\u001b[37m\u001b[0m \u001b[1m0s\u001b[0m 4ms/step - accuracy: 0.8537 - loss: 0.3377 - val_accuracy: 0.9020 - val_loss: 0.2534\n",
            "Epoch 205/350\n",
            "\u001b[1m36/36\u001b[0m \u001b[32m━━━━━━━━━━━━━━━━━━━━\u001b[0m\u001b[37m\u001b[0m \u001b[1m0s\u001b[0m 4ms/step - accuracy: 0.8291 - loss: 0.3859 - val_accuracy: 0.8954 - val_loss: 0.2553\n",
            "Epoch 206/350\n",
            "\u001b[1m36/36\u001b[0m \u001b[32m━━━━━━━━━━━━━━━━━━━━\u001b[0m\u001b[37m\u001b[0m \u001b[1m0s\u001b[0m 5ms/step - accuracy: 0.8812 - loss: 0.3237 - val_accuracy: 0.8954 - val_loss: 0.2608\n",
            "Epoch 207/350\n",
            "\u001b[1m36/36\u001b[0m \u001b[32m━━━━━━━━━━━━━━━━━━━━\u001b[0m\u001b[37m\u001b[0m \u001b[1m0s\u001b[0m 4ms/step - accuracy: 0.8573 - loss: 0.3291 - val_accuracy: 0.8954 - val_loss: 0.2568\n",
            "Epoch 208/350\n",
            "\u001b[1m36/36\u001b[0m \u001b[32m━━━━━━━━━━━━━━━━━━━━\u001b[0m\u001b[37m\u001b[0m \u001b[1m0s\u001b[0m 4ms/step - accuracy: 0.8485 - loss: 0.3585 - val_accuracy: 0.8954 - val_loss: 0.2530\n",
            "Epoch 209/350\n",
            "\u001b[1m36/36\u001b[0m \u001b[32m━━━━━━━━━━━━━━━━━━━━\u001b[0m\u001b[37m\u001b[0m \u001b[1m0s\u001b[0m 4ms/step - accuracy: 0.8599 - loss: 0.3184 - val_accuracy: 0.8954 - val_loss: 0.2602\n",
            "Epoch 210/350\n",
            "\u001b[1m36/36\u001b[0m \u001b[32m━━━━━━━━━━━━━━━━━━━━\u001b[0m\u001b[37m\u001b[0m \u001b[1m0s\u001b[0m 4ms/step - accuracy: 0.8411 - loss: 0.3653 - val_accuracy: 0.8954 - val_loss: 0.2548\n",
            "Epoch 211/350\n",
            "\u001b[1m36/36\u001b[0m \u001b[32m━━━━━━━━━━━━━━━━━━━━\u001b[0m\u001b[37m\u001b[0m \u001b[1m0s\u001b[0m 4ms/step - accuracy: 0.8329 - loss: 0.3994 - val_accuracy: 0.8954 - val_loss: 0.2629\n",
            "Epoch 212/350\n",
            "\u001b[1m36/36\u001b[0m \u001b[32m━━━━━━━━━━━━━━━━━━━━\u001b[0m\u001b[37m\u001b[0m \u001b[1m0s\u001b[0m 4ms/step - accuracy: 0.8692 - loss: 0.3422 - val_accuracy: 0.8954 - val_loss: 0.2566\n",
            "Epoch 213/350\n",
            "\u001b[1m36/36\u001b[0m \u001b[32m━━━━━━━━━━━━━━━━━━━━\u001b[0m\u001b[37m\u001b[0m \u001b[1m0s\u001b[0m 4ms/step - accuracy: 0.8572 - loss: 0.3485 - val_accuracy: 0.8954 - val_loss: 0.2641\n",
            "Epoch 214/350\n",
            "\u001b[1m36/36\u001b[0m \u001b[32m━━━━━━━━━━━━━━━━━━━━\u001b[0m\u001b[37m\u001b[0m \u001b[1m0s\u001b[0m 4ms/step - accuracy: 0.8582 - loss: 0.3330 - val_accuracy: 0.8954 - val_loss: 0.2611\n",
            "Epoch 215/350\n",
            "\u001b[1m36/36\u001b[0m \u001b[32m━━━━━━━━━━━━━━━━━━━━\u001b[0m\u001b[37m\u001b[0m \u001b[1m0s\u001b[0m 4ms/step - accuracy: 0.8991 - loss: 0.2796 - val_accuracy: 0.8954 - val_loss: 0.2564\n",
            "Epoch 216/350\n",
            "\u001b[1m36/36\u001b[0m \u001b[32m━━━━━━━━━━━━━━━━━━━━\u001b[0m\u001b[37m\u001b[0m \u001b[1m0s\u001b[0m 4ms/step - accuracy: 0.8521 - loss: 0.3546 - val_accuracy: 0.8954 - val_loss: 0.2573\n",
            "Epoch 217/350\n",
            "\u001b[1m36/36\u001b[0m \u001b[32m━━━━━━━━━━━━━━━━━━━━\u001b[0m\u001b[37m\u001b[0m \u001b[1m0s\u001b[0m 4ms/step - accuracy: 0.8579 - loss: 0.3364 - val_accuracy: 0.8954 - val_loss: 0.2585\n",
            "Epoch 218/350\n",
            "\u001b[1m36/36\u001b[0m \u001b[32m━━━━━━━━━━━━━━━━━━━━\u001b[0m\u001b[37m\u001b[0m \u001b[1m0s\u001b[0m 4ms/step - accuracy: 0.8648 - loss: 0.3382 - val_accuracy: 0.8954 - val_loss: 0.2606\n",
            "Epoch 219/350\n",
            "\u001b[1m36/36\u001b[0m \u001b[32m━━━━━━━━━━━━━━━━━━━━\u001b[0m\u001b[37m\u001b[0m \u001b[1m0s\u001b[0m 4ms/step - accuracy: 0.9006 - loss: 0.2913 - val_accuracy: 0.8954 - val_loss: 0.2574\n",
            "Epoch 220/350\n",
            "\u001b[1m36/36\u001b[0m \u001b[32m━━━━━━━━━━━━━━━━━━━━\u001b[0m\u001b[37m\u001b[0m \u001b[1m0s\u001b[0m 4ms/step - accuracy: 0.8876 - loss: 0.2885 - val_accuracy: 0.8954 - val_loss: 0.2602\n",
            "Epoch 221/350\n",
            "\u001b[1m36/36\u001b[0m \u001b[32m━━━━━━━━━━━━━━━━━━━━\u001b[0m\u001b[37m\u001b[0m \u001b[1m0s\u001b[0m 4ms/step - accuracy: 0.8404 - loss: 0.3738 - val_accuracy: 0.8824 - val_loss: 0.2786\n",
            "Epoch 222/350\n",
            "\u001b[1m36/36\u001b[0m \u001b[32m━━━━━━━━━━━━━━━━━━━━\u001b[0m\u001b[37m\u001b[0m \u001b[1m0s\u001b[0m 4ms/step - accuracy: 0.8768 - loss: 0.3110 - val_accuracy: 0.8889 - val_loss: 0.2750\n",
            "Epoch 223/350\n",
            "\u001b[1m36/36\u001b[0m \u001b[32m━━━━━━━━━━━━━━━━━━━━\u001b[0m\u001b[37m\u001b[0m \u001b[1m0s\u001b[0m 4ms/step - accuracy: 0.8956 - loss: 0.2805 - val_accuracy: 0.8954 - val_loss: 0.2592\n",
            "Epoch 224/350\n",
            "\u001b[1m36/36\u001b[0m \u001b[32m━━━━━━━━━━━━━━━━━━━━\u001b[0m\u001b[37m\u001b[0m \u001b[1m0s\u001b[0m 4ms/step - accuracy: 0.8484 - loss: 0.3502 - val_accuracy: 0.8954 - val_loss: 0.2567\n",
            "Epoch 225/350\n",
            "\u001b[1m36/36\u001b[0m \u001b[32m━━━━━━━━━━━━━━━━━━━━\u001b[0m\u001b[37m\u001b[0m \u001b[1m0s\u001b[0m 4ms/step - accuracy: 0.8743 - loss: 0.3090 - val_accuracy: 0.8954 - val_loss: 0.2591\n",
            "Epoch 226/350\n",
            "\u001b[1m36/36\u001b[0m \u001b[32m━━━━━━━━━━━━━━━━━━━━\u001b[0m\u001b[37m\u001b[0m \u001b[1m0s\u001b[0m 4ms/step - accuracy: 0.8532 - loss: 0.3693 - val_accuracy: 0.8954 - val_loss: 0.2585\n",
            "Epoch 227/350\n",
            "\u001b[1m36/36\u001b[0m \u001b[32m━━━━━━━━━━━━━━━━━━━━\u001b[0m\u001b[37m\u001b[0m \u001b[1m0s\u001b[0m 4ms/step - accuracy: 0.8195 - loss: 0.3931 - val_accuracy: 0.8954 - val_loss: 0.2555\n",
            "Epoch 228/350\n",
            "\u001b[1m36/36\u001b[0m \u001b[32m━━━━━━━━━━━━━━━━━━━━\u001b[0m\u001b[37m\u001b[0m \u001b[1m0s\u001b[0m 4ms/step - accuracy: 0.9025 - loss: 0.2882 - val_accuracy: 0.8954 - val_loss: 0.2589\n",
            "Epoch 229/350\n",
            "\u001b[1m36/36\u001b[0m \u001b[32m━━━━━━━━━━━━━━━━━━━━\u001b[0m\u001b[37m\u001b[0m \u001b[1m0s\u001b[0m 4ms/step - accuracy: 0.8318 - loss: 0.3789 - val_accuracy: 0.8954 - val_loss: 0.2570\n",
            "Epoch 230/350\n",
            "\u001b[1m36/36\u001b[0m \u001b[32m━━━━━━━━━━━━━━━━━━━━\u001b[0m\u001b[37m\u001b[0m \u001b[1m0s\u001b[0m 4ms/step - accuracy: 0.8351 - loss: 0.3633 - val_accuracy: 0.8889 - val_loss: 0.2696\n",
            "Epoch 231/350\n",
            "\u001b[1m36/36\u001b[0m \u001b[32m━━━━━━━━━━━━━━━━━━━━\u001b[0m\u001b[37m\u001b[0m \u001b[1m0s\u001b[0m 4ms/step - accuracy: 0.8811 - loss: 0.3059 - val_accuracy: 0.8954 - val_loss: 0.2545\n",
            "Epoch 232/350\n",
            "\u001b[1m36/36\u001b[0m \u001b[32m━━━━━━━━━━━━━━━━━━━━\u001b[0m\u001b[37m\u001b[0m \u001b[1m0s\u001b[0m 4ms/step - accuracy: 0.8713 - loss: 0.3055 - val_accuracy: 0.8954 - val_loss: 0.2591\n",
            "Epoch 233/350\n",
            "\u001b[1m36/36\u001b[0m \u001b[32m━━━━━━━━━━━━━━━━━━━━\u001b[0m\u001b[37m\u001b[0m \u001b[1m0s\u001b[0m 4ms/step - accuracy: 0.8605 - loss: 0.3270 - val_accuracy: 0.8954 - val_loss: 0.2581\n",
            "Epoch 234/350\n",
            "\u001b[1m36/36\u001b[0m \u001b[32m━━━━━━━━━━━━━━━━━━━━\u001b[0m\u001b[37m\u001b[0m \u001b[1m0s\u001b[0m 4ms/step - accuracy: 0.8700 - loss: 0.3034 - val_accuracy: 0.8954 - val_loss: 0.2664\n",
            "Epoch 235/350\n",
            "\u001b[1m36/36\u001b[0m \u001b[32m━━━━━━━━━━━━━━━━━━━━\u001b[0m\u001b[37m\u001b[0m \u001b[1m0s\u001b[0m 4ms/step - accuracy: 0.8592 - loss: 0.3207 - val_accuracy: 0.8954 - val_loss: 0.2599\n",
            "Epoch 236/350\n",
            "\u001b[1m36/36\u001b[0m \u001b[32m━━━━━━━━━━━━━━━━━━━━\u001b[0m\u001b[37m\u001b[0m \u001b[1m0s\u001b[0m 4ms/step - accuracy: 0.8186 - loss: 0.3931 - val_accuracy: 0.8889 - val_loss: 0.2732\n",
            "Epoch 237/350\n",
            "\u001b[1m36/36\u001b[0m \u001b[32m━━━━━━━━━━━━━━━━━━━━\u001b[0m\u001b[37m\u001b[0m \u001b[1m0s\u001b[0m 4ms/step - accuracy: 0.8568 - loss: 0.3398 - val_accuracy: 0.8954 - val_loss: 0.2575\n",
            "Epoch 238/350\n",
            "\u001b[1m36/36\u001b[0m \u001b[32m━━━━━━━━━━━━━━━━━━━━\u001b[0m\u001b[37m\u001b[0m \u001b[1m0s\u001b[0m 4ms/step - accuracy: 0.8693 - loss: 0.3022 - val_accuracy: 0.8954 - val_loss: 0.2780\n",
            "Epoch 239/350\n",
            "\u001b[1m36/36\u001b[0m \u001b[32m━━━━━━━━━━━━━━━━━━━━\u001b[0m\u001b[37m\u001b[0m \u001b[1m0s\u001b[0m 4ms/step - accuracy: 0.8895 - loss: 0.2993 - val_accuracy: 0.8954 - val_loss: 0.2539\n",
            "Epoch 240/350\n",
            "\u001b[1m36/36\u001b[0m \u001b[32m━━━━━━━━━━━━━━━━━━━━\u001b[0m\u001b[37m\u001b[0m \u001b[1m0s\u001b[0m 4ms/step - accuracy: 0.8399 - loss: 0.3690 - val_accuracy: 0.8889 - val_loss: 0.2648\n",
            "Epoch 241/350\n",
            "\u001b[1m36/36\u001b[0m \u001b[32m━━━━━━━━━━━━━━━━━━━━\u001b[0m\u001b[37m\u001b[0m \u001b[1m0s\u001b[0m 5ms/step - accuracy: 0.8716 - loss: 0.3260 - val_accuracy: 0.8889 - val_loss: 0.2646\n",
            "Epoch 242/350\n",
            "\u001b[1m36/36\u001b[0m \u001b[32m━━━━━━━━━━━━━━━━━━━━\u001b[0m\u001b[37m\u001b[0m \u001b[1m0s\u001b[0m 4ms/step - accuracy: 0.8903 - loss: 0.2905 - val_accuracy: 0.8889 - val_loss: 0.2647\n",
            "Epoch 243/350\n",
            "\u001b[1m36/36\u001b[0m \u001b[32m━━━━━━━━━━━━━━━━━━━━\u001b[0m\u001b[37m\u001b[0m \u001b[1m0s\u001b[0m 5ms/step - accuracy: 0.8578 - loss: 0.3286 - val_accuracy: 0.8954 - val_loss: 0.2537\n",
            "Epoch 244/350\n",
            "\u001b[1m36/36\u001b[0m \u001b[32m━━━━━━━━━━━━━━━━━━━━\u001b[0m\u001b[37m\u001b[0m \u001b[1m0s\u001b[0m 4ms/step - accuracy: 0.8510 - loss: 0.3380 - val_accuracy: 0.8954 - val_loss: 0.2571\n",
            "Epoch 245/350\n",
            "\u001b[1m36/36\u001b[0m \u001b[32m━━━━━━━━━━━━━━━━━━━━\u001b[0m\u001b[37m\u001b[0m \u001b[1m0s\u001b[0m 4ms/step - accuracy: 0.8764 - loss: 0.2974 - val_accuracy: 0.8954 - val_loss: 0.2577\n",
            "Epoch 246/350\n",
            "\u001b[1m36/36\u001b[0m \u001b[32m━━━━━━━━━━━━━━━━━━━━\u001b[0m\u001b[37m\u001b[0m \u001b[1m0s\u001b[0m 4ms/step - accuracy: 0.8799 - loss: 0.3069 - val_accuracy: 0.8954 - val_loss: 0.2566\n",
            "Epoch 247/350\n",
            "\u001b[1m36/36\u001b[0m \u001b[32m━━━━━━━━━━━━━━━━━━━━\u001b[0m\u001b[37m\u001b[0m \u001b[1m0s\u001b[0m 4ms/step - accuracy: 0.8766 - loss: 0.3063 - val_accuracy: 0.8954 - val_loss: 0.2620\n",
            "Epoch 248/350\n",
            "\u001b[1m36/36\u001b[0m \u001b[32m━━━━━━━━━━━━━━━━━━━━\u001b[0m\u001b[37m\u001b[0m \u001b[1m0s\u001b[0m 4ms/step - accuracy: 0.8389 - loss: 0.3663 - val_accuracy: 0.8954 - val_loss: 0.2596\n",
            "Epoch 249/350\n",
            "\u001b[1m36/36\u001b[0m \u001b[32m━━━━━━━━━━━━━━━━━━━━\u001b[0m\u001b[37m\u001b[0m \u001b[1m0s\u001b[0m 4ms/step - accuracy: 0.8742 - loss: 0.3223 - val_accuracy: 0.8954 - val_loss: 0.2623\n",
            "Epoch 250/350\n",
            "\u001b[1m36/36\u001b[0m \u001b[32m━━━━━━━━━━━━━━━━━━━━\u001b[0m\u001b[37m\u001b[0m \u001b[1m0s\u001b[0m 4ms/step - accuracy: 0.8557 - loss: 0.3350 - val_accuracy: 0.8954 - val_loss: 0.2638\n",
            "Epoch 251/350\n",
            "\u001b[1m36/36\u001b[0m \u001b[32m━━━━━━━━━━━━━━━━━━━━\u001b[0m\u001b[37m\u001b[0m \u001b[1m0s\u001b[0m 5ms/step - accuracy: 0.8084 - loss: 0.4014 - val_accuracy: 0.8954 - val_loss: 0.2596\n",
            "Epoch 252/350\n",
            "\u001b[1m36/36\u001b[0m \u001b[32m━━━━━━━━━━━━━━━━━━━━\u001b[0m\u001b[37m\u001b[0m \u001b[1m0s\u001b[0m 5ms/step - accuracy: 0.8393 - loss: 0.3426 - val_accuracy: 0.8954 - val_loss: 0.2629\n",
            "Epoch 253/350\n",
            "\u001b[1m36/36\u001b[0m \u001b[32m━━━━━━━━━━━━━━━━━━━━\u001b[0m\u001b[37m\u001b[0m \u001b[1m0s\u001b[0m 5ms/step - accuracy: 0.8754 - loss: 0.3152 - val_accuracy: 0.8954 - val_loss: 0.2541\n",
            "Epoch 254/350\n",
            "\u001b[1m36/36\u001b[0m \u001b[32m━━━━━━━━━━━━━━━━━━━━\u001b[0m\u001b[37m\u001b[0m \u001b[1m0s\u001b[0m 5ms/step - accuracy: 0.8372 - loss: 0.3675 - val_accuracy: 0.8954 - val_loss: 0.2554\n",
            "Epoch 255/350\n",
            "\u001b[1m36/36\u001b[0m \u001b[32m━━━━━━━━━━━━━━━━━━━━\u001b[0m\u001b[37m\u001b[0m \u001b[1m0s\u001b[0m 4ms/step - accuracy: 0.8736 - loss: 0.3093 - val_accuracy: 0.8954 - val_loss: 0.2613\n",
            "Epoch 256/350\n",
            "\u001b[1m36/36\u001b[0m \u001b[32m━━━━━━━━━━━━━━━━━━━━\u001b[0m\u001b[37m\u001b[0m \u001b[1m0s\u001b[0m 5ms/step - accuracy: 0.8852 - loss: 0.2989 - val_accuracy: 0.8954 - val_loss: 0.2533\n",
            "Epoch 257/350\n",
            "\u001b[1m36/36\u001b[0m \u001b[32m━━━━━━━━━━━━━━━━━━━━\u001b[0m\u001b[37m\u001b[0m \u001b[1m0s\u001b[0m 4ms/step - accuracy: 0.8800 - loss: 0.3016 - val_accuracy: 0.8954 - val_loss: 0.2649\n",
            "Epoch 258/350\n",
            "\u001b[1m36/36\u001b[0m \u001b[32m━━━━━━━━━━━━━━━━━━━━\u001b[0m\u001b[37m\u001b[0m \u001b[1m0s\u001b[0m 4ms/step - accuracy: 0.8726 - loss: 0.3133 - val_accuracy: 0.8954 - val_loss: 0.2545\n",
            "Epoch 259/350\n",
            "\u001b[1m36/36\u001b[0m \u001b[32m━━━━━━━━━━━━━━━━━━━━\u001b[0m\u001b[37m\u001b[0m \u001b[1m0s\u001b[0m 4ms/step - accuracy: 0.8219 - loss: 0.3838 - val_accuracy: 0.8954 - val_loss: 0.2617\n",
            "Epoch 260/350\n",
            "\u001b[1m36/36\u001b[0m \u001b[32m━━━━━━━━━━━━━━━━━━━━\u001b[0m\u001b[37m\u001b[0m \u001b[1m0s\u001b[0m 4ms/step - accuracy: 0.8717 - loss: 0.3219 - val_accuracy: 0.8954 - val_loss: 0.2603\n",
            "Epoch 261/350\n",
            "\u001b[1m36/36\u001b[0m \u001b[32m━━━━━━━━━━━━━━━━━━━━\u001b[0m\u001b[37m\u001b[0m \u001b[1m0s\u001b[0m 4ms/step - accuracy: 0.8797 - loss: 0.3038 - val_accuracy: 0.8954 - val_loss: 0.2581\n",
            "Epoch 262/350\n",
            "\u001b[1m36/36\u001b[0m \u001b[32m━━━━━━━━━━━━━━━━━━━━\u001b[0m\u001b[37m\u001b[0m \u001b[1m0s\u001b[0m 4ms/step - accuracy: 0.8982 - loss: 0.2852 - val_accuracy: 0.8954 - val_loss: 0.2514\n",
            "Epoch 263/350\n",
            "\u001b[1m36/36\u001b[0m \u001b[32m━━━━━━━━━━━━━━━━━━━━\u001b[0m\u001b[37m\u001b[0m \u001b[1m0s\u001b[0m 4ms/step - accuracy: 0.8755 - loss: 0.3232 - val_accuracy: 0.8954 - val_loss: 0.2619\n",
            "Epoch 264/350\n",
            "\u001b[1m36/36\u001b[0m \u001b[32m━━━━━━━━━━━━━━━━━━━━\u001b[0m\u001b[37m\u001b[0m \u001b[1m0s\u001b[0m 4ms/step - accuracy: 0.8594 - loss: 0.3387 - val_accuracy: 0.8954 - val_loss: 0.2554\n",
            "Epoch 265/350\n",
            "\u001b[1m36/36\u001b[0m \u001b[32m━━━━━━━━━━━━━━━━━━━━\u001b[0m\u001b[37m\u001b[0m \u001b[1m0s\u001b[0m 5ms/step - accuracy: 0.8688 - loss: 0.3098 - val_accuracy: 0.9020 - val_loss: 0.2516\n",
            "Epoch 266/350\n",
            "\u001b[1m36/36\u001b[0m \u001b[32m━━━━━━━━━━━━━━━━━━━━\u001b[0m\u001b[37m\u001b[0m \u001b[1m0s\u001b[0m 5ms/step - accuracy: 0.8299 - loss: 0.3837 - val_accuracy: 0.8954 - val_loss: 0.2546\n",
            "Epoch 267/350\n",
            "\u001b[1m36/36\u001b[0m \u001b[32m━━━━━━━━━━━━━━━━━━━━\u001b[0m\u001b[37m\u001b[0m \u001b[1m0s\u001b[0m 4ms/step - accuracy: 0.8861 - loss: 0.2863 - val_accuracy: 0.8954 - val_loss: 0.2536\n",
            "Epoch 268/350\n",
            "\u001b[1m36/36\u001b[0m \u001b[32m━━━━━━━━━━━━━━━━━━━━\u001b[0m\u001b[37m\u001b[0m \u001b[1m0s\u001b[0m 4ms/step - accuracy: 0.8576 - loss: 0.3371 - val_accuracy: 0.9020 - val_loss: 0.2489\n",
            "Epoch 269/350\n",
            "\u001b[1m36/36\u001b[0m \u001b[32m━━━━━━━━━━━━━━━━━━━━\u001b[0m\u001b[37m\u001b[0m \u001b[1m0s\u001b[0m 4ms/step - accuracy: 0.8429 - loss: 0.3636 - val_accuracy: 0.8954 - val_loss: 0.2563\n",
            "Epoch 270/350\n",
            "\u001b[1m36/36\u001b[0m \u001b[32m━━━━━━━━━━━━━━━━━━━━\u001b[0m\u001b[37m\u001b[0m \u001b[1m0s\u001b[0m 4ms/step - accuracy: 0.8732 - loss: 0.3126 - val_accuracy: 0.8954 - val_loss: 0.2590\n",
            "Epoch 271/350\n",
            "\u001b[1m36/36\u001b[0m \u001b[32m━━━━━━━━━━━━━━━━━━━━\u001b[0m\u001b[37m\u001b[0m \u001b[1m0s\u001b[0m 4ms/step - accuracy: 0.8550 - loss: 0.3412 - val_accuracy: 0.8954 - val_loss: 0.2554\n",
            "Epoch 272/350\n",
            "\u001b[1m36/36\u001b[0m \u001b[32m━━━━━━━━━━━━━━━━━━━━\u001b[0m\u001b[37m\u001b[0m \u001b[1m0s\u001b[0m 4ms/step - accuracy: 0.8499 - loss: 0.3322 - val_accuracy: 0.9020 - val_loss: 0.2550\n",
            "Epoch 273/350\n",
            "\u001b[1m36/36\u001b[0m \u001b[32m━━━━━━━━━━━━━━━━━━━━\u001b[0m\u001b[37m\u001b[0m \u001b[1m0s\u001b[0m 4ms/step - accuracy: 0.8941 - loss: 0.2907 - val_accuracy: 0.9020 - val_loss: 0.2503\n",
            "Epoch 274/350\n",
            "\u001b[1m36/36\u001b[0m \u001b[32m━━━━━━━━━━━━━━━━━━━━\u001b[0m\u001b[37m\u001b[0m \u001b[1m0s\u001b[0m 4ms/step - accuracy: 0.8819 - loss: 0.3151 - val_accuracy: 0.8954 - val_loss: 0.2555\n",
            "Epoch 275/350\n",
            "\u001b[1m36/36\u001b[0m \u001b[32m━━━━━━━━━━━━━━━━━━━━\u001b[0m\u001b[37m\u001b[0m \u001b[1m0s\u001b[0m 5ms/step - accuracy: 0.8715 - loss: 0.3154 - val_accuracy: 0.9020 - val_loss: 0.2507\n",
            "Epoch 276/350\n",
            "\u001b[1m36/36\u001b[0m \u001b[32m━━━━━━━━━━━━━━━━━━━━\u001b[0m\u001b[37m\u001b[0m \u001b[1m0s\u001b[0m 4ms/step - accuracy: 0.8736 - loss: 0.3080 - val_accuracy: 0.8954 - val_loss: 0.2621\n",
            "Epoch 277/350\n",
            "\u001b[1m36/36\u001b[0m \u001b[32m━━━━━━━━━━━━━━━━━━━━\u001b[0m\u001b[37m\u001b[0m \u001b[1m0s\u001b[0m 5ms/step - accuracy: 0.8479 - loss: 0.3402 - val_accuracy: 0.8954 - val_loss: 0.2520\n",
            "Epoch 278/350\n",
            "\u001b[1m36/36\u001b[0m \u001b[32m━━━━━━━━━━━━━━━━━━━━\u001b[0m\u001b[37m\u001b[0m \u001b[1m0s\u001b[0m 4ms/step - accuracy: 0.8715 - loss: 0.3094 - val_accuracy: 0.9020 - val_loss: 0.2505\n",
            "Epoch 279/350\n",
            "\u001b[1m36/36\u001b[0m \u001b[32m━━━━━━━━━━━━━━━━━━━━\u001b[0m\u001b[37m\u001b[0m \u001b[1m0s\u001b[0m 4ms/step - accuracy: 0.8487 - loss: 0.3592 - val_accuracy: 0.9020 - val_loss: 0.2509\n",
            "Epoch 280/350\n",
            "\u001b[1m36/36\u001b[0m \u001b[32m━━━━━━━━━━━━━━━━━━━━\u001b[0m\u001b[37m\u001b[0m \u001b[1m0s\u001b[0m 4ms/step - accuracy: 0.8595 - loss: 0.3314 - val_accuracy: 0.8954 - val_loss: 0.2539\n",
            "Epoch 281/350\n",
            "\u001b[1m36/36\u001b[0m \u001b[32m━━━━━━━━━━━━━━━━━━━━\u001b[0m\u001b[37m\u001b[0m \u001b[1m0s\u001b[0m 4ms/step - accuracy: 0.8517 - loss: 0.3432 - val_accuracy: 0.8954 - val_loss: 0.2607\n",
            "Epoch 282/350\n",
            "\u001b[1m36/36\u001b[0m \u001b[32m━━━━━━━━━━━━━━━━━━━━\u001b[0m\u001b[37m\u001b[0m \u001b[1m0s\u001b[0m 4ms/step - accuracy: 0.8136 - loss: 0.3908 - val_accuracy: 0.8954 - val_loss: 0.2651\n",
            "Epoch 283/350\n",
            "\u001b[1m36/36\u001b[0m \u001b[32m━━━━━━━━━━━━━━━━━━━━\u001b[0m\u001b[37m\u001b[0m \u001b[1m0s\u001b[0m 4ms/step - accuracy: 0.8698 - loss: 0.3243 - val_accuracy: 0.8954 - val_loss: 0.2568\n",
            "Epoch 284/350\n",
            "\u001b[1m36/36\u001b[0m \u001b[32m━━━━━━━━━━━━━━━━━━━━\u001b[0m\u001b[37m\u001b[0m \u001b[1m0s\u001b[0m 4ms/step - accuracy: 0.9026 - loss: 0.2688 - val_accuracy: 0.8954 - val_loss: 0.2580\n",
            "Epoch 285/350\n",
            "\u001b[1m36/36\u001b[0m \u001b[32m━━━━━━━━━━━━━━━━━━━━\u001b[0m\u001b[37m\u001b[0m \u001b[1m0s\u001b[0m 4ms/step - accuracy: 0.8551 - loss: 0.3452 - val_accuracy: 0.9020 - val_loss: 0.2510\n",
            "Epoch 286/350\n",
            "\u001b[1m36/36\u001b[0m \u001b[32m━━━━━━━━━━━━━━━━━━━━\u001b[0m\u001b[37m\u001b[0m \u001b[1m0s\u001b[0m 4ms/step - accuracy: 0.8430 - loss: 0.3612 - val_accuracy: 0.8954 - val_loss: 0.2562\n",
            "Epoch 287/350\n",
            "\u001b[1m36/36\u001b[0m \u001b[32m━━━━━━━━━━━━━━━━━━━━\u001b[0m\u001b[37m\u001b[0m \u001b[1m0s\u001b[0m 4ms/step - accuracy: 0.8897 - loss: 0.2970 - val_accuracy: 0.8954 - val_loss: 0.2594\n",
            "Epoch 288/350\n",
            "\u001b[1m36/36\u001b[0m \u001b[32m━━━━━━━━━━━━━━━━━━━━\u001b[0m\u001b[37m\u001b[0m \u001b[1m0s\u001b[0m 4ms/step - accuracy: 0.8527 - loss: 0.3522 - val_accuracy: 0.8954 - val_loss: 0.2582\n",
            "Epoch 289/350\n",
            "\u001b[1m36/36\u001b[0m \u001b[32m━━━━━━━━━━━━━━━━━━━━\u001b[0m\u001b[37m\u001b[0m \u001b[1m0s\u001b[0m 5ms/step - accuracy: 0.8389 - loss: 0.3924 - val_accuracy: 0.8954 - val_loss: 0.2597\n",
            "Epoch 290/350\n",
            "\u001b[1m36/36\u001b[0m \u001b[32m━━━━━━━━━━━━━━━━━━━━\u001b[0m\u001b[37m\u001b[0m \u001b[1m0s\u001b[0m 5ms/step - accuracy: 0.8659 - loss: 0.3219 - val_accuracy: 0.8954 - val_loss: 0.2577\n",
            "Epoch 291/350\n",
            "\u001b[1m36/36\u001b[0m \u001b[32m━━━━━━━━━━━━━━━━━━━━\u001b[0m\u001b[37m\u001b[0m \u001b[1m0s\u001b[0m 4ms/step - accuracy: 0.8462 - loss: 0.3328 - val_accuracy: 0.9020 - val_loss: 0.2507\n",
            "Epoch 292/350\n",
            "\u001b[1m36/36\u001b[0m \u001b[32m━━━━━━━━━━━━━━━━━━━━\u001b[0m\u001b[37m\u001b[0m \u001b[1m0s\u001b[0m 4ms/step - accuracy: 0.8606 - loss: 0.3185 - val_accuracy: 0.9020 - val_loss: 0.2514\n",
            "Epoch 293/350\n",
            "\u001b[1m36/36\u001b[0m \u001b[32m━━━━━━━━━━━━━━━━━━━━\u001b[0m\u001b[37m\u001b[0m \u001b[1m0s\u001b[0m 4ms/step - accuracy: 0.8714 - loss: 0.3310 - val_accuracy: 0.8954 - val_loss: 0.2550\n",
            "Epoch 294/350\n",
            "\u001b[1m36/36\u001b[0m \u001b[32m━━━━━━━━━━━━━━━━━━━━\u001b[0m\u001b[37m\u001b[0m \u001b[1m0s\u001b[0m 4ms/step - accuracy: 0.8802 - loss: 0.3083 - val_accuracy: 0.8954 - val_loss: 0.2557\n",
            "Epoch 295/350\n",
            "\u001b[1m36/36\u001b[0m \u001b[32m━━━━━━━━━━━━━━━━━━━━\u001b[0m\u001b[37m\u001b[0m \u001b[1m0s\u001b[0m 4ms/step - accuracy: 0.8902 - loss: 0.2972 - val_accuracy: 0.8954 - val_loss: 0.2583\n",
            "Epoch 296/350\n",
            "\u001b[1m36/36\u001b[0m \u001b[32m━━━━━━━━━━━━━━━━━━━━\u001b[0m\u001b[37m\u001b[0m \u001b[1m0s\u001b[0m 4ms/step - accuracy: 0.8594 - loss: 0.3401 - val_accuracy: 0.8954 - val_loss: 0.2592\n",
            "Epoch 297/350\n",
            "\u001b[1m36/36\u001b[0m \u001b[32m━━━━━━━━━━━━━━━━━━━━\u001b[0m\u001b[37m\u001b[0m \u001b[1m0s\u001b[0m 4ms/step - accuracy: 0.8770 - loss: 0.2972 - val_accuracy: 0.8954 - val_loss: 0.2572\n",
            "Epoch 298/350\n",
            "\u001b[1m36/36\u001b[0m \u001b[32m━━━━━━━━━━━━━━━━━━━━\u001b[0m\u001b[37m\u001b[0m \u001b[1m0s\u001b[0m 5ms/step - accuracy: 0.8474 - loss: 0.3544 - val_accuracy: 0.8954 - val_loss: 0.2547\n",
            "Epoch 299/350\n",
            "\u001b[1m36/36\u001b[0m \u001b[32m━━━━━━━━━━━━━━━━━━━━\u001b[0m\u001b[37m\u001b[0m \u001b[1m0s\u001b[0m 5ms/step - accuracy: 0.8440 - loss: 0.3553 - val_accuracy: 0.8954 - val_loss: 0.2524\n",
            "Epoch 300/350\n",
            "\u001b[1m36/36\u001b[0m \u001b[32m━━━━━━━━━━━━━━━━━━━━\u001b[0m\u001b[37m\u001b[0m \u001b[1m0s\u001b[0m 5ms/step - accuracy: 0.8597 - loss: 0.3490 - val_accuracy: 0.8954 - val_loss: 0.2613\n",
            "Epoch 301/350\n",
            "\u001b[1m36/36\u001b[0m \u001b[32m━━━━━━━━━━━━━━━━━━━━\u001b[0m\u001b[37m\u001b[0m \u001b[1m0s\u001b[0m 5ms/step - accuracy: 0.8651 - loss: 0.3147 - val_accuracy: 0.8954 - val_loss: 0.2517\n",
            "Epoch 302/350\n",
            "\u001b[1m36/36\u001b[0m \u001b[32m━━━━━━━━━━━━━━━━━━━━\u001b[0m\u001b[37m\u001b[0m \u001b[1m0s\u001b[0m 5ms/step - accuracy: 0.8784 - loss: 0.2997 - val_accuracy: 0.8954 - val_loss: 0.2560\n",
            "Epoch 303/350\n",
            "\u001b[1m36/36\u001b[0m \u001b[32m━━━━━━━━━━━━━━━━━━━━\u001b[0m\u001b[37m\u001b[0m \u001b[1m0s\u001b[0m 5ms/step - accuracy: 0.8667 - loss: 0.3115 - val_accuracy: 0.8954 - val_loss: 0.2532\n",
            "Epoch 304/350\n",
            "\u001b[1m36/36\u001b[0m \u001b[32m━━━━━━━━━━━━━━━━━━━━\u001b[0m\u001b[37m\u001b[0m \u001b[1m0s\u001b[0m 5ms/step - accuracy: 0.9033 - loss: 0.2632 - val_accuracy: 0.8954 - val_loss: 0.2535\n",
            "Epoch 305/350\n",
            "\u001b[1m36/36\u001b[0m \u001b[32m━━━━━━━━━━━━━━━━━━━━\u001b[0m\u001b[37m\u001b[0m \u001b[1m0s\u001b[0m 5ms/step - accuracy: 0.9152 - loss: 0.2662 - val_accuracy: 0.9020 - val_loss: 0.2475\n",
            "Epoch 306/350\n",
            "\u001b[1m36/36\u001b[0m \u001b[32m━━━━━━━━━━━━━━━━━━━━\u001b[0m\u001b[37m\u001b[0m \u001b[1m0s\u001b[0m 5ms/step - accuracy: 0.8688 - loss: 0.3239 - val_accuracy: 0.9020 - val_loss: 0.2512\n",
            "Epoch 307/350\n",
            "\u001b[1m36/36\u001b[0m \u001b[32m━━━━━━━━━━━━━━━━━━━━\u001b[0m\u001b[37m\u001b[0m \u001b[1m0s\u001b[0m 4ms/step - accuracy: 0.8750 - loss: 0.3147 - val_accuracy: 0.8954 - val_loss: 0.2685\n",
            "Epoch 308/350\n",
            "\u001b[1m36/36\u001b[0m \u001b[32m━━━━━━━━━━━━━━━━━━━━\u001b[0m\u001b[37m\u001b[0m \u001b[1m0s\u001b[0m 5ms/step - accuracy: 0.8692 - loss: 0.3274 - val_accuracy: 0.8954 - val_loss: 0.2604\n",
            "Epoch 309/350\n",
            "\u001b[1m36/36\u001b[0m \u001b[32m━━━━━━━━━━━━━━━━━━━━\u001b[0m\u001b[37m\u001b[0m \u001b[1m0s\u001b[0m 5ms/step - accuracy: 0.8440 - loss: 0.3522 - val_accuracy: 0.8954 - val_loss: 0.2585\n",
            "Epoch 310/350\n",
            "\u001b[1m36/36\u001b[0m \u001b[32m━━━━━━━━━━━━━━━━━━━━\u001b[0m\u001b[37m\u001b[0m \u001b[1m0s\u001b[0m 5ms/step - accuracy: 0.8700 - loss: 0.3241 - val_accuracy: 0.8954 - val_loss: 0.2610\n",
            "Epoch 311/350\n",
            "\u001b[1m36/36\u001b[0m \u001b[32m━━━━━━━━━━━━━━━━━━━━\u001b[0m\u001b[37m\u001b[0m \u001b[1m0s\u001b[0m 5ms/step - accuracy: 0.8647 - loss: 0.3285 - val_accuracy: 0.8954 - val_loss: 0.2572\n",
            "Epoch 312/350\n",
            "\u001b[1m36/36\u001b[0m \u001b[32m━━━━━━━━━━━━━━━━━━━━\u001b[0m\u001b[37m\u001b[0m \u001b[1m0s\u001b[0m 4ms/step - accuracy: 0.8625 - loss: 0.3228 - val_accuracy: 0.8889 - val_loss: 0.2682\n",
            "Epoch 313/350\n",
            "\u001b[1m36/36\u001b[0m \u001b[32m━━━━━━━━━━━━━━━━━━━━\u001b[0m\u001b[37m\u001b[0m \u001b[1m0s\u001b[0m 5ms/step - accuracy: 0.8949 - loss: 0.2923 - val_accuracy: 0.8954 - val_loss: 0.2644\n",
            "Epoch 314/350\n",
            "\u001b[1m36/36\u001b[0m \u001b[32m━━━━━━━━━━━━━━━━━━━━\u001b[0m\u001b[37m\u001b[0m \u001b[1m0s\u001b[0m 4ms/step - accuracy: 0.8463 - loss: 0.3547 - val_accuracy: 0.8954 - val_loss: 0.2558\n",
            "Epoch 315/350\n",
            "\u001b[1m36/36\u001b[0m \u001b[32m━━━━━━━━━━━━━━━━━━━━\u001b[0m\u001b[37m\u001b[0m \u001b[1m0s\u001b[0m 5ms/step - accuracy: 0.8621 - loss: 0.3186 - val_accuracy: 0.8954 - val_loss: 0.2649\n",
            "Epoch 316/350\n",
            "\u001b[1m36/36\u001b[0m \u001b[32m━━━━━━━━━━━━━━━━━━━━\u001b[0m\u001b[37m\u001b[0m \u001b[1m0s\u001b[0m 5ms/step - accuracy: 0.8435 - loss: 0.3672 - val_accuracy: 0.8824 - val_loss: 0.2778\n",
            "Epoch 317/350\n",
            "\u001b[1m36/36\u001b[0m \u001b[32m━━━━━━━━━━━━━━━━━━━━\u001b[0m\u001b[37m\u001b[0m \u001b[1m0s\u001b[0m 5ms/step - accuracy: 0.8554 - loss: 0.3474 - val_accuracy: 0.8954 - val_loss: 0.2586\n",
            "Epoch 318/350\n",
            "\u001b[1m36/36\u001b[0m \u001b[32m━━━━━━━━━━━━━━━━━━━━\u001b[0m\u001b[37m\u001b[0m \u001b[1m0s\u001b[0m 5ms/step - accuracy: 0.8954 - loss: 0.2810 - val_accuracy: 0.8954 - val_loss: 0.2588\n",
            "Epoch 319/350\n",
            "\u001b[1m36/36\u001b[0m \u001b[32m━━━━━━━━━━━━━━━━━━━━\u001b[0m\u001b[37m\u001b[0m \u001b[1m0s\u001b[0m 5ms/step - accuracy: 0.8751 - loss: 0.2957 - val_accuracy: 0.9020 - val_loss: 0.2511\n",
            "Epoch 320/350\n",
            "\u001b[1m36/36\u001b[0m \u001b[32m━━━━━━━━━━━━━━━━━━━━\u001b[0m\u001b[37m\u001b[0m \u001b[1m0s\u001b[0m 5ms/step - accuracy: 0.8600 - loss: 0.3281 - val_accuracy: 0.8954 - val_loss: 0.2599\n",
            "Epoch 321/350\n",
            "\u001b[1m36/36\u001b[0m \u001b[32m━━━━━━━━━━━━━━━━━━━━\u001b[0m\u001b[37m\u001b[0m \u001b[1m0s\u001b[0m 5ms/step - accuracy: 0.8503 - loss: 0.3480 - val_accuracy: 0.9020 - val_loss: 0.2483\n",
            "Epoch 322/350\n",
            "\u001b[1m36/36\u001b[0m \u001b[32m━━━━━━━━━━━━━━━━━━━━\u001b[0m\u001b[37m\u001b[0m \u001b[1m0s\u001b[0m 5ms/step - accuracy: 0.8729 - loss: 0.3215 - val_accuracy: 0.8954 - val_loss: 0.2544\n",
            "Epoch 323/350\n",
            "\u001b[1m36/36\u001b[0m \u001b[32m━━━━━━━━━━━━━━━━━━━━\u001b[0m\u001b[37m\u001b[0m \u001b[1m0s\u001b[0m 4ms/step - accuracy: 0.8821 - loss: 0.2901 - val_accuracy: 0.9020 - val_loss: 0.2504\n",
            "Epoch 324/350\n",
            "\u001b[1m36/36\u001b[0m \u001b[32m━━━━━━━━━━━━━━━━━━━━\u001b[0m\u001b[37m\u001b[0m \u001b[1m0s\u001b[0m 5ms/step - accuracy: 0.8791 - loss: 0.3115 - val_accuracy: 0.8954 - val_loss: 0.2569\n",
            "Epoch 325/350\n",
            "\u001b[1m36/36\u001b[0m \u001b[32m━━━━━━━━━━━━━━━━━━━━\u001b[0m\u001b[37m\u001b[0m \u001b[1m0s\u001b[0m 5ms/step - accuracy: 0.8365 - loss: 0.3622 - val_accuracy: 0.8889 - val_loss: 0.2660\n",
            "Epoch 326/350\n",
            "\u001b[1m36/36\u001b[0m \u001b[32m━━━━━━━━━━━━━━━━━━━━\u001b[0m\u001b[37m\u001b[0m \u001b[1m0s\u001b[0m 5ms/step - accuracy: 0.8673 - loss: 0.3296 - val_accuracy: 0.8954 - val_loss: 0.2657\n",
            "Epoch 327/350\n",
            "\u001b[1m36/36\u001b[0m \u001b[32m━━━━━━━━━━━━━━━━━━━━\u001b[0m\u001b[37m\u001b[0m \u001b[1m0s\u001b[0m 4ms/step - accuracy: 0.8934 - loss: 0.2969 - val_accuracy: 0.8889 - val_loss: 0.2684\n",
            "Epoch 328/350\n",
            "\u001b[1m36/36\u001b[0m \u001b[32m━━━━━━━━━━━━━━━━━━━━\u001b[0m\u001b[37m\u001b[0m \u001b[1m0s\u001b[0m 4ms/step - accuracy: 0.8668 - loss: 0.3256 - val_accuracy: 0.8954 - val_loss: 0.2620\n",
            "Epoch 329/350\n",
            "\u001b[1m36/36\u001b[0m \u001b[32m━━━━━━━━━━━━━━━━━━━━\u001b[0m\u001b[37m\u001b[0m \u001b[1m0s\u001b[0m 4ms/step - accuracy: 0.8645 - loss: 0.3225 - val_accuracy: 0.8954 - val_loss: 0.2639\n",
            "Epoch 330/350\n",
            "\u001b[1m36/36\u001b[0m \u001b[32m━━━━━━━━━━━━━━━━━━━━\u001b[0m\u001b[37m\u001b[0m \u001b[1m0s\u001b[0m 4ms/step - accuracy: 0.8482 - loss: 0.3416 - val_accuracy: 0.8954 - val_loss: 0.2600\n",
            "Epoch 331/350\n",
            "\u001b[1m36/36\u001b[0m \u001b[32m━━━━━━━━━━━━━━━━━━━━\u001b[0m\u001b[37m\u001b[0m \u001b[1m0s\u001b[0m 4ms/step - accuracy: 0.8718 - loss: 0.3126 - val_accuracy: 0.8954 - val_loss: 0.2552\n",
            "Epoch 332/350\n",
            "\u001b[1m36/36\u001b[0m \u001b[32m━━━━━━━━━━━━━━━━━━━━\u001b[0m\u001b[37m\u001b[0m \u001b[1m0s\u001b[0m 4ms/step - accuracy: 0.8612 - loss: 0.3352 - val_accuracy: 0.8954 - val_loss: 0.2571\n",
            "Epoch 333/350\n",
            "\u001b[1m36/36\u001b[0m \u001b[32m━━━━━━━━━━━━━━━━━━━━\u001b[0m\u001b[37m\u001b[0m \u001b[1m0s\u001b[0m 4ms/step - accuracy: 0.8431 - loss: 0.3488 - val_accuracy: 0.9020 - val_loss: 0.2510\n",
            "Epoch 334/350\n",
            "\u001b[1m36/36\u001b[0m \u001b[32m━━━━━━━━━━━━━━━━━━━━\u001b[0m\u001b[37m\u001b[0m \u001b[1m0s\u001b[0m 4ms/step - accuracy: 0.8669 - loss: 0.3244 - val_accuracy: 0.8954 - val_loss: 0.2554\n",
            "Epoch 335/350\n",
            "\u001b[1m36/36\u001b[0m \u001b[32m━━━━━━━━━━━━━━━━━━━━\u001b[0m\u001b[37m\u001b[0m \u001b[1m0s\u001b[0m 4ms/step - accuracy: 0.8507 - loss: 0.3520 - val_accuracy: 0.8954 - val_loss: 0.2539\n",
            "Epoch 336/350\n",
            "\u001b[1m36/36\u001b[0m \u001b[32m━━━━━━━━━━━━━━━━━━━━\u001b[0m\u001b[37m\u001b[0m \u001b[1m0s\u001b[0m 4ms/step - accuracy: 0.8857 - loss: 0.3053 - val_accuracy: 0.8954 - val_loss: 0.2532\n",
            "Epoch 337/350\n",
            "\u001b[1m36/36\u001b[0m \u001b[32m━━━━━━━━━━━━━━━━━━━━\u001b[0m\u001b[37m\u001b[0m \u001b[1m0s\u001b[0m 4ms/step - accuracy: 0.8888 - loss: 0.2790 - val_accuracy: 0.8954 - val_loss: 0.2555\n",
            "Epoch 338/350\n",
            "\u001b[1m36/36\u001b[0m \u001b[32m━━━━━━━━━━━━━━━━━━━━\u001b[0m\u001b[37m\u001b[0m \u001b[1m0s\u001b[0m 4ms/step - accuracy: 0.8879 - loss: 0.3019 - val_accuracy: 0.9020 - val_loss: 0.2484\n",
            "Epoch 339/350\n",
            "\u001b[1m36/36\u001b[0m \u001b[32m━━━━━━━━━━━━━━━━━━━━\u001b[0m\u001b[37m\u001b[0m \u001b[1m0s\u001b[0m 5ms/step - accuracy: 0.8619 - loss: 0.3242 - val_accuracy: 0.8954 - val_loss: 0.2553\n",
            "Epoch 340/350\n",
            "\u001b[1m36/36\u001b[0m \u001b[32m━━━━━━━━━━━━━━━━━━━━\u001b[0m\u001b[37m\u001b[0m \u001b[1m0s\u001b[0m 5ms/step - accuracy: 0.8760 - loss: 0.2997 - val_accuracy: 0.9020 - val_loss: 0.2475\n",
            "Epoch 341/350\n",
            "\u001b[1m36/36\u001b[0m \u001b[32m━━━━━━━━━━━━━━━━━━━━\u001b[0m\u001b[37m\u001b[0m \u001b[1m0s\u001b[0m 5ms/step - accuracy: 0.8810 - loss: 0.3291 - val_accuracy: 0.8954 - val_loss: 0.2625\n",
            "Epoch 342/350\n",
            "\u001b[1m36/36\u001b[0m \u001b[32m━━━━━━━━━━━━━━━━━━━━\u001b[0m\u001b[37m\u001b[0m \u001b[1m0s\u001b[0m 5ms/step - accuracy: 0.8711 - loss: 0.3077 - val_accuracy: 0.8954 - val_loss: 0.2605\n",
            "Epoch 343/350\n",
            "\u001b[1m36/36\u001b[0m \u001b[32m━━━━━━━━━━━━━━━━━━━━\u001b[0m\u001b[37m\u001b[0m \u001b[1m0s\u001b[0m 5ms/step - accuracy: 0.8932 - loss: 0.3025 - val_accuracy: 0.8954 - val_loss: 0.2522\n",
            "Epoch 344/350\n",
            "\u001b[1m36/36\u001b[0m \u001b[32m━━━━━━━━━━━━━━━━━━━━\u001b[0m\u001b[37m\u001b[0m \u001b[1m0s\u001b[0m 5ms/step - accuracy: 0.8393 - loss: 0.3618 - val_accuracy: 0.8954 - val_loss: 0.2573\n",
            "Epoch 345/350\n",
            "\u001b[1m36/36\u001b[0m \u001b[32m━━━━━━━━━━━━━━━━━━━━\u001b[0m\u001b[37m\u001b[0m \u001b[1m0s\u001b[0m 4ms/step - accuracy: 0.8354 - loss: 0.3667 - val_accuracy: 0.8954 - val_loss: 0.2631\n",
            "Epoch 346/350\n",
            "\u001b[1m36/36\u001b[0m \u001b[32m━━━━━━━━━━━━━━━━━━━━\u001b[0m\u001b[37m\u001b[0m \u001b[1m0s\u001b[0m 5ms/step - accuracy: 0.8700 - loss: 0.3166 - val_accuracy: 0.8954 - val_loss: 0.2593\n",
            "Epoch 347/350\n",
            "\u001b[1m36/36\u001b[0m \u001b[32m━━━━━━━━━━━━━━━━━━━━\u001b[0m\u001b[37m\u001b[0m \u001b[1m0s\u001b[0m 4ms/step - accuracy: 0.8922 - loss: 0.2923 - val_accuracy: 0.8954 - val_loss: 0.2656\n",
            "Epoch 348/350\n",
            "\u001b[1m36/36\u001b[0m \u001b[32m━━━━━━━━━━━━━━━━━━━━\u001b[0m\u001b[37m\u001b[0m \u001b[1m0s\u001b[0m 5ms/step - accuracy: 0.8877 - loss: 0.3001 - val_accuracy: 0.8954 - val_loss: 0.2519\n",
            "Epoch 349/350\n",
            "\u001b[1m36/36\u001b[0m \u001b[32m━━━━━━━━━━━━━━━━━━━━\u001b[0m\u001b[37m\u001b[0m \u001b[1m0s\u001b[0m 5ms/step - accuracy: 0.8765 - loss: 0.3085 - val_accuracy: 0.8954 - val_loss: 0.2562\n",
            "Epoch 350/350\n",
            "\u001b[1m36/36\u001b[0m \u001b[32m━━━━━━━━━━━━━━━━━━━━\u001b[0m\u001b[37m\u001b[0m \u001b[1m0s\u001b[0m 5ms/step - accuracy: 0.8559 - loss: 0.3185 - val_accuracy: 0.8954 - val_loss: 0.2612\n"
          ]
        },
        {
          "output_type": "execute_result",
          "data": {
            "text/plain": [
              "<keras.src.callbacks.history.History at 0x7d1ccb062690>"
            ]
          },
          "metadata": {},
          "execution_count": 8
        }
      ],
      "source": [
        "import numpy as np\n",
        "from sklearn.model_selection import train_test_split\n",
        "import tensorflow as tf\n",
        "from tensorflow.keras.models import Sequential\n",
        "from tensorflow.keras.layers import Dense, Dropout\n",
        "\n",
        "X_train_global, X_test_global, y_train_global, y_test_global = train_test_split(X_batch_loaded, y_batch_loaded, test_size=0.3, random_state=42)\n",
        "model = Sequential([\n",
        "    Dense(32, activation='relu', input_shape=(100,)),\n",
        "    Dropout(0.5),\n",
        "    Dense(16, activation='relu'),\n",
        "    Dropout(0.5),\n",
        "    Dense(8, activation='relu'),\n",
        "    Dropout(0.5),\n",
        "    Dense(1, activation='sigmoid')\n",
        "])\n",
        "\n",
        "\n",
        "model.compile(optimizer='adam', loss='binary_crossentropy', metrics=['accuracy'])\n",
        "model.fit(np.array(X_train_global), np.array(y_train_global), epochs=350, batch_size=10, validation_data=(np.array(X_test_global), np.array(y_test_global)), verbose=1)"
      ]
    },
    {
      "cell_type": "code",
      "source": [
        "from sklearn.metrics import confusion_matrix\n",
        "import seaborn as sns\n",
        "import matplotlib.pyplot as plt\n",
        "\n",
        "cm = confusion_matrix(y_test_batch, y_pred)\n",
        "\n",
        "plt.figure(figsize=(6,4))\n",
        "sns.heatmap(cm, annot=True, fmt='d', cmap='Blues')\n",
        "plt.xlabel(\"Predicted\")\n",
        "plt.ylabel(\"Actual\")\n",
        "plt.title(\"Confusion Matrix\")\n",
        "plt.show()\n"
      ],
      "metadata": {
        "colab": {
          "base_uri": "https://localhost:8080/",
          "height": 410
        },
        "id": "UKfGzKzrM1af",
        "outputId": "86e484db-569f-4b1c-b241-2b3681c278a8"
      },
      "execution_count": null,
      "outputs": [
        {
          "output_type": "display_data",
          "data": {
            "text/plain": [
              "<Figure size 600x400 with 2 Axes>"
            ],
            "image/png": "[encoded data removed]"
          },
          "metadata": {}
        }
      ]
    },
    {
      "cell_type": "code",
      "source": [
        "# Evaluate on test data\n",
        "test_loss, test_acc = model.evaluate(np.array(X_test_batch), np.array(y_test_batch), verbose=0)\n",
        "print(f\"Test Accuracy: {test_acc:.4f}\")\n"
      ],
      "metadata": {
        "colab": {
          "base_uri": "https://localhost:8080/"
        },
        "id": "j92YbGP3Mt7L",
        "outputId": "2a5df3b3-eda9-4bf3-c2ae-e89d2dd9a0a5"
      },
      "execution_count": null,
      "outputs": [
        {
          "output_type": "stream",
          "name": "stdout",
          "text": [
            "Test Accuracy: 0.9000\n"
          ]
        }
      ]
    },
    {
      "cell_type": "code",
      "execution_count": null,
      "metadata": {
        "colab": {
          "base_uri": "https://localhost:8080/"
        },
        "id": "qnpB_PF-Wvaa",
        "outputId": "f79b91b2-374d-4ca8-a07b-d76244a6aa7e"
      },
      "outputs": [
        {
          "output_type": "stream",
          "name": "stderr",
          "text": [
            "WARNING:absl:You are saving your model as an HDF5 file via `model.save()` or `keras.saving.save_model(model)`. This file format is considered legacy. We recommend using instead the native Keras format, e.g. `model.save('my_model.keras')` or `keras.saving.save_model(model, 'my_model.keras')`. \n"
          ]
        }
      ],
      "source": [
        "# Save the model\n",
        "model.save('/content/drive/MyDrive/mlp/model(4096,2048)-87.h5')"
      ]
    },
    {
      "cell_type": "code",
      "execution_count": null,
      "metadata": {
        "id": "7JY7_2e6XadN",
        "colab": {
          "base_uri": "https://localhost:8080/"
        },
        "outputId": "287b5a2d-61e1-45d9-b020-96417889fe7c"
      },
      "outputs": [
        {
          "output_type": "stream",
          "name": "stderr",
          "text": [
            "WARNING:absl:Compiled the loaded model, but the compiled metrics have yet to be built. `model.compile_metrics` will be empty until you train or evaluate the model.\n"
          ]
        }
      ],
      "source": [
        "from tensorflow.keras.models import load_model\n",
        "\n",
        "# Load the saved model\n",
        "model = load_model('/content/drive/MyDrive/mlp/model(4096,2048)-87.h5')\n",
        "\n",
        "# Now you can use the loaded model for prediction or further training\n",
        "# For example, to make predictions:\n",
        "# predictions = model.predict(new_data)\n"
      ]
    },
    {
      "cell_type": "code",
      "execution_count": null,
      "metadata": {
        "colab": {
          "base_uri": "https://localhost:8080/",
          "height": 228
        },
        "id": "sAGfFWATZh3O",
        "outputId": "1c23cce4-0284-4439-acae-752715766423"
      },
      "outputs": [
        {
          "output_type": "stream",
          "name": "stdout",
          "text": [
            "Training Fold 1/5...\n"
          ]
        },
        {
          "output_type": "error",
          "ename": "IndexError",
          "evalue": "index 158 is out of bounds for axis 0 with size 153",
          "traceback": [
            "\u001b[0;31m---------------------------------------------------------------------------\u001b[0m",
            "\u001b[0;31mIndexError\u001b[0m                                Traceback (most recent call last)",
            "\u001b[0;32m<ipython-input-19-787515496b01>\u001b[0m in \u001b[0;36m<cell line: 0>\u001b[0;34m()\u001b[0m\n\u001b[1;32m     16\u001b[0m \u001b[0;34m\u001b[0m\u001b[0m\n\u001b[1;32m     17\u001b[0m     \u001b[0;31m# Split data\u001b[0m\u001b[0;34m\u001b[0m\u001b[0;34m\u001b[0m\u001b[0m\n\u001b[0;32m---> 18\u001b[0;31m     \u001b[0mX_train\u001b[0m\u001b[0;34m,\u001b[0m \u001b[0mX_test\u001b[0m \u001b[0;34m=\u001b[0m \u001b[0mX_train_global\u001b[0m\u001b[0;34m[\u001b[0m\u001b[0mtrain_idx\u001b[0m\u001b[0;34m]\u001b[0m\u001b[0;34m,\u001b[0m \u001b[0mX_test_global\u001b[0m\u001b[0;34m[\u001b[0m\u001b[0mtest_idx\u001b[0m\u001b[0;34m]\u001b[0m\u001b[0;34m\u001b[0m\u001b[0;34m\u001b[0m\u001b[0m\n\u001b[0m\u001b[1;32m     19\u001b[0m     \u001b[0my_train\u001b[0m\u001b[0;34m,\u001b[0m \u001b[0my_test\u001b[0m \u001b[0;34m=\u001b[0m \u001b[0my_train_global\u001b[0m\u001b[0;34m[\u001b[0m\u001b[0mtrain_idx\u001b[0m\u001b[0;34m]\u001b[0m\u001b[0;34m,\u001b[0m \u001b[0my_test_global\u001b[0m\u001b[0;34m[\u001b[0m\u001b[0mtest_idx\u001b[0m\u001b[0;34m]\u001b[0m\u001b[0;34m\u001b[0m\u001b[0;34m\u001b[0m\u001b[0m\n\u001b[1;32m     20\u001b[0m \u001b[0;34m\u001b[0m\u001b[0m\n",
            "\u001b[0;31mIndexError\u001b[0m: index 158 is out of bounds for axis 0 with size 153"
          ]
        }
      ],
      "source": [
        "import numpy as np\n",
        "from sklearn.model_selection import KFold\n",
        "import tensorflow as tf\n",
        "from tensorflow.keras.models import Sequential\n",
        "from tensorflow.keras.layers import Dense, Dropout\n",
        "\n",
        "# Set number of folds\n",
        "k = 5\n",
        "kf = KFold(n_splits=k, shuffle=True, random_state=42)\n",
        "\n",
        "# Store scores\n",
        "fold_accuracies = []\n",
        "model2 = None\n",
        "for fold, (train_idx, test_idx) in enumerate(kf.split(X_train_global)):\n",
        "    print(f\"Training Fold {fold + 1}/{k}...\")\n",
        "\n",
        "    # Split data\n",
        "    X_train, X_test = X_train_global[train_idx], X_test_global[test_idx]\n",
        "    y_train, y_test = y_train_global[train_idx], y_test_global[test_idx]\n",
        "\n",
        "    # Define MLP model\n",
        "    model = Sequential([\n",
        "      Dense(32, activation='relu', input_shape=(500,)),\n",
        "      Dropout(0.3),\n",
        "      Dense(16, activation='relu'),\n",
        "      Dropout(0.3),\n",
        "      Dense(8, activation='relu'),\n",
        "      Dropout(0.3),\n",
        "      Dense(4, activation='relu'),\n",
        "      Dense(1, activation='sigmoid')\n",
        "    ])\n",
        "\n",
        "\n",
        "    # Compile the model\n",
        "    model2.compile(optimizer='adam', loss='binary_crossentropy', metrics=['accuracy'])\n",
        "\n",
        "    # Train the model\n",
        "    history = model2.fit(X_train, y_train, epochs=400, batch_size=10,\n",
        "                        validation_data=(X_test, y_test), verbose=2)\n",
        "\n",
        "    # Evaluate the model\n",
        "    _, accuracy = model2.evaluate(X_test, y_test, verbose=0)\n",
        "    fold_accuracies.append(accuracy)\n",
        "    print(f\"Fold {fold + 1} Accuracy: {accuracy:.4f}\\n\")\n",
        "\n",
        "# Print final cross-validation accuracy\n",
        "print(f\"Mean Accuracy: {np.mean(fold_accuracies):.4f} ± {np.std(fold_accuracies):.4f}\")\n"
      ]
    },
    {
      "cell_type": "code",
      "execution_count": null,
      "metadata": {
        "id": "9JtKbousytFD"
      },
      "outputs": [],
      "source": [
        "nicv_scores = nicv_values\n",
        "n_components = 100\n",
        "\n",
        "keys =  list(file3.keys())[:100] + list(file4.keys())[0:100] + list(file3.keys())[100:] + list(file4.keys())[100:]\n",
        "X_test_batch = []\n",
        "y_test_batch = []\n",
        "for name in keys:\n",
        "  data = []\n",
        "  label = 0\n",
        "  if name in file3:\n",
        "    label = 0\n",
        "    data = file3[name]\n",
        "  else:\n",
        "    label = 1\n",
        "    data = file4[name]\n",
        "  data_tensor = tf.convert_to_tensor(data, dtype=tf.float32)\n",
        "  Zxx = tf.signal.stft(data_tensor, frame_length=4096, frame_step=2048, fft_length=4096)\n",
        "  magnitude = tf.abs(Zxx).numpy().reshape(Zxx.shape[0], -1)\n",
        "  selected_indices = np.argsort(nicv_scores)[-n_components:]\n",
        "  reduced_features = magnitude[:, selected_indices]\n",
        "  final_features = np.mean(reduced_features, axis=0)\n",
        "  X_test_batch.append(final_features)\n",
        "  y_test_batch.append(label)\n",
        "\n",
        "\n"
      ]
    },
    {
      "cell_type": "code",
      "execution_count": null,
      "metadata": {
        "id": "PkX6Szmo3eHy"
      },
      "outputs": [],
      "source": [
        "nicv_scores = nicv_values\n",
        "n_components = 100\n",
        "\n",
        "keys =  list(file5.keys())\n",
        "for name in keys:\n",
        "  data = []\n",
        "  label = 0\n",
        "  if(file5[name].attrs.get('label') == \"benign\"):\n",
        "    label = 0\n",
        "    data = file5[name]\n",
        "  else:\n",
        "    label = 1\n",
        "    data = file5[name]\n",
        "  data_tensor = tf.convert_to_tensor(data, dtype=tf.float32)\n",
        "  Zxx = tf.signal.stft(data_tensor, frame_length=4096, frame_step=2048, fft_length=4096)\n",
        "  magnitude = tf.abs(Zxx).numpy().reshape(Zxx.shape[0], -1)\n",
        "  selected_indices = np.argsort(nicv_scores)[-n_components:]\n",
        "  reduced_features = magnitude[:, selected_indices]\n",
        "  final_features = np.mean(reduced_features, axis=0)\n",
        "  X_test_batch.append(final_features)\n",
        "  y_test_batch.append(label)\n"
      ]
    },
    {
      "cell_type": "code",
      "source": [
        "# Evaluate on test data\n",
        "test_loss, test_acc = model.evaluate(np.array(X_test_global), np.array(y_test_global), verbose=0)\n",
        "print(f\"Test Accuracy: {test_acc:.4f}\")\n"
      ],
      "metadata": {
        "colab": {
          "base_uri": "https://localhost:8080/"
        },
        "id": "fUCSOXClwJBe",
        "outputId": "ea2b4b3a-ab3c-47fc-ae45-359c27346d5a"
      },
      "execution_count": null,
      "outputs": [
        {
          "output_type": "stream",
          "name": "stdout",
          "text": [
            "Test Accuracy: 0.9020\n"
          ]
        }
      ]
    },
    {
      "cell_type": "code",
      "source": [
        "from sklearn.metrics import classification_report\n",
        "y_pred = model.predict(np.array(X_test_global))\n",
        "y_pred = np.round(y_pred).flatten()\n",
        "print(classification_report(y_test_global, y_pred))\n"
      ],
      "metadata": {
        "colab": {
          "base_uri": "https://localhost:8080/"
        },
        "id": "oO_5MwcIwqee",
        "outputId": "dd2f414a-87d4-4e60-8792-62387083ce16"
      },
      "execution_count": null,
      "outputs": [
        {
          "output_type": "stream",
          "name": "stdout",
          "text": [
            "\r\u001b[1m1/5\u001b[0m \u001b[32m━━━━\u001b[0m\u001b[37m━━━━━━━━━━━━━━━━\u001b[0m \u001b[1m0s\u001b[0m 64ms/step"
          ]
        },
        {
          "output_type": "stream",
          "name": "stderr",
          "text": [
            "WARNING:tensorflow:5 out of the last 15 calls to <function TensorFlowTrainer.make_predict_function.<locals>.one_step_on_data_distributed at 0x79f0a07a40e0> triggered tf.function retracing. Tracing is expensive and the excessive number of tracings could be due to (1) creating @tf.function repeatedly in a loop, (2) passing tensors with different shapes, (3) passing Python objects instead of tensors. For (1), please define your @tf.function outside of the loop. For (2), @tf.function has reduce_retracing=True option that can avoid unnecessary retracing. For (3), please refer to https://www.tensorflow.org/guide/function#controlling_retracing and https://www.tensorflow.org/api_docs/python/tf/function for  more details.\n"
          ]
        },
        {
          "output_type": "stream",
          "name": "stdout",
          "text": [
            "\u001b[1m5/5\u001b[0m \u001b[32m━━━━━━━━━━━━━━━━━━━━\u001b[0m\u001b[37m\u001b[0m \u001b[1m0s\u001b[0m 17ms/step\n",
            "              precision    recall  f1-score   support\n",
            "\n",
            "           0       1.00      0.81      0.90        79\n",
            "           1       0.83      1.00      0.91        74\n",
            "\n",
            "    accuracy                           0.90       153\n",
            "   macro avg       0.92      0.91      0.90       153\n",
            "weighted avg       0.92      0.90      0.90       153\n",
            "\n"
          ]
        }
      ]
    },
    {
      "cell_type": "code",
      "source": [
        "from sklearn.metrics import confusion_matrix\n",
        "import seaborn as sns\n",
        "import matplotlib.pyplot as plt\n",
        "\n",
        "cm = confusion_matrix(y_test_global, y_pred)\n",
        "\n",
        "plt.figure(figsize=(6,4))\n",
        "sns.heatmap(cm, annot=True, fmt='d', cmap='Blues')\n",
        "plt.xlabel(\"Predicted\")\n",
        "plt.ylabel(\"Actual\")\n",
        "plt.title(\"Confusion Matrix\")\n",
        "plt.show()\n"
      ],
      "metadata": {
        "colab": {
          "base_uri": "https://localhost:8080/",
          "height": 410
        },
        "id": "O-8PY5OVwz5m",
        "outputId": "65142bec-46c8-4413-eb62-33bc0a1e35f3"
      },
      "execution_count": null,
      "outputs": [
        {
          "output_type": "display_data",
          "data": {
            "text/plain": [
              "<Figure size 600x400 with 2 Axes>"
            ],
            "image/png": "[encoded data removed]"
          },
          "metadata": {}
        }
      ]
    },
    {
      "cell_type": "code",
      "source": [
        "# Evaluate on test data\n",
        "test_loss, test_acc = model.evaluate(np.array(X_test_batch), np.array(y_test_batch), verbose=0)\n",
        "print(f\"Test Accuracy: {test_acc:.4f}\")\n"
      ],
      "metadata": {
        "colab": {
          "base_uri": "https://localhost:8080/"
        },
        "id": "pXGMl4gRHRbS",
        "outputId": "884a8412-290e-4752-bda1-25d82c6ca930"
      },
      "execution_count": null,
      "outputs": [
        {
          "output_type": "stream",
          "name": "stdout",
          "text": [
            "Test Accuracy: 0.8769\n"
          ]
        }
      ]
    },
    {
      "cell_type": "code",
      "execution_count": null,
      "metadata": {
        "colab": {
          "base_uri": "https://localhost:8080/"
        },
        "id": "uQ6ubTuZJcx-",
        "outputId": "7736be92-e23c-4f28-c1bc-3fd3a8ec14fd"
      },
      "outputs": [
        {
          "output_type": "stream",
          "name": "stdout",
          "text": [
            "Test Accuracy: 0.8769\n"
          ]
        }
      ],
      "source": [
        "# Evaluate on test data\n",
        "test_loss, test_acc = model.evaluate(np.array(X_test_batch), np.array(y_test_batch), verbose=0)\n",
        "print(f\"Test Accuracy: {test_acc:.4f}\")\n"
      ]
    },
    {
      "cell_type": "code",
      "execution_count": null,
      "metadata": {
        "colab": {
          "base_uri": "https://localhost:8080/"
        },
        "id": "L1L7AqTmQTqT",
        "outputId": "95e96aeb-41e6-42b0-c394-5962a9b5e11f"
      },
      "outputs": [
        {
          "output_type": "stream",
          "name": "stdout",
          "text": [
            "\u001b[1m3/3\u001b[0m \u001b[32m━━━━━━━━━━━━━━━━━━━━\u001b[0m\u001b[37m\u001b[0m \u001b[1m0s\u001b[0m 11ms/step\n",
            "              precision    recall  f1-score   support\n",
            "\n",
            "           0       1.00      0.78      0.88        36\n",
            "           1       0.78      1.00      0.88        29\n",
            "\n",
            "    accuracy                           0.88        65\n",
            "   macro avg       0.89      0.89      0.88        65\n",
            "weighted avg       0.90      0.88      0.88        65\n",
            "\n"
          ]
        }
      ],
      "source": [
        "from sklearn.metrics import classification_report\n",
        "y_pred = model.predict(np.array(X_test_batch))\n",
        "y_pred = np.round(y_pred).flatten()\n",
        "print(classification_report(y_test_batch, y_pred))\n"
      ]
    },
    {
      "cell_type": "code",
      "execution_count": null,
      "metadata": {
        "colab": {
          "base_uri": "https://localhost:8080/",
          "height": 410
        },
        "id": "oOD33tJRQzXK",
        "outputId": "119f3a55-34d8-4426-e5ec-6488e58709c7"
      },
      "outputs": [
        {
          "output_type": "display_data",
          "data": {
            "text/plain": [
              "<Figure size 600x400 with 2 Axes>"
            ],
            "image/png": "[encoded data removed]"
          },
          "metadata": {}
        }
      ],
      "source": [
        "from sklearn.metrics import confusion_matrix\n",
        "import seaborn as sns\n",
        "import matplotlib.pyplot as plt\n",
        "\n",
        "cm = confusion_matrix(y_test_batch, y_pred)\n",
        "\n",
        "plt.figure(figsize=(6,4))\n",
        "sns.heatmap(cm, annot=True, fmt='d', cmap='Blues')\n",
        "plt.xlabel(\"Predicted\")\n",
        "plt.ylabel(\"Actual\")\n",
        "plt.title(\"Confusion Matrix\")\n",
        "plt.show()\n"
      ]
    },
    {
      "cell_type": "code",
      "execution_count": null,
      "metadata": {
        "colab": {
          "base_uri": "https://localhost:8080/",
          "height": 427
        },
        "id": "XiMTTbzIRKAF",
        "outputId": "7d3ab2cf-106d-47bf-ec4b-5e7f5a579624"
      },
      "outputs": [
        {
          "output_type": "stream",
          "name": "stdout",
          "text": [
            "\u001b[1m3/3\u001b[0m \u001b[32m━━━━━━━━━━━━━━━━━━━━\u001b[0m\u001b[37m\u001b[0m \u001b[1m0s\u001b[0m 10ms/step\n"
          ]
        },
        {
          "output_type": "display_data",
          "data": {
            "text/plain": [
              "<Figure size 600x400 with 1 Axes>"
            ],
            "image/png": "[encoded data removed]"
          },
          "metadata": {}
        }
      ],
      "source": [
        "from sklearn.metrics import roc_curve, auc\n",
        "import matplotlib.pyplot as plt\n",
        "\n",
        "# Predict probabilities\n",
        "y_pred_probs = model.predict(np.array(X_test_batch))\n",
        "\n",
        "# Get FPR, TPR for different thresholds\n",
        "fpr, tpr, thresholds = roc_curve(y_test_batch, y_pred_probs)\n",
        "roc_auc = auc(fpr, tpr)\n",
        "\n",
        "# Plot\n",
        "plt.figure(figsize=(6, 4))\n",
        "plt.plot(fpr, tpr, label=f\"ROC curve (AUC = {roc_auc:.2f})\")\n",
        "plt.plot([0, 1], [0, 1], linestyle='--', color='gray')  # random guess line\n",
        "plt.xlabel(\"False Positive Rate\")\n",
        "plt.ylabel(\"True Positive Rate\")\n",
        "plt.title(\"ROC Curve\")\n",
        "plt.legend()\n",
        "plt.grid(True)\n",
        "plt.show()\n"
      ]
    },
    {
      "cell_type": "markdown",
      "source": [
        "# test"
      ],
      "metadata": {
        "id": "xuEv2i6AZvPQ"
      }
    },
    {
      "cell_type": "code",
      "source": [
        "file6 = h5py.File(\"/content/drive/MyDrive/signal data/benign-single.h5\", \"r\")\n",
        "file7 = h5py.File(\"/content/drive/MyDrive/signal data/infected-single.h5\", \"r\")\n",
        "file8 = h5py.File(\"/content/drive/MyDrive/signal data/benign-gamesall.h5\", \"r\")\n",
        "file9 = h5py.File(\"/content/drive/MyDrive/signal data/infected-gamesall.h5\", \"r\")"
      ],
      "metadata": {
        "id": "yo1WxqvrZxvK"
      },
      "execution_count": null,
      "outputs": []
    },
    {
      "cell_type": "code",
      "execution_count": null,
      "metadata": {
        "id": "Y9bbzzXgU7-N",
        "colab": {
          "base_uri": "https://localhost:8080/"
        },
        "outputId": "383c9867-00eb-438d-8168-c34125978c05"
      },
      "outputs": [
        {
          "output_type": "stream",
          "name": "stderr",
          "text": [
            "/usr/local/lib/python3.11/dist-packages/tensorflow/python/framework/constant_op.py:108: ComplexWarning: Casting complex values to real discards the imaginary part\n",
            "  return ops.EagerTensor(value, ctx.device_name, dtype)\n"
          ]
        }
      ],
      "source": [
        "import numpy as np\n",
        "\n",
        "file_path = \"/content/drive/MyDrive/nicv/(4096,2048).npy\"\n",
        "nicv_values = np.load(file_path)\n",
        "\n",
        "nicv_scores = nicv_values\n",
        "n_components = 100\n",
        "file = file8\n",
        "keys =  list(file.keys())\n",
        "X_test_batch_gamesall = []\n",
        "y_test_batch_gamesall = []\n",
        "for name in keys:\n",
        "  data = []\n",
        "  label = 1\n",
        "  data = file[name]\n",
        "\n",
        "  data_tensor = tf.convert_to_tensor(data, dtype=tf.float32)\n",
        "  Zxx = tf.signal.stft(data_tensor, frame_length=4096, frame_step=2048, fft_length=4096)\n",
        "  magnitude = tf.abs(Zxx).numpy().reshape(Zxx.shape[0], -1)\n",
        "  selected_indices = np.argsort(nicv_scores)[-n_components:]\n",
        "  reduced_features = magnitude[:, selected_indices]\n",
        "  final_features = np.mean(reduced_features, axis=0)\n",
        "  X_test_batch_gamesall.append(final_features)\n",
        "  y_test_batch_gamesall.append(label)\n",
        "\n",
        "\n"
      ]
    },
    {
      "cell_type": "code",
      "source": [
        "X_test_batch = np.load(\"/content/drive/MyDrive/stft_data/X_batch(4096,2048)_test_noise.npy\", \"r\")\n",
        "y_test_batch = np.load(\"/content/drive/MyDrive/stft_data/y_batch(4096,2048)_test_noise.npy\", \"r\")"
      ],
      "metadata": {
        "id": "EwkTuYlqkp_D"
      },
      "execution_count": null,
      "outputs": []
    },
    {
      "cell_type": "code",
      "source": [
        "# Evaluate on test data\n",
        "test_loss, test_acc = model.evaluate(np.array(X_test_batch), np.array(y_test_batch), verbose=0)\n",
        "print(f\"Test Accuracy: {test_acc:.4f}\")\n"
      ],
      "metadata": {
        "colab": {
          "base_uri": "https://localhost:8080/"
        },
        "id": "AUEqcV1glmZR",
        "outputId": "4abcdba6-78d8-426f-b8d1-5acef9a25a03"
      },
      "execution_count": null,
      "outputs": [
        {
          "output_type": "stream",
          "name": "stdout",
          "text": [
            "Test Accuracy: 0.8800\n"
          ]
        }
      ]
    },
    {
      "cell_type": "code",
      "source": [
        "from sklearn.metrics import classification_report\n",
        "y_pred = model.predict(np.array(X_test_batch))\n",
        "y_pred = np.round(y_pred).flatten()\n",
        "print(classification_report(y_test_batch, y_pred))\n"
      ],
      "metadata": {
        "colab": {
          "base_uri": "https://localhost:8080/"
        },
        "id": "8PKNnT9EmVZX",
        "outputId": "e7bb9d03-b289-49e7-f37c-8e4b8db1fca1"
      },
      "execution_count": null,
      "outputs": [
        {
          "output_type": "stream",
          "name": "stdout",
          "text": [
            "\u001b[1m4/4\u001b[0m \u001b[32m━━━━━━━━━━━━━━━━━━━━\u001b[0m\u001b[37m\u001b[0m \u001b[1m0s\u001b[0m 23ms/step\n",
            "              precision    recall  f1-score   support\n",
            "\n",
            "           0       1.00      0.77      0.87        53\n",
            "           1       0.80      1.00      0.89        47\n",
            "\n",
            "    accuracy                           0.88       100\n",
            "   macro avg       0.90      0.89      0.88       100\n",
            "weighted avg       0.90      0.88      0.88       100\n",
            "\n"
          ]
        }
      ]
    },
    {
      "cell_type": "code",
      "source": [
        "from sklearn.metrics import confusion_matrix\n",
        "import seaborn as sns\n",
        "import matplotlib.pyplot as plt\n",
        "\n",
        "cm = confusion_matrix(y_test_batch, y_pred)\n",
        "\n",
        "plt.figure(figsize=(6,4))\n",
        "sns.heatmap(cm, annot=True, fmt='d', cmap='Blues')\n",
        "plt.xlabel(\"Predicted\")\n",
        "plt.ylabel(\"Actual\")\n",
        "plt.title(\"Confusion Matrix\")\n",
        "plt.show()\n"
      ],
      "metadata": {
        "colab": {
          "base_uri": "https://localhost:8080/",
          "height": 410
        },
        "id": "aSIRFyACnBHg",
        "outputId": "9991c75b-57ff-45ca-bfd6-116dbfe633c0"
      },
      "execution_count": null,
      "outputs": [
        {
          "output_type": "display_data",
          "data": {
            "text/plain": [
              "<Figure size 600x400 with 2 Axes>"
            ],
            "image/png": "[encoded data removed]"
          },
          "metadata": {}
        }
      ]
    },
    {
      "cell_type": "code",
      "source": [
        "from sklearn.metrics import roc_curve, auc\n",
        "import matplotlib.pyplot as plt\n",
        "\n",
        "# Predict probabilities\n",
        "y_pred_probs = model.predict(np.array(X_test_batch))\n",
        "\n",
        "# Get FPR, TPR for different thresholds\n",
        "fpr, tpr, thresholds = roc_curve(y_test_batch, y_pred_probs)\n",
        "roc_auc = auc(fpr, tpr)\n",
        "\n",
        "# Plot\n",
        "plt.figure(figsize=(6, 4))\n",
        "plt.plot(fpr, tpr, label=f\"ROC curve (AUC = {roc_auc:.2f})\")\n",
        "plt.plot([0, 1], [0, 1], linestyle='--', color='gray')  # random guess line\n",
        "plt.xlabel(\"False Positive Rate\")\n",
        "plt.ylabel(\"True Positive Rate\")\n",
        "plt.title(\"ROC Curve\")\n",
        "plt.legend()\n",
        "plt.grid(True)\n",
        "plt.show()\n"
      ],
      "metadata": {
        "colab": {
          "base_uri": "https://localhost:8080/",
          "height": 427
        },
        "id": "ox1AelSdm7zh",
        "outputId": "972bba5b-7b26-499b-e78b-c4e5929db7d2"
      },
      "execution_count": null,
      "outputs": [
        {
          "output_type": "stream",
          "name": "stdout",
          "text": [
            "\u001b[1m4/4\u001b[0m \u001b[32m━━━━━━━━━━━━━━━━━━━━\u001b[0m\u001b[37m\u001b[0m \u001b[1m0s\u001b[0m 7ms/step \n"
          ]
        },
        {
          "output_type": "display_data",
          "data": {
            "text/plain": [
              "<Figure size 600x400 with 1 Axes>"
            ],
            "image/png": "[encoded data removed]"
          },
          "metadata": {}
        }
      ]
    },
    {
      "cell_type": "code",
      "source": [
        "file6 = h5py.File(\"/content/drive/MyDrive/signal data/benign-single.h5\", \"r\")\n",
        "file7 = h5py.File(\"/content/drive/MyDrive/signal data/infected-single.h5\", \"r\")\n",
        "file8 = h5py.File(\"/content/drive/MyDrive/signal data/benign-gamesall.h5\", \"r\")\n",
        "file9 = h5py.File(\"/content/drive/MyDrive/signal data/infected-gamesall.h5\", \"r\")"
      ],
      "metadata": {
        "id": "qNcV_RTLm-Xq"
      },
      "execution_count": null,
      "outputs": []
    },
    {
      "cell_type": "markdown",
      "source": [
        "# infected gamesall\n"
      ],
      "metadata": {
        "id": "X8WP3H_v58aP"
      }
    },
    {
      "cell_type": "code",
      "source": [
        "import numpy as np\n",
        "\n",
        "file_path = \"/content/drive/MyDrive/nicv/(4096,2048).npy\"\n",
        "nicv_values = np.load(file_path)\n",
        "\n",
        "nicv_scores = nicv_values\n",
        "n_components = 100\n",
        "file = file6\n",
        "keys =  list(file.keys())\n",
        "X_test_batch_vm = []\n",
        "y_test_batch_vm = []\n",
        "for name in keys:\n",
        "  data = []\n",
        "  label = 0\n",
        "  data = file[name]\n",
        "\n",
        "  data_tensor = tf.convert_to_tensor(data, dtype=tf.float32)\n",
        "  Zxx = tf.signal.stft(data_tensor, frame_length=4096, frame_step=2048, fft_length=4096)\n",
        "  magnitude = tf.abs(Zxx).numpy().reshape(Zxx.shape[0], -1)\n",
        "  selected_indices = np.argsort(nicv_scores)[-n_components:]\n",
        "  reduced_features = magnitude[:, selected_indices]\n",
        "  final_features = np.mean(reduced_features, axis=0)\n",
        "  X_test_batch_vm.append(final_features)\n",
        "  y_test_batch_vm.append(label)\n",
        "\n",
        "\n"
      ],
      "metadata": {
        "id": "LCP8d_7T6aZ3"
      },
      "execution_count": null,
      "outputs": []
    },
    {
      "cell_type": "code",
      "source": [
        "from sklearn.metrics import confusion_matrix\n",
        "import seaborn as sns\n",
        "import matplotlib.pyplot as plt\n",
        "\n",
        "from sklearn.metrics import classification_report\n",
        "y_pred = model.predict(np.array(X_test_batch_vm))\n",
        "y_pred = np.round(y_pred).flatten()\n",
        "print(classification_report(y_test_batch_vm, y_pred))\n",
        "cm = confusion_matrix(y_test_batch_vm, y_pred)\n",
        "\n",
        "plt.figure(figsize=(6,4))\n",
        "sns.heatmap(cm, annot=True, fmt='d', cmap='Blues')\n",
        "plt.xlabel(\"Predicted\")\n",
        "plt.ylabel(\"Actual\")\n",
        "plt.title(\"Confusion Matrix\")\n",
        "plt.show()\n"
      ],
      "metadata": {
        "colab": {
          "base_uri": "https://localhost:8080/",
          "height": 688
        },
        "id": "LGj2l_U6aUPC",
        "outputId": "0dc6cb92-5bff-419c-e9de-2241b576688f"
      },
      "execution_count": null,
      "outputs": [
        {
          "output_type": "stream",
          "name": "stdout",
          "text": [
            "\u001b[1m1/1\u001b[0m \u001b[32m━━━━━━━━━━━━━━━━━━━━\u001b[0m\u001b[37m\u001b[0m \u001b[1m0s\u001b[0m 36ms/step\n",
            "              precision    recall  f1-score   support\n",
            "\n",
            "         0.0       1.00      0.40      0.57         5\n",
            "         1.0       0.00      0.00      0.00         0\n",
            "\n",
            "    accuracy                           0.40         5\n",
            "   macro avg       0.50      0.20      0.29         5\n",
            "weighted avg       1.00      0.40      0.57         5\n",
            "\n"
          ]
        },
        {
          "output_type": "stream",
          "name": "stderr",
          "text": [
            "/usr/local/lib/python3.11/dist-packages/sklearn/metrics/_classification.py:1565: UndefinedMetricWarning: Recall is ill-defined and being set to 0.0 in labels with no true samples. Use `zero_division` parameter to control this behavior.\n",
            "  _warn_prf(average, modifier, f\"{metric.capitalize()} is\", len(result))\n",
            "/usr/local/lib/python3.11/dist-packages/sklearn/metrics/_classification.py:1565: UndefinedMetricWarning: Recall is ill-defined and being set to 0.0 in labels with no true samples. Use `zero_division` parameter to control this behavior.\n",
            "  _warn_prf(average, modifier, f\"{metric.capitalize()} is\", len(result))\n",
            "/usr/local/lib/python3.11/dist-packages/sklearn/metrics/_classification.py:1565: UndefinedMetricWarning: Recall is ill-defined and being set to 0.0 in labels with no true samples. Use `zero_division` parameter to control this behavior.\n",
            "  _warn_prf(average, modifier, f\"{metric.capitalize()} is\", len(result))\n"
          ]
        },
        {
          "output_type": "display_data",
          "data": {
            "text/plain": [
              "<Figure size 600x400 with 2 Axes>"
            ],
            "image/png": "[encoded data removed]"
          },
          "metadata": {}
        }
      ]
    },
    {
      "cell_type": "code",
      "source": [
        "import numpy as np\n",
        "\n",
        "file_path = \"/content/drive/MyDrive/nicv/(4096,2048).npy\"\n",
        "nicv_values = np.load(file_path)\n",
        "\n",
        "nicv_scores = nicv_values\n",
        "n_components = 100\n",
        "file = file7\n",
        "keys =  list(file.keys())\n",
        "X_test_batch_gamesall = []\n",
        "y_test_batch_gamesall = []\n",
        "for name in keys:\n",
        "  data = []\n",
        "  label = 1\n",
        "  data = file[name]\n",
        "\n",
        "  data_tensor = tf.convert_to_tensor(data, dtype=tf.float32)\n",
        "  Zxx = tf.signal.stft(data_tensor, frame_length=4096, frame_step=2048, fft_length=4096)\n",
        "  magnitude = tf.abs(Zxx).numpy().reshape(Zxx.shape[0], -1)\n",
        "  selected_indices = np.argsort(nicv_scores)[-n_components:]\n",
        "  reduced_features = magnitude[:, selected_indices]\n",
        "  final_features = np.mean(reduced_features, axis=0)\n",
        "  X_test_batch_gamesall.append(final_features)\n",
        "  y_test_batch_gamesall.append(label)\n",
        "\n",
        "\n"
      ],
      "metadata": {
        "id": "jf9_azjd6hhN",
        "colab": {
          "base_uri": "https://localhost:8080/"
        },
        "outputId": "5e7093bd-9501-404e-be93-ba64498485bc"
      },
      "execution_count": null,
      "outputs": [
        {
          "output_type": "stream",
          "name": "stderr",
          "text": [
            "/usr/local/lib/python3.11/dist-packages/tensorflow/python/framework/constant_op.py:108: ComplexWarning: Casting complex values to real discards the imaginary part\n",
            "  return ops.EagerTensor(value, ctx.device_name, dtype)\n"
          ]
        }
      ]
    },
    {
      "cell_type": "code",
      "source": [
        "from sklearn.metrics import confusion_matrix\n",
        "import seaborn as sns\n",
        "import matplotlib.pyplot as plt\n",
        "\n",
        "from sklearn.metrics import classification_report\n",
        "y_pred = model.predict(np.array(X_test_batch_gamesall))\n",
        "y_pred = np.round(y_pred).flatten()\n",
        "print(classification_report(y_test_batch_gamesall, y_pred))\n",
        "\n",
        "plt.figure(figsize=(6,4))\n",
        "sns.heatmap(cm, annot=True, fmt='d', cmap='Blues')\n",
        "plt.xlabel(\"Predicted\")\n",
        "plt.ylabel(\"Actual\")\n",
        "plt.title(\"Confusion Matrix\")\n",
        "plt.show()\n",
        "cm = confusion_matrix(y_test_batch_gamesall, y_pred)\n"
      ],
      "metadata": {
        "colab": {
          "base_uri": "https://localhost:8080/",
          "height": 621
        },
        "id": "BkzF33fzaabA",
        "outputId": "b4c6ec3b-fd61-4da6-c87a-0bbbc057984f"
      },
      "execution_count": null,
      "outputs": [
        {
          "output_type": "stream",
          "name": "stdout",
          "text": [
            "\u001b[1m1/1\u001b[0m \u001b[32m━━━━━━━━━━━━━━━━━━━━\u001b[0m\u001b[37m\u001b[0m \u001b[1m0s\u001b[0m 35ms/step\n",
            "              precision    recall  f1-score   support\n",
            "\n",
            "           1       1.00      1.00      1.00         4\n",
            "\n",
            "    accuracy                           1.00         4\n",
            "   macro avg       1.00      1.00      1.00         4\n",
            "weighted avg       1.00      1.00      1.00         4\n",
            "\n"
          ]
        },
        {
          "output_type": "display_data",
          "data": {
            "text/plain": [
              "<Figure size 600x400 with 2 Axes>"
            ],
            "image/png": "[encoded data removed]"
          },
          "metadata": {}
        },
        {
          "output_type": "stream",
          "name": "stderr",
          "text": [
            "/usr/local/lib/python3.11/dist-packages/sklearn/metrics/_classification.py:407: UserWarning: A single label was found in 'y_true' and 'y_pred'. For the confusion matrix to have the correct shape, use the 'labels' parameter to pass all known labels.\n",
            "  warnings.warn(\n"
          ]
        }
      ]
    },
    {
      "cell_type": "code",
      "source": [
        "import numpy as np\n",
        "\n",
        "file_path = \"/content/drive/MyDrive/nicv/(4096,2048).npy\"\n",
        "nicv_values = np.load(file_path)\n",
        "\n",
        "nicv_scores = nicv_values\n",
        "n_components = 100\n",
        "file = file8\n",
        "keys =  list(file.keys())\n",
        "X_test_batch_gamesall = []\n",
        "y_test_batch_gamesall = []\n",
        "for name in keys:\n",
        "  data = []\n",
        "  label = 0\n",
        "  data = file[name]\n",
        "\n",
        "  data_tensor = tf.convert_to_tensor(data, dtype=tf.float32)\n",
        "  Zxx = tf.signal.stft(data_tensor, frame_length=4096, frame_step=2048, fft_length=4096)\n",
        "  magnitude = tf.abs(Zxx).numpy().reshape(Zxx.shape[0], -1)\n",
        "  selected_indices = np.argsort(nicv_scores)[-n_components:]\n",
        "  reduced_features = magnitude[:, selected_indices]\n",
        "  final_features = np.mean(reduced_features, axis=0)\n",
        "  X_test_batch_gamesall.append(final_features)\n",
        "  y_test_batch_gamesall.append(label)\n",
        "\n",
        "\n"
      ],
      "metadata": {
        "id": "xO-7dahr_BBf",
        "colab": {
          "base_uri": "https://localhost:8080/"
        },
        "outputId": "51347cff-263f-4ee2-f0df-fc0b6c9f5007"
      },
      "execution_count": null,
      "outputs": [
        {
          "output_type": "stream",
          "name": "stderr",
          "text": [
            "/usr/local/lib/python3.11/dist-packages/tensorflow/python/framework/constant_op.py:108: ComplexWarning: Casting complex values to real discards the imaginary part\n",
            "  return ops.EagerTensor(value, ctx.device_name, dtype)\n"
          ]
        }
      ]
    },
    {
      "cell_type": "code",
      "source": [
        "from sklearn.metrics import confusion_matrix\n",
        "import seaborn as sns\n",
        "import matplotlib.pyplot as plt\n",
        "\n",
        "from sklearn.metrics import classification_report\n",
        "y_pred = model.predict(np.array(X_test_batch_gamesall))\n",
        "y_pred = np.round(y_pred).flatten()\n",
        "print(classification_report(y_test_batch_gamesall, y_pred))\n",
        "\n",
        "cm = confusion_matrix(y_test_batch_gamesall, y_pred)\n",
        "plt.figure(figsize=(6,4))\n",
        "sns.heatmap(cm, annot=True, fmt='d', cmap='Blues')\n",
        "plt.xlabel(\"Predicted\")\n",
        "plt.ylabel(\"Actual\")\n",
        "plt.title(\"Confusion Matrix\")\n",
        "plt.show()\n"
      ],
      "metadata": {
        "colab": {
          "base_uri": "https://localhost:8080/",
          "height": 812
        },
        "id": "nrJUxU_9bM_z",
        "outputId": "e1ce10af-36d8-4526-c8ee-48ad60596f9b"
      },
      "execution_count": null,
      "outputs": [
        {
          "output_type": "stream",
          "name": "stdout",
          "text": [
            "\u001b[1m1/1\u001b[0m \u001b[32m━━━━━━━━━━━━━━━━━━━━\u001b[0m\u001b[37m\u001b[0m \u001b[1m0s\u001b[0m 35ms/step\n",
            "              precision    recall  f1-score   support\n",
            "\n",
            "         0.0       0.00      0.00      0.00       3.0\n",
            "         1.0       0.00      0.00      0.00       0.0\n",
            "\n",
            "    accuracy                           0.00       3.0\n",
            "   macro avg       0.00      0.00      0.00       3.0\n",
            "weighted avg       0.00      0.00      0.00       3.0\n",
            "\n"
          ]
        },
        {
          "output_type": "stream",
          "name": "stderr",
          "text": [
            "/usr/local/lib/python3.11/dist-packages/sklearn/metrics/_classification.py:1565: UndefinedMetricWarning: Precision is ill-defined and being set to 0.0 in labels with no predicted samples. Use `zero_division` parameter to control this behavior.\n",
            "  _warn_prf(average, modifier, f\"{metric.capitalize()} is\", len(result))\n",
            "/usr/local/lib/python3.11/dist-packages/sklearn/metrics/_classification.py:1565: UndefinedMetricWarning: Recall is ill-defined and being set to 0.0 in labels with no true samples. Use `zero_division` parameter to control this behavior.\n",
            "  _warn_prf(average, modifier, f\"{metric.capitalize()} is\", len(result))\n",
            "/usr/local/lib/python3.11/dist-packages/sklearn/metrics/_classification.py:1565: UndefinedMetricWarning: Precision is ill-defined and being set to 0.0 in labels with no predicted samples. Use `zero_division` parameter to control this behavior.\n",
            "  _warn_prf(average, modifier, f\"{metric.capitalize()} is\", len(result))\n",
            "/usr/local/lib/python3.11/dist-packages/sklearn/metrics/_classification.py:1565: UndefinedMetricWarning: Recall is ill-defined and being set to 0.0 in labels with no true samples. Use `zero_division` parameter to control this behavior.\n",
            "  _warn_prf(average, modifier, f\"{metric.capitalize()} is\", len(result))\n",
            "/usr/local/lib/python3.11/dist-packages/sklearn/metrics/_classification.py:1565: UndefinedMetricWarning: Precision is ill-defined and being set to 0.0 in labels with no predicted samples. Use `zero_division` parameter to control this behavior.\n",
            "  _warn_prf(average, modifier, f\"{metric.capitalize()} is\", len(result))\n",
            "/usr/local/lib/python3.11/dist-packages/sklearn/metrics/_classification.py:1565: UndefinedMetricWarning: Recall is ill-defined and being set to 0.0 in labels with no true samples. Use `zero_division` parameter to control this behavior.\n",
            "  _warn_prf(average, modifier, f\"{metric.capitalize()} is\", len(result))\n"
          ]
        },
        {
          "output_type": "display_data",
          "data": {
            "text/plain": [
              "<Figure size 600x400 with 2 Axes>"
            ],
            "image/png": "[encoded data removed]"
          },
          "metadata": {}
        }
      ]
    },
    {
      "cell_type": "code",
      "source": [
        "import numpy as np\n",
        "\n",
        "file_path = \"/content/drive/MyDrive/nicv/(4096,2048).npy\"\n",
        "nicv_values = np.load(file_path)\n",
        "\n",
        "nicv_scores = nicv_values\n",
        "n_components = 100\n",
        "file = file9\n",
        "keys =  list(file.keys())\n",
        "X_test_batch_gamesall = []\n",
        "y_test_batch_gamesall = []\n",
        "for name in keys:\n",
        "  data = []\n",
        "  label = 1\n",
        "  data = file[name]\n",
        "\n",
        "  data_tensor = tf.convert_to_tensor(data, dtype=tf.float32)\n",
        "  Zxx = tf.signal.stft(data_tensor, frame_length=4096, frame_step=2048, fft_length=4096)\n",
        "  magnitude = tf.abs(Zxx).numpy().reshape(Zxx.shape[0], -1)\n",
        "  selected_indices = np.argsort(nicv_scores)[-n_components:]\n",
        "  reduced_features = magnitude[:, selected_indices]\n",
        "  final_features = np.mean(reduced_features, axis=0)\n",
        "  X_test_batch_gamesall.append(final_features)\n",
        "  y_test_batch_gamesall.append(label)\n",
        "\n",
        "\n"
      ],
      "metadata": {
        "id": "Pe_JZBSt_Eb-",
        "colab": {
          "base_uri": "https://localhost:8080/"
        },
        "outputId": "a1435a42-cbb8-4451-a395-2e13a99408e9"
      },
      "execution_count": null,
      "outputs": [
        {
          "output_type": "stream",
          "name": "stderr",
          "text": [
            "/usr/local/lib/python3.11/dist-packages/tensorflow/python/framework/constant_op.py:108: ComplexWarning: Casting complex values to real discards the imaginary part\n",
            "  return ops.EagerTensor(value, ctx.device_name, dtype)\n"
          ]
        }
      ]
    },
    {
      "cell_type": "code",
      "source": [
        "print(y_test_batch_gamesall)"
      ],
      "metadata": {
        "id": "_pmhezVPfrhk",
        "outputId": "8d447d52-b9a9-4fa4-923d-9bfee1b6f3ae",
        "colab": {
          "base_uri": "https://localhost:8080/"
        }
      },
      "execution_count": null,
      "outputs": [
        {
          "output_type": "stream",
          "name": "stdout",
          "text": [
            "[1, 1, 1]\n"
          ]
        }
      ]
    },
    {
      "cell_type": "code",
      "source": [
        "from sklearn.metrics import confusion_matrix\n",
        "import seaborn as sns\n",
        "import matplotlib.pyplot as plt\n",
        "\n",
        "from sklearn.metrics import classification_report\n",
        "y_pred = model.predict(np.array(X_test_batch_gamesall))\n",
        "y_pred = np.round(y_pred).flatten()\n",
        "print(classification_report(y_test_batch_gamesall, y_pred))\n",
        "\n",
        "cm = confusion_matrix(y_test_batch_gamesall, y_pred)\n",
        "plt.figure(figsize=(6,4))\n",
        "sns.heatmap(cm, annot=True, fmt='d', cmap='Blues')\n",
        "plt.xlabel(\"Predicted\")\n",
        "plt.ylabel(\"Actual\")\n",
        "plt.title(\"Confusion Matrix\")\n",
        "plt.show()\n"
      ],
      "metadata": {
        "colab": {
          "base_uri": "https://localhost:8080/",
          "height": 621
        },
        "id": "lXLTmR96bc6U",
        "outputId": "513856ff-0ef2-4616-dc0b-85ee3f653475"
      },
      "execution_count": null,
      "outputs": [
        {
          "output_type": "stream",
          "name": "stdout",
          "text": [
            "\u001b[1m1/1\u001b[0m \u001b[32m━━━━━━━━━━━━━━━━━━━━\u001b[0m\u001b[37m\u001b[0m \u001b[1m0s\u001b[0m 33ms/step\n",
            "              precision    recall  f1-score   support\n",
            "\n",
            "           1       1.00      1.00      1.00         3\n",
            "\n",
            "    accuracy                           1.00         3\n",
            "   macro avg       1.00      1.00      1.00         3\n",
            "weighted avg       1.00      1.00      1.00         3\n",
            "\n"
          ]
        },
        {
          "output_type": "stream",
          "name": "stderr",
          "text": [
            "/usr/local/lib/python3.11/dist-packages/sklearn/metrics/_classification.py:407: UserWarning: A single label was found in 'y_true' and 'y_pred'. For the confusion matrix to have the correct shape, use the 'labels' parameter to pass all known labels.\n",
            "  warnings.warn(\n"
          ]
        },
        {
          "output_type": "display_data",
          "data": {
            "text/plain": [
              "<Figure size 600x400 with 2 Axes>"
            ],
            "image/png": "[encoded data removed]"
          },
          "metadata": {}
        }
      ]
    },
    {
      "cell_type": "code",
      "source": [],
      "metadata": {
        "id": "wavGCLqmbfPR"
      },
      "execution_count": null,
      "outputs": []
    }
  ],
  "metadata": {
    "colab": {
      "machine_shape": "hm",
      "provenance": [],
      "authorship_tag": "ABX9TyNmau79lHgNvGB8XMKgDpPE",
      "include_colab_link": true
    },
    "kernelspec": {
      "display_name": "Python 3",
      "name": "python3"
    },
    "language_info": {
      "name": "python"
    }
  },
  "nbformat": 4,
  "nbformat_minor": 0
}