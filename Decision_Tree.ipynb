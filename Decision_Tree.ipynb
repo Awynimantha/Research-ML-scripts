{
  "cells": [
    {
      "cell_type": "markdown",
      "metadata": {
        "id": "view-in-github",
        "colab_type": "text"
      },
      "source": [
        "<a href=\"https://colab.research.google.com/github/Awynimantha/Research-ML-scripts/blob/main/Decision_Tree.ipynb\" target=\"_parent\"><img src=\"https://colab.research.google.com/assets/colab-badge.svg\" alt=\"Open In Colab\"/></a>"
      ]
    },
    {
      "cell_type": "code",
      "execution_count": null,
      "metadata": {
        "colab": {
          "base_uri": "https://localhost:8080/"
        },
        "id": "pnxhN-RirExJ",
        "outputId": "ed60b123-36bf-4c95-8595-5b41c7bee072"
      },
      "outputs": [
        {
          "output_type": "stream",
          "name": "stdout",
          "text": [
            "Num GPUs Available: 0\n",
            "Mounted at /content/drive\n"
          ]
        }
      ],
      "source": [
        "import h5py\n",
        "import numpy as np\n",
        "\n",
        "import matplotlib.pyplot as plt\n",
        "from scipy import signal\n",
        "import gc as gc\n",
        "from sklearn.metrics import confusion_matrix\n",
        "from sklearn.metrics import classification_report\n",
        "from sklearn.neural_network import MLPClassifier\n",
        "import tensorflow as tf\n",
        "\n",
        "print(\"Num GPUs Available:\", len(tf.config.list_physical_devices('GPU')))\n",
        "\n",
        "from google.colab import drive\n",
        "drive.mount('/content/drive')\n",
        "\n",
        "file1 = h5py.File(\"/content/drive/MyDrive/signal data/big-benign.h5\", \"r\")\n",
        "file2 = h5py.File(\"/content/drive/MyDrive/signal data/big-infected.h5\", \"r\")\n",
        "file3 = h5py.File(\"/content/drive/MyDrive/signal data/test-benign-idle-5.h5\", \"r\")\n",
        "file4 = h5py.File(\"/content/drive/MyDrive/signal data/test-infected-idle-5.h5\", \"r\")\n",
        "file5 = h5py.File(\"/content/drive/MyDrive/signal data/test-data.h5\", \"r\")"
      ]
    },
    {
      "cell_type": "code",
      "execution_count": null,
      "metadata": {
        "colab": {
          "base_uri": "https://localhost:8080/"
        },
        "id": "ZGppbne9rspH",
        "outputId": "af475ebb-1afd-404e-c9e6-43a7ccbc28ce"
      },
      "outputs": [
        {
          "output_type": "stream",
          "name": "stdout",
          "text": [
            "[3.1869223  1.2546824  0.14383285 ... 0.3327192  0.32000425 0.30510756]\n"
          ]
        }
      ],
      "source": [
        "import numpy as np\n",
        "\n",
        "file_path = \"/content/drive/MyDrive/nicv/(4096,2048).npy\"\n",
        "nicv_values = np.load(file_path)\n",
        "print(nicv_values)"
      ]
    },
    {
      "cell_type": "code",
      "execution_count": null,
      "metadata": {
        "colab": {
          "base_uri": "https://localhost:8080/",
          "height": 211
        },
        "id": "-4zxFndutkF4",
        "outputId": "e3251c2d-d7d9-40b9-f392-a882ec27706e"
      },
      "outputs": [
        {
          "output_type": "error",
          "ename": "NameError",
          "evalue": "name 'nicv_values' is not defined",
          "traceback": [
            "\u001b[0;31m---------------------------------------------------------------------------\u001b[0m",
            "\u001b[0;31mNameError\u001b[0m                                 Traceback (most recent call last)",
            "\u001b[0;32m<ipython-input-2-688a5f297908>\u001b[0m in \u001b[0;36m<cell line: 0>\u001b[0;34m()\u001b[0m\n\u001b[0;32m----> 1\u001b[0;31m \u001b[0mnicv_scores\u001b[0m \u001b[0;34m=\u001b[0m \u001b[0mnicv_values\u001b[0m\u001b[0;34m\u001b[0m\u001b[0;34m\u001b[0m\u001b[0m\n\u001b[0m\u001b[1;32m      2\u001b[0m \u001b[0mn_components\u001b[0m \u001b[0;34m=\u001b[0m \u001b[0;36m100\u001b[0m\u001b[0;34m\u001b[0m\u001b[0;34m\u001b[0m\u001b[0m\n\u001b[1;32m      3\u001b[0m \u001b[0;34m\u001b[0m\u001b[0m\n\u001b[1;32m      4\u001b[0m \u001b[0mkeys\u001b[0m \u001b[0;34m=\u001b[0m  \u001b[0mlist\u001b[0m\u001b[0;34m(\u001b[0m\u001b[0mfile1\u001b[0m\u001b[0;34m.\u001b[0m\u001b[0mkeys\u001b[0m\u001b[0;34m(\u001b[0m\u001b[0;34m)\u001b[0m\u001b[0;34m)\u001b[0m\u001b[0;34m[\u001b[0m\u001b[0;34m:\u001b[0m\u001b[0;36m100\u001b[0m\u001b[0;34m]\u001b[0m \u001b[0;34m+\u001b[0m \u001b[0mlist\u001b[0m\u001b[0;34m(\u001b[0m\u001b[0mfile2\u001b[0m\u001b[0;34m.\u001b[0m\u001b[0mkeys\u001b[0m\u001b[0;34m(\u001b[0m\u001b[0;34m)\u001b[0m\u001b[0;34m)\u001b[0m\u001b[0;34m[\u001b[0m\u001b[0;36m0\u001b[0m\u001b[0;34m:\u001b[0m\u001b[0;36m100\u001b[0m\u001b[0;34m]\u001b[0m \u001b[0;34m+\u001b[0m \u001b[0mlist\u001b[0m\u001b[0;34m(\u001b[0m\u001b[0mfile1\u001b[0m\u001b[0;34m.\u001b[0m\u001b[0mkeys\u001b[0m\u001b[0;34m(\u001b[0m\u001b[0;34m)\u001b[0m\u001b[0;34m)\u001b[0m\u001b[0;34m[\u001b[0m\u001b[0;36m100\u001b[0m\u001b[0;34m:\u001b[0m\u001b[0;34m]\u001b[0m \u001b[0;34m+\u001b[0m \u001b[0mlist\u001b[0m\u001b[0;34m(\u001b[0m\u001b[0mfile2\u001b[0m\u001b[0;34m.\u001b[0m\u001b[0mkeys\u001b[0m\u001b[0;34m(\u001b[0m\u001b[0;34m)\u001b[0m\u001b[0;34m)\u001b[0m\u001b[0;34m[\u001b[0m\u001b[0;36m100\u001b[0m\u001b[0;34m:\u001b[0m\u001b[0;34m]\u001b[0m\u001b[0;34m\u001b[0m\u001b[0;34m\u001b[0m\u001b[0m\n\u001b[1;32m      5\u001b[0m \u001b[0mX_batch\u001b[0m \u001b[0;34m=\u001b[0m \u001b[0;34m[\u001b[0m\u001b[0;34m]\u001b[0m\u001b[0;34m\u001b[0m\u001b[0;34m\u001b[0m\u001b[0m\n",
            "\u001b[0;31mNameError\u001b[0m: name 'nicv_values' is not defined"
          ]
        }
      ],
      "source": [
        "import numpy as np\n",
        "nicv_scores = nicv_values\n",
        "n_components = 100\n",
        "\n",
        "keys =  list(file1.keys())[:100] + list(file2.keys())[0:100] + list(file1.keys())[100:] + list(file2.keys())[100:]\n",
        "X_batch = []\n",
        "y_batch = []\n",
        "for name in keys:\n",
        "  data = []\n",
        "  label = 0\n",
        "  if name in file1:\n",
        "    label = 0\n",
        "    data = file1[name]\n",
        "  else:\n",
        "    label = 1\n",
        "    data = file2[name]\n",
        "  data_tensor = tf.convert_to_tensor(data, dtype=tf.float32)\n",
        "  Zxx = tf.signal.stft(data_tensor, frame_length=4096, frame_step=2048, fft_length=4096)\n",
        "  magnitude = tf.abs(Zxx).numpy().reshape(Zxx.shape[0], -1)\n",
        "  selected_indices = np.argsort(nicv_scores)[-n_components:]\n",
        "  reduced_features = magnitude[:, selected_indices]\n",
        "  final_features = np.mean(reduced_features, axis=0)\n",
        "  X_batch.append(final_features)\n",
        "  y_batch.append(label)\n",
        "\n",
        "# Convert lists to numpy arrays\n",
        "X_batch = np.array(X_batch)\n",
        "y_batch = np.array(y_batch)\n",
        "\n",
        "# Save to .npy files\n",
        "np.save('/content/drive/MyDrive/stft_data/X_batch(4096,2048).npy', X_batch)\n",
        "np.save('/content/drive/MyDrive/stft_data/y_batch(4096,2048).npy', y_batch)\n"
      ]
    },
    {
      "cell_type": "code",
      "execution_count": null,
      "metadata": {
        "colab": {
          "background_save": true
        },
        "id": "UUt-0T-y9REN"
      },
      "outputs": [],
      "source": [
        "import numpy as np\n",
        "\n",
        "# Convert lists to numpy arrays\n",
        "X_batch = np.array(X_batch)\n",
        "y_batch = np.array(y_batch)\n",
        "\n",
        "# Save to .npy files\n",
        "np.save('/content/drive/MyDrive/stft_data/X_batch(4096,2048).npy', X_batch)\n",
        "np.save('/content/drive/MyDrive/stft_data/y_batch(4096,2048).npy', y_batch)\n"
      ]
    },
    {
      "cell_type": "code",
      "execution_count": null,
      "metadata": {
        "id": "v3JDmY959vdz"
      },
      "outputs": [],
      "source": [
        "# Load from .npy files\n",
        "X_batch_loaded = np.load('/content/drive/MyDrive/stft_data/X_batch(4096,2048).npy')\n",
        "y_batch_loaded = np.load('/content/drive/MyDrive/stft_data/y_batch(4096,2048).npy')\n"
      ]
    },
    {
      "cell_type": "code",
      "execution_count": null,
      "metadata": {
        "colab": {
          "base_uri": "https://localhost:8080/"
        },
        "id": "VJpLKhJypaz3",
        "outputId": "a5e752e7-c664-4268-f42b-edacdefcb39d"
      },
      "outputs": [
        {
          "output_type": "stream",
          "name": "stdout",
          "text": [
            "Random Forest Accuracy: 0.9706\n"
          ]
        }
      ],
      "source": [
        "import numpy as np\n",
        "import h5py\n",
        "import random\n",
        "import tensorflow as tf\n",
        "from tensorflow.keras.utils import Sequence\n",
        "from sklearn.ensemble import RandomForestClassifier\n",
        "from sklearn.model_selection import train_test_split\n",
        "from sklearn.metrics import accuracy_score\n",
        "\n",
        "# Load from .npy files\n",
        "X_batch_loaded = np.load('/content/drive/MyDrive/stft_data/X_batch(4096,2048).npy')\n",
        "y_batch_loaded = np.load('/content/drive/MyDrive/stft_data/y_batch(4096,2048).npy')\n",
        "\n",
        "\n",
        "# Extract all data in one go\n",
        "# generatori = STFTDataGenerator(file1, file2, batch_size=len(file1.keys()) + len(file2.keys()), n_components=100)\n",
        "# X, y = generatori[0]  # Get all data\n",
        "\n",
        "# Split into training and testing sets\n",
        "X_train, X_test, y_train, y_test = train_test_split(X_batch_loaded, y_batch_loaded, test_size=0.2, random_state=42)\n",
        "\n",
        "# Train Random Forest clcomassifier\n",
        "rf_model = RandomForestClassifier(n_estimators=100, random_state=42, max_depth=20)\n",
        "rf_model.fit(X_train, y_train)\n",
        "\n",
        "# Evaluate the model\n",
        "y_pred = rf_model.predict(X_test)\n",
        "accuracy = accuracy_score(y_test, y_pred)\n",
        "\n",
        "print(f\"Random Forest Accuracy: {accuracy:.4f}\")\n"
      ]
    },
    {
      "cell_type": "code",
      "execution_count": null,
      "metadata": {
        "colab": {
          "base_uri": "https://localhost:8080/"
        },
        "id": "k7AotgCTrDPO",
        "outputId": "449d75a2-6f91-458a-8ee3-83549e2eb8e9"
      },
      "outputs": [
        {
          "output_type": "stream",
          "name": "stdout",
          "text": [
            "              precision    recall  f1-score   support\n",
            "\n",
            "           0       1.00      0.94      0.97        53\n",
            "           1       0.94      1.00      0.97        49\n",
            "\n",
            "    accuracy                           0.97       102\n",
            "   macro avg       0.97      0.97      0.97       102\n",
            "weighted avg       0.97      0.97      0.97       102\n",
            "\n"
          ]
        }
      ],
      "source": [
        "from sklearn.metrics import classification_report\n",
        "y_pred = rf_model.predict(np.array(X_test))\n",
        "y_pred = np.round(y_pred).flatten()\n",
        "print(classification_report(y_test, y_pred))\n"
      ]
    },
    {
      "cell_type": "code",
      "execution_count": null,
      "metadata": {
        "colab": {
          "base_uri": "https://localhost:8080/",
          "height": 410
        },
        "id": "rDNXUimIA5Uh",
        "outputId": "71311632-a9d0-40d4-e77f-9d8ad7bb637a"
      },
      "outputs": [
        {
          "output_type": "display_data",
          "data": {
            "text/plain": [
              "<Figure size 600x400 with 2 Axes>"
            ],
            "image/png": "[encoded data removed]"
          },
          "metadata": {}
        }
      ],
      "source": [
        "from sklearn.metrics import confusion_matrix\n",
        "import seaborn as sns\n",
        "import matplotlib.pyplot as plt\n",
        "\n",
        "cm = confusion_matrix(y_test, y_pred)\n",
        "\n",
        "plt.figure(figsize=(6,4))\n",
        "sns.heatmap(cm, annot=True, fmt='d', cmap='Blues')\n",
        "plt.xlabel(\"Predicted\")\n",
        "plt.ylabel(\"Actual\")\n",
        "plt.title(\"Confusion Matrix\")\n",
        "plt.show()\n"
      ]
    },
    {
      "cell_type": "code",
      "execution_count": null,
      "metadata": {
        "colab": {
          "base_uri": "https://localhost:8080/",
          "height": 410
        },
        "id": "I0H3Q1htBIk-",
        "outputId": "b0371918-5e06-4d06-ecc1-f95abae45f44"
      },
      "outputs": [
        {
          "output_type": "display_data",
          "data": {
            "text/plain": [
              "<Figure size 600x400 with 1 Axes>"
            ],
            "image/png": "[encoded data removed]"
          },
          "metadata": {}
        }
      ],
      "source": [
        "from sklearn.metrics import roc_curve, auc\n",
        "import matplotlib.pyplot as plt\n",
        "\n",
        "# Predict probabilities\n",
        "y_pred_probs = rf_model.predict(np.array(X_test))\n",
        "\n",
        "# Get FPR, TPR for different thresholds\n",
        "fpr, tpr, thresholds = roc_curve(y_test, y_pred_probs)\n",
        "roc_auc = auc(fpr, tpr)\n",
        "\n",
        "# Plot\n",
        "plt.figure(figsize=(6, 4))\n",
        "plt.plot(fpr, tpr, label=f\"ROC curve (AUC = {roc_auc:.2f})\")\n",
        "plt.plot([0, 1], [0, 1], linestyle='--', color='gray')  # random guess line\n",
        "plt.xlabel(\"False PosiLtive Rate\")\n",
        "plt.ylabel(\"True Positive Rate\")\n",
        "plt.title(\"ROC Curve\")\n",
        "plt.legend()\n",
        "plt.grid(True)\n",
        "plt.show()\n"
      ]
    },
    {
      "cell_type": "code",
      "execution_count": null,
      "metadata": {
        "id": "Gs5YM3JfBRQY",
        "colab": {
          "base_uri": "https://localhost:8080/"
        },
        "outputId": "4da1060b-3023-431a-cbf4-a3af72e3d193"
      },
      "outputs": [
        {
          "output_type": "stream",
          "name": "stderr",
          "text": [
            "/usr/local/lib/python3.11/dist-packages/tensorflow/python/framework/constant_op.py:108: ComplexWarning: Casting complex values to real discards the imaginary part\n",
            "  return ops.EagerTensor(value, ctx.device_name, dtype)\n"
          ]
        }
      ],
      "source": [
        "nicv_scores = nicv_values\n",
        "n_components = 100\n",
        "\n",
        "keys =  list(file3.keys())[:100] + list(file4.keys())[0:100] + list(file3.keys())[100:] + list(file4.keys())[100:]\n",
        "X_test_batch = []\n",
        "y_test_batch = []\n",
        "for name in keys:\n",
        "  data = []\n",
        "  label = 0\n",
        "  if name in file3:\n",
        "    label = 0\n",
        "    data = file3[name]\n",
        "  else:\n",
        "    label = 1\n",
        "    data = file4[name]\n",
        "  data_tensor = tf.convert_to_tensor(data, dtype=tf.float32)\n",
        "  Zxx = tf.signal.stft(data_tensor, frame_length=4096, frame_step=2048, fft_length=4096)\n",
        "  magnitude = tf.abs(Zxx).numpy().reshape(Zxx.shape[0], -1)\n",
        "  selected_indices = np.argsort(nicv_scores)[-n_components:]\n",
        "  reduced_features = magnitude[:, selected_indices]\n",
        "  final_features = np.mean(reduced_features, axis=0)\n",
        "  X_test_batch.append(final_features)\n",
        "  y_test_batch.append(label)\n",
        "\n",
        "\n"
      ]
    },
    {
      "cell_type": "code",
      "source": [
        "nicv_scores = nicv_values\n",
        "n_components = 100\n",
        "\n",
        "keys =  list(file5.keys())\n",
        "for name in keys:\n",
        "\n",
        "  data = []\n",
        "  label = 0\n",
        "  if(file5[name].attrs.get('label') == \"benign\"):\n",
        "    label = 0\n",
        "    data = file5[name]\n",
        "  else:\n",
        "    label = 1\n",
        "    data = file5[name]\n",
        "  data_tensor = tf.convert_to_tensor(data, dtype=tf.float32)\n",
        "  Zxx = tf.signal.stft(data_tensor, frame_length=4096, frame_step=2048, fft_length=4096)\n",
        "  magnitude = tf.abs(Zxx).numpy().reshape(Zxx.shape[0], -1)\n",
        "  selected_indices = np.argsort(nicv_scores)[-n_components:]\n",
        "  reduced_features = magnitude[:, selected_indices]\n",
        "  final_features = np.mean(reduced_features, axis=0)\n",
        "  X_test_batch.append(final_features)\n",
        "  y_test_batch.append(label)\n",
        "\n"
      ],
      "metadata": {
        "id": "C8a8Dnw02qqr"
      },
      "execution_count": null,
      "outputs": []
    },
    {
      "cell_type": "markdown",
      "source": [
        "# Result with noise data"
      ],
      "metadata": {
        "id": "MHF13QXPn-As"
      }
    },
    {
      "cell_type": "code",
      "source": [
        "import numpy as np\n",
        "\n",
        "# Convert lists to numpy arrays\n",
        "X_batch = np.array(X_test_batch)\n",
        "y_batch = np.array(y_test_batch)\n",
        "\n",
        "# Save to .npy files\n",
        "np.save('/content/drive/MyDrive/stft_data/X_batch(4096,2048)_test_noise.npy', X_batch)\n",
        "np.save('/content/drive/MyDrive/stft_data/y_batch(4096,2048)_test_noise.npy', y_batch)\n"
      ],
      "metadata": {
        "id": "Nc3TiLsSdKc6"
      },
      "execution_count": null,
      "outputs": []
    },
    {
      "cell_type": "code",
      "source": [
        "X_test_batch = np.load(\"/content/drive/MyDrive/stft_data/X_batch(4096,2048)_test_noise.npy\", \"r\")\n",
        "y_test_batch = np.load(\"/content/drive/MyDrive/stft_data/y_batch(4096,2048)_test_noise.npy\", \"r\")"
      ],
      "metadata": {
        "id": "q6mPcjp2c34u"
      },
      "execution_count": null,
      "outputs": []
    },
    {
      "cell_type": "code",
      "source": [
        "temp_X = X_test_batch\n",
        "temp_y = y_test_batch"
      ],
      "metadata": {
        "id": "4Wf-ZeAuT3MG"
      },
      "execution_count": null,
      "outputs": []
    },
    {
      "cell_type": "code",
      "source": [
        "# prompt: turn np array in to a list\n",
        "\n",
        "# Convert the numpy array X_test_batch to a list\n",
        "X_test_batch = X_test_batch.tolist()\n",
        "\n",
        "# Convert the numpy array y_test_batch to a list\n",
        "y_test_batch = y_test_batch.tolist()\n",
        "\n",
        "\n"
      ],
      "metadata": {
        "id": "hYdN4S4Rj3Se"
      },
      "execution_count": null,
      "outputs": []
    },
    {
      "cell_type": "code",
      "source": [
        "import numpy as np\n",
        "import tensorflow as tf\n",
        "\n",
        "def add_gaussian_noise(signal, mean=0.0, std=0.005): #0.002,0.003\n",
        "    noise = np.random.normal(mean, std, size=signal.shape)\n",
        "    return signal + noise\n",
        "\n",
        "nicv_scores = nicv_values\n",
        "n_components = 100\n",
        "\n",
        "keys = list(file3.keys())[3:8] + list(file4.keys())[3:9]\n",
        "\n",
        "\n",
        "for name in keys:\n",
        "    label = 0\n",
        "    if name in file3:\n",
        "        label = 0\n",
        "        data = file3[name]\n",
        "    else:\n",
        "        label = 1\n",
        "        data = file4[name]\n",
        "\n",
        "    # 👉 Add noise here\n",
        "    data_noisy = add_gaussian_noise(np.array(data))\n",
        "\n",
        "    # Tensor conversion and STFT\n",
        "    data_tensor = tf.convert_to_tensor(data_noisy, dtype=tf.float32)\n",
        "    Zxx = tf.signal.stft(data_tensor, frame_length=4096, frame_step=2048, fft_length=4096)\n",
        "    magnitude = tf.abs(Zxx).numpy().reshape(Zxx.shape[0], -1)\n",
        "\n",
        "    # NICV-based feature selection\n",
        "    selected_indices = np.argsort(nicv_scores)[-n_components:]\n",
        "    reduced_features = magnitude[:, selected_indices]\n",
        "\n",
        "    # Final feature for model\n",
        "    final_features = np.mean(reduced_features, axis=0)\n",
        "    X_test_batch.append(final_features)\n",
        "    y_test_batch.append(label)\n"
      ],
      "metadata": {
        "colab": {
          "base_uri": "https://localhost:8080/"
        },
        "id": "vXkzPasuN99I",
        "outputId": "3ed1f110-2e2b-4f24-eb07-fd2433cb7b7b"
      },
      "execution_count": null,
      "outputs": [
        {
          "output_type": "stream",
          "name": "stderr",
          "text": [
            "/usr/local/lib/python3.11/dist-packages/tensorflow/python/framework/constant_op.py:108: ComplexWarning: Casting complex values to real discards the imaginary part\n",
            "  return ops.EagerTensor(value, ctx.device_name, dtype)\n"
          ]
        }
      ]
    },
    {
      "cell_type": "code",
      "source": [
        "# Evaluate the model\n",
        "y_pred = rf_model.predict(X_test_batch)\n",
        "accuracy = accuracy_score(y_test_batch, y_pred)\n",
        "\n",
        "print(f\"Random Forest Accuracy: {accuracy:.4f}\")"
      ],
      "metadata": {
        "colab": {
          "base_uri": "https://localhost:8080/"
        },
        "id": "eUFz4Vc-3YI2",
        "outputId": "c481b23e-1d54-4662-bcec-519a21cca6b2"
      },
      "execution_count": null,
      "outputs": [
        {
          "output_type": "stream",
          "name": "stdout",
          "text": [
            "Random Forest Accuracy: 0.8200\n"
          ]
        }
      ]
    },
    {
      "cell_type": "code",
      "source": [
        "from sklearn.metrics import classification_report\n",
        "y_pred = rf_model.predict(np.array(X_test_batch))\n",
        "y_pred = np.round(y_pred).flatten()\n",
        "print(classification_report(y_test_batch, y_pred))\n"
      ],
      "metadata": {
        "colab": {
          "base_uri": "https://localhost:8080/"
        },
        "id": "ysVCP8bm51LZ",
        "outputId": "3b13004d-4ff3-4623-dd8c-b633e4c8ece7"
      },
      "execution_count": null,
      "outputs": [
        {
          "output_type": "stream",
          "name": "stdout",
          "text": [
            "              precision    recall  f1-score   support\n",
            "\n",
            "           0       0.80      0.89      0.84        53\n",
            "           1       0.85      0.74      0.80        47\n",
            "\n",
            "    accuracy                           0.82       100\n",
            "   macro avg       0.83      0.82      0.82       100\n",
            "weighted avg       0.82      0.82      0.82       100\n",
            "\n"
          ]
        }
      ]
    },
    {
      "cell_type": "code",
      "source": [
        "from sklearn.metrics import confusion_matrix\n",
        "import seaborn as sns\n",
        "import matplotlib.pyplot as plt\n",
        "\n",
        "cm = confusion_matrix(y_test_batch, y_pred)\n",
        "\n",
        "plt.figure(figsize=(6,4))\n",
        "sns.heatmap(cm, annot=True, fmt='d', cmap='Blues')\n",
        "plt.xlabel(\"Predicted\")\n",
        "plt.ylabel(\"Actual\")\n",
        "plt.title(\"Confusion Matrix\")\n",
        "plt.show()\n"
      ],
      "metadata": {
        "colab": {
          "base_uri": "https://localhost:8080/",
          "height": 410
        },
        "id": "Pr25Uknd6AQ0",
        "outputId": "8b3fe37a-2d6a-4253-9112-68561d231749"
      },
      "execution_count": null,
      "outputs": [
        {
          "output_type": "display_data",
          "data": {
            "text/plain": [
              "<Figure size 600x400 with 2 Axes>"
            ],
            "image/png": "[encoded data removed]"
          },
          "metadata": {}
        }
      ]
    },
    {
      "cell_type": "code",
      "source": [
        "from sklearn.metrics import roc_curve, auc\n",
        "import matplotlib.pyplot as plt\n",
        "\n",
        "# Predict probabilities\n",
        "y_pred_probs = rf_model.predict(np.array(X_test_batch))\n",
        "\n",
        "# Get FPR, TPR for different thresholds\n",
        "fpr, tpr, thresholds = roc_curve(y_test_batch, y_pred_probs)\n",
        "roc_auc = auc(fpr, tpr)\n",
        "\n",
        "# Plot\n",
        "plt.figure(figsize=(6, 4))\n",
        "plt.plot(fpr, tpr, label=f\"ROC curve (AUC = {roc_auc:.2f})\")\n",
        "plt.plot([0, 1], [0, 1], linestyle='--', color='gray')  # random guess line\n",
        "plt.xlabel(\"False Positive Rate\")\n",
        "plt.ylabel(\"True Positive Rate\")\n",
        "plt.title(\"ROC Curve\")\n",
        "plt.legend()\n",
        "plt.grid(True)\n",
        "plt.show()\n"
      ],
      "metadata": {
        "colab": {
          "base_uri": "https://localhost:8080/",
          "height": 410
        },
        "id": "nJDg-gthzSkq",
        "outputId": "41db1476-cd57-4f54-a057-746e8fc7173e"
      },
      "execution_count": null,
      "outputs": [
        {
          "output_type": "display_data",
          "data": {
            "text/plain": [
              "<Figure size 600x400 with 1 Axes>"
            ],
            "image/png": "[encoded data removed]"
          },
          "metadata": {}
        }
      ]
    },
    {
      "cell_type": "code",
      "source": [
        "file6 = h5py.File(\"/content/drive/MyDrive/signal data/benign-single.h5\", \"r\")\n",
        "file7 = h5py.File(\"/content/drive/MyDrive/signal data/infected-gamesall.h5\", \"r\")\n",
        "file8 = h5py.File(\"/content/drive/MyDrive/signal data/infected-edge.h5\", \"r\")\n",
        "file9 = h5py.File(\"/content/drive/MyDrive/signal data/benign-gamesall.h5\", \"r\")"
      ],
      "metadata": {
        "id": "1a1w2wWi8hzs"
      },
      "execution_count": null,
      "outputs": []
    },
    {
      "cell_type": "markdown",
      "source": [
        "# Infected gamesall"
      ],
      "metadata": {
        "id": "zAqFFik38cZi"
      }
    },
    {
      "cell_type": "code",
      "source": [
        "import numpy as np\n",
        "\n",
        "file_path = \"/content/drive/MyDrive/nicv/(4096,2048).npy\"\n",
        "nicv_values = np.load(file_path)\n",
        "\n",
        "nicv_scores = nicv_values\n",
        "n_components = 100\n",
        "file = file7\n",
        "keys =  list(file.keys())\n",
        "X_test_batch_gamesall = []\n",
        "y_test_batch_gamesall = []\n",
        "for name in keys:\n",
        "  data = []\n",
        "  label = 1\n",
        "  data = file[name]\n",
        "\n",
        "  data_tensor = tf.convert_to_tensor(data, dtype=tf.float32)\n",
        "  Zxx = tf.signal.stft(data_tensor, frame_length=4096, frame_step=2048, fft_length=4096)\n",
        "  magnitude = tf.abs(Zxx).numpy().reshape(Zxx.shape[0], -1)\n",
        "  selected_indices = np.argsort(nicv_scores)[-n_components:]\n",
        "  reduced_features = magnitude[:, selected_indices]\n",
        "  final_features = np.mean(reduced_features, axis=0)\n",
        "  X_test_batch_gamesall.append(final_features)\n",
        "  y_test_batch_gamesall.append(label)\n",
        "\n",
        "\n"
      ],
      "metadata": {
        "colab": {
          "base_uri": "https://localhost:8080/"
        },
        "id": "BSolkdK_gzKH",
        "outputId": "3d9ea41c-d8e4-49de-bf47-59d73e5de200"
      },
      "execution_count": null,
      "outputs": [
        {
          "output_type": "stream",
          "name": "stderr",
          "text": [
            "/usr/local/lib/python3.11/dist-packages/tensorflow/python/framework/constant_op.py:108: ComplexWarning: Casting complex values to real discards the imaginary part\n",
            "  return ops.EagerTensor(value, ctx.device_name, dtype)\n"
          ]
        }
      ]
    },
    {
      "cell_type": "code",
      "source": [
        "from sklearn.metrics import classification_report\n",
        "y_pred = rf_model.predict(np.array(X_test_batch_gamesall))\n",
        "y_pred = np.round(y_pred).flatten()\n",
        "print(classification_report(y_test_batch_gamesall, y_pred))\n"
      ],
      "metadata": {
        "colab": {
          "base_uri": "https://localhost:8080/"
        },
        "id": "yLp2DPL194Rg",
        "outputId": "77d531ae-a496-4eda-cde5-6555d711af32"
      },
      "execution_count": null,
      "outputs": [
        {
          "output_type": "stream",
          "name": "stdout",
          "text": [
            "              precision    recall  f1-score   support\n",
            "\n",
            "           0       0.00      0.00      0.00       0.0\n",
            "           1       0.00      0.00      0.00       3.0\n",
            "\n",
            "    accuracy                           0.00       3.0\n",
            "   macro avg       0.00      0.00      0.00       3.0\n",
            "weighted avg       0.00      0.00      0.00       3.0\n",
            "\n"
          ]
        },
        {
          "output_type": "stream",
          "name": "stderr",
          "text": [
            "/usr/local/lib/python3.11/dist-packages/sklearn/metrics/_classification.py:1565: UndefinedMetricWarning: Precision is ill-defined and being set to 0.0 in labels with no predicted samples. Use `zero_division` parameter to control this behavior.\n",
            "  _warn_prf(average, modifier, f\"{metric.capitalize()} is\", len(result))\n",
            "/usr/local/lib/python3.11/dist-packages/sklearn/metrics/_classification.py:1565: UndefinedMetricWarning: Recall is ill-defined and being set to 0.0 in labels with no true samples. Use `zero_division` parameter to control this behavior.\n",
            "  _warn_prf(average, modifier, f\"{metric.capitalize()} is\", len(result))\n",
            "/usr/local/lib/python3.11/dist-packages/sklearn/metrics/_classification.py:1565: UndefinedMetricWarning: Precision is ill-defined and being set to 0.0 in labels with no predicted samples. Use `zero_division` parameter to control this behavior.\n",
            "  _warn_prf(average, modifier, f\"{metric.capitalize()} is\", len(result))\n",
            "/usr/local/lib/python3.11/dist-packages/sklearn/metrics/_classification.py:1565: UndefinedMetricWarning: Recall is ill-defined and being set to 0.0 in labels with no true samples. Use `zero_division` parameter to control this behavior.\n",
            "  _warn_prf(average, modifier, f\"{metric.capitalize()} is\", len(result))\n",
            "/usr/local/lib/python3.11/dist-packages/sklearn/metrics/_classification.py:1565: UndefinedMetricWarning: Precision is ill-defined and being set to 0.0 in labels with no predicted samples. Use `zero_division` parameter to control this behavior.\n",
            "  _warn_prf(average, modifier, f\"{metric.capitalize()} is\", len(result))\n",
            "/usr/local/lib/python3.11/dist-packages/sklearn/metrics/_classification.py:1565: UndefinedMetricWarning: Recall is ill-defined and being set to 0.0 in labels with no true samples. Use `zero_division` parameter to control this behavior.\n",
            "  _warn_prf(average, modifier, f\"{metric.capitalize()} is\", len(result))\n"
          ]
        }
      ]
    },
    {
      "cell_type": "code",
      "source": [
        "from sklearn.metrics import confusion_matrix\n",
        "import seaborn as sns\n",
        "import matplotlib.pyplot as plt\n",
        "\n",
        "cm = confusion_matrix(y_test_batch_gamesall, y_pred)\n",
        "\n",
        "plt.figure(figsize=(6,4))\n",
        "sns.heatmap(cm, annot=True, fmt='d', cmap='Blues')\n",
        "plt.xlabel(\"Predicted\")\n",
        "plt.ylabel(\"Actual\")\n",
        "plt.title(\"Confusion Matrix\")\n",
        "plt.show()\n"
      ],
      "metadata": {
        "colab": {
          "base_uri": "https://localhost:8080/",
          "height": 410
        },
        "id": "0anblK5j-FL3",
        "outputId": "64d3c059-cb72-45f4-af76-06c70efbcf8b"
      },
      "execution_count": null,
      "outputs": [
        {
          "output_type": "display_data",
          "data": {
            "text/plain": [
              "<Figure size 600x400 with 2 Axes>"
            ],
            "image/png": "[encoded data removed]"
          },
          "metadata": {}
        }
      ]
    },
    {
      "cell_type": "code",
      "source": [
        "import numpy as np\n",
        "\n",
        "file_path = \"/content/drive/MyDrive/nicv/(4096,2048).npy\"\n",
        "nicv_values = np.load(file_path)\n",
        "\n",
        "nicv_scores = nicv_values\n",
        "n_components = 100\n",
        "file = file6\n",
        "keys =  list(file.keys())\n",
        "X_test_batch_vm = []\n",
        "y_test_batch_vm = []\n",
        "for name in keys:\n",
        "  data = []\n",
        "  label = 0\n",
        "  data = file[name]\n",
        "\n",
        "  data_tensor = tf.convert_to_tensor(data, dtype=tf.float32)\n",
        "  Zxx = tf.signal.stft(data_tensor, frame_length=4096, frame_step=2048, fft_length=4096)\n",
        "  magnitude = tf.abs(Zxx).numpy().reshape(Zxx.shape[0], -1)\n",
        "  selected_indices = np.argsort(nicv_scores)[-n_components:]\n",
        "  reduced_features = magnitude[:, selected_indices]\n",
        "  final_features = np.mean(reduced_features, axis=0)\n",
        "  X_test_batch_vm.append(final_features)\n",
        "  y_test_batch_vm.append(label)\n",
        "\n",
        "\n"
      ],
      "metadata": {
        "colab": {
          "base_uri": "https://localhost:8080/"
        },
        "id": "CYF37IM_84Je",
        "outputId": "3ab4d9d2-2ef4-4ee3-b762-9b01ff8d66e5"
      },
      "execution_count": null,
      "outputs": [
        {
          "output_type": "stream",
          "name": "stderr",
          "text": [
            "/usr/local/lib/python3.11/dist-packages/tensorflow/python/framework/constant_op.py:108: ComplexWarning: Casting complex values to real discards the imaginary part\n",
            "  return ops.EagerTensor(value, ctx.device_name, dtype)\n"
          ]
        }
      ]
    },
    {
      "cell_type": "code",
      "source": [
        "from sklearn.metrics import classification_report\n",
        "y_pred = rf_model.predict(np.array(X_test_batch_vm))\n",
        "y_pred = np.round(y_pred).flatten()\n",
        "print(classification_report(y_test_batch_vm, y_pred))\n"
      ],
      "metadata": {
        "colab": {
          "base_uri": "https://localhost:8080/"
        },
        "id": "F5JNItiZ95Qv",
        "outputId": "17055bf1-a107-4dd1-f485-82a3668b8318"
      },
      "execution_count": null,
      "outputs": [
        {
          "output_type": "stream",
          "name": "stdout",
          "text": [
            "              precision    recall  f1-score   support\n",
            "\n",
            "           0       1.00      1.00      1.00         3\n",
            "\n",
            "    accuracy                           1.00         3\n",
            "   macro avg       1.00      1.00      1.00         3\n",
            "weighted avg       1.00      1.00      1.00         3\n",
            "\n"
          ]
        }
      ]
    },
    {
      "cell_type": "code",
      "source": [
        "from sklearn.metrics import confusion_matrix\n",
        "import seaborn as sns\n",
        "import matplotlib.pyplot as plt\n",
        "\n",
        "cm = confusion_matrix(y_test_batch_vm, y_pred)\n",
        "\n",
        "plt.figure(figsize=(6,4))\n",
        "sns.heatmap(cm, annot=True, fmt='d', cmap='Blues')\n",
        "plt.xlabel(\"Predicted\")\n",
        "plt.ylabel(\"Actual\")\n",
        "plt.title(\"Confusion Matrix\")\n",
        "plt.show()\n"
      ],
      "metadata": {
        "colab": {
          "base_uri": "https://localhost:8080/",
          "height": 465
        },
        "id": "dD9fs-F19vL-",
        "outputId": "7f52e9b6-bf9d-4e5c-d30f-171d21ef3da2"
      },
      "execution_count": null,
      "outputs": [
        {
          "output_type": "stream",
          "name": "stderr",
          "text": [
            "/usr/local/lib/python3.11/dist-packages/sklearn/metrics/_classification.py:407: UserWarning: A single label was found in 'y_true' and 'y_pred'. For the confusion matrix to have the correct shape, use the 'labels' parameter to pass all known labels.\n",
            "  warnings.warn(\n"
          ]
        },
        {
          "output_type": "display_data",
          "data": {
            "text/plain": [
              "<Figure size 600x400 with 2 Axes>"
            ],
            "image/png": "[encoded data removed]"
          },
          "metadata": {}
        }
      ]
    },
    {
      "cell_type": "code",
      "source": [
        "import numpy as np\n",
        "\n",
        "file_path = \"/content/drive/MyDrive/nicv/(4096,2048).npy\"\n",
        "nicv_values = np.load(file_path)\n",
        "\n",
        "nicv_scores = nicv_values\n",
        "n_components = 100\n",
        "file = file9\n",
        "keys =  list(file.keys())\n",
        "X_test_batch_infected_gamesall = []\n",
        "y_test_batch_infected_gamesall = []\n",
        "for name in keys:\n",
        "  data = []\n",
        "  label = 1\n",
        "  data = file[name]\n",
        "\n",
        "  data_tensor = tf.convert_to_tensor(data, dtype=tf.float32)\n",
        "  Zxx = tf.signal.stft(data_tensor, frame_length=4096, frame_step=2048, fft_length=4096)\n",
        "  magnitude = tf.abs(Zxx).numpy().reshape(Zxx.shape[0], -1)\n",
        "  selected_indices = np.argsort(nicv_scores)[-n_components:]\n",
        "  reduced_features = magnitude[:, selected_indices]\n",
        "  final_features = np.mean(reduced_features, axis=0)\n",
        "  X_test_batch_infected_gamesall.append(final_features)\n",
        "  y_test_batch_infected_gamesall.append(label)\n",
        "\n",
        "\n"
      ],
      "metadata": {
        "colab": {
          "base_uri": "https://localhost:8080/"
        },
        "id": "iqfAd6CmAntb",
        "outputId": "180f06fa-94ef-44e4-c439-e8ec9d7643fc"
      },
      "execution_count": null,
      "outputs": [
        {
          "output_type": "stream",
          "name": "stderr",
          "text": [
            "/usr/local/lib/python3.11/dist-packages/tensorflow/python/framework/constant_op.py:108: ComplexWarning: Casting complex values to real discards the imaginary part\n",
            "  return ops.EagerTensor(value, ctx.device_name, dtype)\n"
          ]
        }
      ]
    },
    {
      "cell_type": "code",
      "source": [
        "from sklearn.metrics import classification_report\n",
        "y_pred = rf_model.predict(np.array(X_test_batch_infected_gamesall))\n",
        "y_pred = np.round(y_pred).flatten()\n",
        "print(classification_report(y_test_batch_infected_gamesall, y_pred))\n"
      ],
      "metadata": {
        "colab": {
          "base_uri": "https://localhost:8080/"
        },
        "id": "ptWSF0J1_tYP",
        "outputId": "c5393ccb-5152-407e-c7a1-23d455348ba2"
      },
      "execution_count": null,
      "outputs": [
        {
          "output_type": "stream",
          "name": "stdout",
          "text": [
            "              precision    recall  f1-score   support\n",
            "\n",
            "           0       0.00      0.00      0.00         0\n",
            "           1       1.00      0.12      0.22         8\n",
            "\n",
            "    accuracy                           0.12         8\n",
            "   macro avg       0.50      0.06      0.11         8\n",
            "weighted avg       1.00      0.12      0.22         8\n",
            "\n"
          ]
        },
        {
          "output_type": "stream",
          "name": "stderr",
          "text": [
            "/usr/local/lib/python3.11/dist-packages/sklearn/metrics/_classification.py:1565: UndefinedMetricWarning: Recall is ill-defined and being set to 0.0 in labels with no true samples. Use `zero_division` parameter to control this behavior.\n",
            "  _warn_prf(average, modifier, f\"{metric.capitalize()} is\", len(result))\n",
            "/usr/local/lib/python3.11/dist-packages/sklearn/metrics/_classification.py:1565: UndefinedMetricWarning: Recall is ill-defined and being set to 0.0 in labels with no true samples. Use `zero_division` parameter to control this behavior.\n",
            "  _warn_prf(average, modifier, f\"{metric.capitalize()} is\", len(result))\n",
            "/usr/local/lib/python3.11/dist-packages/sklearn/metrics/_classification.py:1565: UndefinedMetricWarning: Recall is ill-defined and being set to 0.0 in labels with no true samples. Use `zero_division` parameter to control this behavior.\n",
            "  _warn_prf(average, modifier, f\"{metric.capitalize()} is\", len(result))\n"
          ]
        }
      ]
    },
    {
      "cell_type": "code",
      "source": [
        "from sklearn.metrics import confusion_matrix\n",
        "import seaborn as sns\n",
        "import matplotlib.pyplot as plt\n",
        "\n",
        "cm = confusion_matrix(y_test_batch_infected_gamesall, y_pred)\n",
        "\n",
        "plt.figure(figsize=(6,4))\n",
        "sns.heatmap(cm, annot=True, fmt='d', cmap='Blues')\n",
        "plt.xlabel(\"Predicted\")\n",
        "plt.ylabel(\"Actual\")\n",
        "plt.title(\"Confusion Matrix\")\n",
        "plt.show()\n"
      ],
      "metadata": {
        "colab": {
          "base_uri": "https://localhost:8080/",
          "height": 410
        },
        "id": "Vf-gNQFGBHXs",
        "outputId": "f4da81be-9802-4e98-fa1c-da74814c6fd4"
      },
      "execution_count": null,
      "outputs": [
        {
          "output_type": "display_data",
          "data": {
            "text/plain": [
              "<Figure size 600x400 with 2 Axes>"
            ],
            "image/png": "[encoded data removed]"
          },
          "metadata": {}
        }
      ]
    },
    {
      "cell_type": "code",
      "source": [
        "import numpy as np\n",
        "\n",
        "file_path = \"/content/drive/MyDrive/nicv/(4096,2048).npy\"\n",
        "nicv_values = np.load(file_path)\n",
        "\n",
        "nicv_scores = nicv_values\n",
        "n_components = 100\n",
        "file = file8\n",
        "keys =  list(file.keys())\n",
        "X_test_batch_infected_gamesall = []\n",
        "y_test_batch_infected_gamesall = []\n",
        "for name in keys:\n",
        "  data = []\n",
        "  label = 0\n",
        "  data = file[name]\n",
        "\n",
        "  data_tensor = tf.convert_to_tensor(data, dtype=tf.float32)\n",
        "  Zxx = tf.signal.stft(data_tensor, frame_length=4096, frame_step=2048, fft_length=4096)\n",
        "  magnitude = tf.abs(Zxx).numpy().reshape(Zxx.shape[0], -1)\n",
        "  selected_indices = np.argsort(nicv_scores)[-n_components:]\n",
        "  reduced_features = magnitude[:, selected_indices]\n",
        "  final_features = np.mean(reduced_features, axis=0)\n",
        "  X_test_batch_infected_gamesall.append(final_features)\n",
        "  y_test_batch_infected_gamesall.append(label)\n",
        "\n",
        "\n"
      ],
      "metadata": {
        "id": "eSasFZ0DBNEp",
        "colab": {
          "base_uri": "https://localhost:8080/"
        },
        "outputId": "ea455311-c65c-4a6e-d462-97ca5d1a5a4d"
      },
      "execution_count": null,
      "outputs": [
        {
          "output_type": "stream",
          "name": "stderr",
          "text": [
            "/usr/local/lib/python3.11/dist-packages/tensorflow/python/framework/constant_op.py:108: ComplexWarning: Casting complex values to real discards the imaginary part\n",
            "  return ops.EagerTensor(value, ctx.device_name, dtype)\n"
          ]
        }
      ]
    },
    {
      "cell_type": "code",
      "source": [
        "from sklearn.metrics import classification_report\n",
        "y_pred = rf_model.predict(np.array(X_test_batch_infected_gamesall))\n",
        "y_pred = np.round(y_pred).flatten()\n",
        "print(classification_report(y_test_batch_infected_gamesall, y_pred))\n"
      ],
      "metadata": {
        "colab": {
          "base_uri": "https://localhost:8080/"
        },
        "id": "aS8vHRF-9FWg",
        "outputId": "57afe793-af55-4f4e-b13b-87ad6353c4d7"
      },
      "execution_count": null,
      "outputs": [
        {
          "output_type": "stream",
          "name": "stdout",
          "text": [
            "              precision    recall  f1-score   support\n",
            "\n",
            "           0       1.00      1.00      1.00         2\n",
            "\n",
            "    accuracy                           1.00         2\n",
            "   macro avg       1.00      1.00      1.00         2\n",
            "weighted avg       1.00      1.00      1.00         2\n",
            "\n"
          ]
        }
      ]
    },
    {
      "cell_type": "code",
      "source": [
        "from sklearn.metrics import confusion_matrix\n",
        "import seaborn as sns\n",
        "import matplotlib.pyplot as plt\n",
        "\n",
        "cm = confusion_matrix(y_test_batch_infected_gamesall, y_pred)\n",
        "\n",
        "plt.figure(figsize=(6,4))\n",
        "sns.heatmap(cm, annot=True, fmt='d', cmap='Blues')\n",
        "plt.xlabel(\"Predicted\")\n",
        "plt.ylabel(\"Actual\")\n",
        "plt.title(\"Confusion Matrix\")\n",
        "plt.show()\n"
      ],
      "metadata": {
        "colab": {
          "base_uri": "https://localhost:8080/",
          "height": 465
        },
        "id": "VX2JyKln9Kvf",
        "outputId": "bbef271d-6d21-42d1-e8e5-1a97f14847b9"
      },
      "execution_count": null,
      "outputs": [
        {
          "output_type": "stream",
          "name": "stderr",
          "text": [
            "/usr/local/lib/python3.11/dist-packages/sklearn/metrics/_classification.py:407: UserWarning: A single label was found in 'y_true' and 'y_pred'. For the confusion matrix to have the correct shape, use the 'labels' parameter to pass all known labels.\n",
            "  warnings.warn(\n"
          ]
        },
        {
          "output_type": "display_data",
          "data": {
            "text/plain": [
              "<Figure size 600x400 with 2 Axes>"
            ],
            "image/png": "[encoded data removed]"
          },
          "metadata": {}
        }
      ]
    },
    {
      "cell_type": "code",
      "source": [],
      "metadata": {
        "id": "QwJZRAWS9pE7"
      },
      "execution_count": null,
      "outputs": []
    }
  ],
  "metadata": {
    "colab": {
      "provenance": [],
      "authorship_tag": "ABX9TyPmBTw99Y0JSUouRvN1p4FB",
      "include_colab_link": true
    },
    "kernelspec": {
      "display_name": "Python 3",
      "name": "python3"
    },
    "language_info": {
      "name": "python"
    }
  },
  "nbformat": 4,
  "nbformat_minor": 0
}